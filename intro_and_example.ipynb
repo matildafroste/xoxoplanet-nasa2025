{
 "cells": [
  {
   "cell_type": "markdown",
   "id": "6ccb76bb",
   "metadata": {},
   "source": [
    "# Hackathon Project Guide: Exoplanet Detection with AI\n",
    "\n",
    "## 1. Exploratory Data Analysis (EDA)\n",
    "- Inspect distributions of key variables (period, depth, S/N).\n",
    "- Explore label imbalance (planet candidates vs non-candidates).\n",
    "- Visualize raw and folded light curves (helps storytelling).\n",
    "\n",
    "## 2. Feature Engineering (Classical ML path)\n",
    "- Use TSFRESH or similar to extract time-series features (~700–800 features).\n",
    "- Add astrophysical features: transit depth, duration, period (if available).\n",
    "- Handle missing values, scaling, and class imbalance (e.g., class weights in LightGBM, oversampling like SMOTE).\n",
    "\n",
    "## 3. Model Development\n",
    "\n",
    "### Classical ML Baseline (fast + interpretable)\n",
    "- LightGBM / XGBoost (Gradient Boosted Trees).\n",
    "- Evaluate with AUC & recall as key metrics (don’t miss planets).\n",
    "- Feature importance plots → interpretability.\n",
    "\n",
    "### Deep Learning Approach (benchmark & comparison)\n",
    "- **Input:** Raw or minimally processed light curves (1D arrays of flux vs time).\n",
    "- **Options:**\n",
    "  - 1D CNNs (common for light curve classification, capture local dips).\n",
    "  - RNN/LSTM/GRU (sequence modeling).\n",
    "  - Or reuse architectures like Astronet (Shallue & Vanderburg 2018).\n",
    "- **Training considerations:**\n",
    "  - Normalize/standardize light curves.\n",
    "  - Handle class imbalance (weighted loss or oversampling).\n",
    "  - Use GPU if available (but keep model small for hackathon time).\n",
    "\n"
   ]
  },
  {
   "cell_type": "code",
   "execution_count": null,
   "id": "439e021e",
   "metadata": {},
   "outputs": [],
   "source": []
  }
 ],
 "metadata": {
  "kernelspec": {
   "display_name": "venv",
   "language": "python",
   "name": "python3"
  },
  "language_info": {
   "name": "python",
   "version": "3.13.1"
  }
 },
 "nbformat": 4,
 "nbformat_minor": 5
}
