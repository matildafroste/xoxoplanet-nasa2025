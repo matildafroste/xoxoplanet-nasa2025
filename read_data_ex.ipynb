{
 "cells": [
  {
   "cell_type": "markdown",
   "id": "74550c75",
   "metadata": {},
   "source": [
    "## Read data"
   ]
  },
  {
   "cell_type": "markdown",
   "id": "949fe81c",
   "metadata": {},
   "source": [
    "### Read libraries"
   ]
  },
  {
   "cell_type": "code",
   "execution_count": 6,
   "id": "783fffda",
   "metadata": {},
   "outputs": [],
   "source": [
    "from src.data_preprocessing import drop_empty_cols_and_rows, drop_columns"
   ]
  },
  {
   "cell_type": "markdown",
   "id": "555dea81",
   "metadata": {},
   "source": [
    "### Read data"
   ]
  },
  {
   "cell_type": "code",
   "execution_count": 7,
   "id": "6d2a2a68",
   "metadata": {},
   "outputs": [
    {
     "data": {
      "application/vnd.microsoft.datawrangler.viewer.v0+json": {
       "columns": [
        {
         "name": "index",
         "rawType": "int64",
         "type": "integer"
        },
        {
         "name": "rowid",
         "rawType": "int64",
         "type": "integer"
        },
        {
         "name": "kepid",
         "rawType": "int64",
         "type": "integer"
        },
        {
         "name": "kepoi_name",
         "rawType": "object",
         "type": "string"
        },
        {
         "name": "kepler_name",
         "rawType": "object",
         "type": "unknown"
        },
        {
         "name": "koi_disposition",
         "rawType": "object",
         "type": "string"
        },
        {
         "name": "koi_vet_stat",
         "rawType": "object",
         "type": "string"
        },
        {
         "name": "koi_vet_date",
         "rawType": "object",
         "type": "string"
        },
        {
         "name": "koi_pdisposition",
         "rawType": "object",
         "type": "string"
        },
        {
         "name": "koi_score",
         "rawType": "float64",
         "type": "float"
        },
        {
         "name": "koi_fpflag_nt",
         "rawType": "int64",
         "type": "integer"
        },
        {
         "name": "koi_fpflag_ss",
         "rawType": "int64",
         "type": "integer"
        },
        {
         "name": "koi_fpflag_co",
         "rawType": "int64",
         "type": "integer"
        },
        {
         "name": "koi_fpflag_ec",
         "rawType": "int64",
         "type": "integer"
        },
        {
         "name": "koi_disp_prov",
         "rawType": "object",
         "type": "string"
        },
        {
         "name": "koi_comment",
         "rawType": "object",
         "type": "string"
        },
        {
         "name": "koi_period",
         "rawType": "float64",
         "type": "float"
        },
        {
         "name": "koi_period_err1",
         "rawType": "float64",
         "type": "float"
        },
        {
         "name": "koi_period_err2",
         "rawType": "float64",
         "type": "float"
        },
        {
         "name": "koi_time0bk",
         "rawType": "float64",
         "type": "float"
        },
        {
         "name": "koi_time0bk_err1",
         "rawType": "float64",
         "type": "float"
        },
        {
         "name": "koi_time0bk_err2",
         "rawType": "float64",
         "type": "float"
        },
        {
         "name": "koi_time0",
         "rawType": "float64",
         "type": "float"
        },
        {
         "name": "koi_time0_err1",
         "rawType": "float64",
         "type": "float"
        },
        {
         "name": "koi_time0_err2",
         "rawType": "float64",
         "type": "float"
        },
        {
         "name": "koi_eccen",
         "rawType": "float64",
         "type": "float"
        },
        {
         "name": "koi_eccen_err1",
         "rawType": "float64",
         "type": "float"
        },
        {
         "name": "koi_eccen_err2",
         "rawType": "float64",
         "type": "float"
        },
        {
         "name": "koi_longp",
         "rawType": "float64",
         "type": "float"
        },
        {
         "name": "koi_longp_err1",
         "rawType": "float64",
         "type": "float"
        },
        {
         "name": "koi_longp_err2",
         "rawType": "float64",
         "type": "float"
        },
        {
         "name": "koi_impact",
         "rawType": "float64",
         "type": "float"
        },
        {
         "name": "koi_impact_err1",
         "rawType": "float64",
         "type": "float"
        },
        {
         "name": "koi_impact_err2",
         "rawType": "float64",
         "type": "float"
        },
        {
         "name": "koi_duration",
         "rawType": "float64",
         "type": "float"
        },
        {
         "name": "koi_duration_err1",
         "rawType": "float64",
         "type": "float"
        },
        {
         "name": "koi_duration_err2",
         "rawType": "float64",
         "type": "float"
        },
        {
         "name": "koi_ingress",
         "rawType": "float64",
         "type": "float"
        },
        {
         "name": "koi_ingress_err1",
         "rawType": "float64",
         "type": "float"
        },
        {
         "name": "koi_ingress_err2",
         "rawType": "float64",
         "type": "float"
        },
        {
         "name": "koi_depth",
         "rawType": "float64",
         "type": "float"
        },
        {
         "name": "koi_depth_err1",
         "rawType": "float64",
         "type": "float"
        },
        {
         "name": "koi_depth_err2",
         "rawType": "float64",
         "type": "float"
        },
        {
         "name": "koi_ror",
         "rawType": "float64",
         "type": "float"
        },
        {
         "name": "koi_ror_err1",
         "rawType": "float64",
         "type": "float"
        },
        {
         "name": "koi_ror_err2",
         "rawType": "float64",
         "type": "float"
        },
        {
         "name": "koi_srho",
         "rawType": "float64",
         "type": "float"
        },
        {
         "name": "koi_srho_err1",
         "rawType": "float64",
         "type": "float"
        },
        {
         "name": "koi_srho_err2",
         "rawType": "float64",
         "type": "float"
        },
        {
         "name": "koi_fittype",
         "rawType": "object",
         "type": "string"
        },
        {
         "name": "koi_prad",
         "rawType": "float64",
         "type": "float"
        },
        {
         "name": "koi_prad_err1",
         "rawType": "float64",
         "type": "float"
        },
        {
         "name": "koi_prad_err2",
         "rawType": "float64",
         "type": "float"
        },
        {
         "name": "koi_sma",
         "rawType": "float64",
         "type": "float"
        },
        {
         "name": "koi_sma_err1",
         "rawType": "float64",
         "type": "float"
        },
        {
         "name": "koi_sma_err2",
         "rawType": "float64",
         "type": "float"
        },
        {
         "name": "koi_incl",
         "rawType": "float64",
         "type": "float"
        },
        {
         "name": "koi_incl_err1",
         "rawType": "float64",
         "type": "float"
        },
        {
         "name": "koi_incl_err2",
         "rawType": "float64",
         "type": "float"
        },
        {
         "name": "koi_teq",
         "rawType": "float64",
         "type": "float"
        },
        {
         "name": "koi_teq_err1",
         "rawType": "float64",
         "type": "float"
        },
        {
         "name": "koi_teq_err2",
         "rawType": "float64",
         "type": "float"
        },
        {
         "name": "koi_insol",
         "rawType": "float64",
         "type": "float"
        },
        {
         "name": "koi_insol_err1",
         "rawType": "float64",
         "type": "float"
        },
        {
         "name": "koi_insol_err2",
         "rawType": "float64",
         "type": "float"
        },
        {
         "name": "koi_dor",
         "rawType": "float64",
         "type": "float"
        },
        {
         "name": "koi_dor_err1",
         "rawType": "float64",
         "type": "float"
        },
        {
         "name": "koi_dor_err2",
         "rawType": "float64",
         "type": "float"
        },
        {
         "name": "koi_limbdark_mod",
         "rawType": "object",
         "type": "string"
        },
        {
         "name": "koi_ldm_coeff4",
         "rawType": "float64",
         "type": "float"
        },
        {
         "name": "koi_ldm_coeff3",
         "rawType": "float64",
         "type": "float"
        },
        {
         "name": "koi_ldm_coeff2",
         "rawType": "float64",
         "type": "float"
        },
        {
         "name": "koi_ldm_coeff1",
         "rawType": "float64",
         "type": "float"
        },
        {
         "name": "koi_parm_prov",
         "rawType": "object",
         "type": "string"
        },
        {
         "name": "koi_max_sngle_ev",
         "rawType": "float64",
         "type": "float"
        },
        {
         "name": "koi_max_mult_ev",
         "rawType": "float64",
         "type": "float"
        },
        {
         "name": "koi_model_snr",
         "rawType": "float64",
         "type": "float"
        },
        {
         "name": "koi_count",
         "rawType": "int64",
         "type": "integer"
        },
        {
         "name": "koi_num_transits",
         "rawType": "float64",
         "type": "float"
        },
        {
         "name": "koi_tce_plnt_num",
         "rawType": "float64",
         "type": "float"
        },
        {
         "name": "koi_tce_delivname",
         "rawType": "object",
         "type": "string"
        },
        {
         "name": "koi_quarters",
         "rawType": "object",
         "type": "string"
        },
        {
         "name": "koi_bin_oedp_sig",
         "rawType": "float64",
         "type": "float"
        },
        {
         "name": "koi_trans_mod",
         "rawType": "object",
         "type": "string"
        },
        {
         "name": "koi_model_dof",
         "rawType": "float64",
         "type": "float"
        },
        {
         "name": "koi_model_chisq",
         "rawType": "float64",
         "type": "float"
        },
        {
         "name": "koi_datalink_dvr",
         "rawType": "object",
         "type": "string"
        },
        {
         "name": "koi_datalink_dvs",
         "rawType": "object",
         "type": "string"
        },
        {
         "name": "koi_steff",
         "rawType": "float64",
         "type": "float"
        },
        {
         "name": "koi_steff_err1",
         "rawType": "float64",
         "type": "float"
        },
        {
         "name": "koi_steff_err2",
         "rawType": "float64",
         "type": "float"
        },
        {
         "name": "koi_slogg",
         "rawType": "float64",
         "type": "float"
        },
        {
         "name": "koi_slogg_err1",
         "rawType": "float64",
         "type": "float"
        },
        {
         "name": "koi_slogg_err2",
         "rawType": "float64",
         "type": "float"
        },
        {
         "name": "koi_smet",
         "rawType": "float64",
         "type": "float"
        },
        {
         "name": "koi_smet_err1",
         "rawType": "float64",
         "type": "float"
        },
        {
         "name": "koi_smet_err2",
         "rawType": "float64",
         "type": "float"
        },
        {
         "name": "koi_srad",
         "rawType": "float64",
         "type": "float"
        },
        {
         "name": "koi_srad_err1",
         "rawType": "float64",
         "type": "float"
        },
        {
         "name": "koi_srad_err2",
         "rawType": "float64",
         "type": "float"
        },
        {
         "name": "koi_smass",
         "rawType": "float64",
         "type": "float"
        },
        {
         "name": "koi_smass_err1",
         "rawType": "float64",
         "type": "float"
        },
        {
         "name": "koi_smass_err2",
         "rawType": "float64",
         "type": "float"
        },
        {
         "name": "koi_sage",
         "rawType": "float64",
         "type": "float"
        },
        {
         "name": "koi_sage_err1",
         "rawType": "float64",
         "type": "float"
        },
        {
         "name": "koi_sage_err2",
         "rawType": "float64",
         "type": "float"
        },
        {
         "name": "koi_sparprov",
         "rawType": "object",
         "type": "string"
        },
        {
         "name": "ra",
         "rawType": "float64",
         "type": "float"
        },
        {
         "name": "dec",
         "rawType": "float64",
         "type": "float"
        },
        {
         "name": "koi_kepmag",
         "rawType": "float64",
         "type": "float"
        },
        {
         "name": "koi_gmag",
         "rawType": "float64",
         "type": "float"
        },
        {
         "name": "koi_rmag",
         "rawType": "float64",
         "type": "float"
        },
        {
         "name": "koi_imag",
         "rawType": "float64",
         "type": "float"
        },
        {
         "name": "koi_zmag",
         "rawType": "float64",
         "type": "float"
        },
        {
         "name": "koi_jmag",
         "rawType": "float64",
         "type": "float"
        },
        {
         "name": "koi_hmag",
         "rawType": "float64",
         "type": "float"
        },
        {
         "name": "koi_kmag",
         "rawType": "float64",
         "type": "float"
        },
        {
         "name": "koi_fwm_stat_sig",
         "rawType": "float64",
         "type": "float"
        },
        {
         "name": "koi_fwm_sra",
         "rawType": "float64",
         "type": "float"
        },
        {
         "name": "koi_fwm_sra_err",
         "rawType": "float64",
         "type": "float"
        },
        {
         "name": "koi_fwm_sdec",
         "rawType": "float64",
         "type": "float"
        },
        {
         "name": "koi_fwm_sdec_err",
         "rawType": "float64",
         "type": "float"
        },
        {
         "name": "koi_fwm_srao",
         "rawType": "float64",
         "type": "float"
        },
        {
         "name": "koi_fwm_srao_err",
         "rawType": "float64",
         "type": "float"
        },
        {
         "name": "koi_fwm_sdeco",
         "rawType": "float64",
         "type": "float"
        },
        {
         "name": "koi_fwm_sdeco_err",
         "rawType": "float64",
         "type": "float"
        },
        {
         "name": "koi_fwm_prao",
         "rawType": "float64",
         "type": "float"
        },
        {
         "name": "koi_fwm_prao_err",
         "rawType": "float64",
         "type": "float"
        },
        {
         "name": "koi_fwm_pdeco",
         "rawType": "float64",
         "type": "float"
        },
        {
         "name": "koi_fwm_pdeco_err",
         "rawType": "float64",
         "type": "float"
        },
        {
         "name": "koi_dicco_mra",
         "rawType": "float64",
         "type": "float"
        },
        {
         "name": "koi_dicco_mra_err",
         "rawType": "float64",
         "type": "float"
        },
        {
         "name": "koi_dicco_mdec",
         "rawType": "float64",
         "type": "float"
        },
        {
         "name": "koi_dicco_mdec_err",
         "rawType": "float64",
         "type": "float"
        },
        {
         "name": "koi_dicco_msky",
         "rawType": "float64",
         "type": "float"
        },
        {
         "name": "koi_dicco_msky_err",
         "rawType": "float64",
         "type": "float"
        },
        {
         "name": "koi_dikco_mra",
         "rawType": "float64",
         "type": "float"
        },
        {
         "name": "koi_dikco_mra_err",
         "rawType": "float64",
         "type": "float"
        },
        {
         "name": "koi_dikco_mdec",
         "rawType": "float64",
         "type": "float"
        },
        {
         "name": "koi_dikco_mdec_err",
         "rawType": "float64",
         "type": "float"
        },
        {
         "name": "koi_dikco_msky",
         "rawType": "float64",
         "type": "float"
        },
        {
         "name": "koi_dikco_msky_err",
         "rawType": "float64",
         "type": "float"
        }
       ],
       "ref": "99d5fc67-caf7-41c6-80cb-c0f34135ae74",
       "rows": [
        [
         "0",
         "1",
         "10797460",
         "K00752.01",
         "Kepler-227 b",
         "CONFIRMED",
         "Done",
         "2018-08-16",
         "CANDIDATE",
         "1.0",
         "0",
         "0",
         "0",
         "0",
         "q1_q17_dr25_sup_koi",
         "NO_COMMENT",
         "9.48803557",
         "2.775e-05",
         "-2.775e-05",
         "170.53875",
         "0.00216",
         "-0.00216",
         "2455003.539",
         "0.00216",
         "-0.00216",
         "0.0",
         null,
         null,
         null,
         null,
         null,
         "0.146",
         "0.318",
         "-0.146",
         "2.9575",
         "0.0819",
         "-0.0819",
         null,
         null,
         null,
         "615.8",
         "19.5",
         "-19.5",
         "0.022344",
         "0.000832",
         "-0.000528",
         "3.20796",
         "0.33173",
         "-1.09986",
         "LS+MCMC",
         "2.26",
         "0.26",
         "-0.15",
         "0.0853",
         null,
         null,
         "89.66",
         null,
         null,
         "793.0",
         null,
         null,
         "93.59",
         "29.45",
         "-16.65",
         "24.81",
         "2.6",
         "-2.6",
         "Claret (2011 A&A 529 75) ATLAS LS",
         "0.0",
         "0.0",
         "0.2291",
         "0.4603",
         "q1_q17_dr25_koi",
         "5.135849",
         "28.47082",
         "35.8",
         "2",
         "142.0",
         "1.0",
         "q1_q17_dr25_tce",
         "11111111111111111000000000000000",
         "0.6864",
         "Mandel and Agol (2002 ApJ 580 171)",
         null,
         null,
         "010/010797/010797460/dv/kplr010797460-20160209194854_dvr.pdf",
         "010/010797/010797460/dv/kplr010797460-001-20160209194854_dvs.pdf",
         "5455.0",
         "81.0",
         "-81.0",
         "4.467",
         "0.064",
         "-0.096",
         "0.14",
         "0.15",
         "-0.15",
         "0.927",
         "0.105",
         "-0.061",
         "0.919",
         "0.052",
         "-0.046",
         null,
         null,
         null,
         "q1_q17_dr25_stellar",
         "291.93423",
         "48.141651",
         "15.347",
         "15.89",
         "15.27",
         "15.114",
         "15.006",
         "14.082",
         "13.751",
         "13.648",
         "0.002",
         "19.462294",
         "1.4e-05",
         "48.14191",
         "0.00013",
         "0.43",
         "0.51",
         "0.94",
         "0.48",
         "-0.0002",
         "0.00032",
         "-0.00055",
         "0.00031",
         "-0.01",
         "0.13",
         "0.2",
         "0.16",
         "0.2",
         "0.17",
         "0.08",
         "0.13",
         "0.31",
         "0.17",
         "0.32",
         "0.16"
        ],
        [
         "1",
         "2",
         "10797460",
         "K00752.02",
         "Kepler-227 c",
         "CONFIRMED",
         "Done",
         "2018-08-16",
         "CANDIDATE",
         "0.969",
         "0",
         "0",
         "0",
         "0",
         "q1_q17_dr25_sup_koi",
         "NO_COMMENT",
         "54.4183827",
         "0.0002479",
         "-0.0002479",
         "162.51384",
         "0.00352",
         "-0.00352",
         "2454995.514",
         "0.00352",
         "-0.00352",
         "0.0",
         null,
         null,
         null,
         null,
         null,
         "0.586",
         "0.059",
         "-0.443",
         "4.507",
         "0.116",
         "-0.116",
         null,
         null,
         null,
         "874.8",
         "35.5",
         "-35.5",
         "0.027954",
         "0.009078",
         "-0.001347",
         "3.02368",
         "2.20489",
         "-2.49638",
         "LS+MCMC",
         "2.83",
         "0.32",
         "-0.19",
         "0.2734",
         null,
         null,
         "89.57",
         null,
         null,
         "443.0",
         null,
         null,
         "9.11",
         "2.87",
         "-1.62",
         "77.9",
         "28.4",
         "-28.4",
         "Claret (2011 A&A 529 75) ATLAS LS",
         "0.0",
         "0.0",
         "0.2291",
         "0.4603",
         "q1_q17_dr25_koi",
         "7.027669",
         "20.109507",
         "25.8",
         "2",
         "25.0",
         "2.0",
         "q1_q17_dr25_tce",
         "11111111111111111000000000000000",
         "0.0023",
         "Mandel and Agol (2002 ApJ 580 171)",
         null,
         null,
         "010/010797/010797460/dv/kplr010797460-20160209194854_dvr.pdf",
         "010/010797/010797460/dv/kplr010797460-002-20160209194854_dvs.pdf",
         "5455.0",
         "81.0",
         "-81.0",
         "4.467",
         "0.064",
         "-0.096",
         "0.14",
         "0.15",
         "-0.15",
         "0.927",
         "0.105",
         "-0.061",
         "0.919",
         "0.052",
         "-0.046",
         null,
         null,
         null,
         "q1_q17_dr25_stellar",
         "291.93423",
         "48.141651",
         "15.347",
         "15.89",
         "15.27",
         "15.114",
         "15.006",
         "14.082",
         "13.751",
         "13.648",
         "0.003",
         "19.462265",
         "2e-05",
         "48.14199",
         "0.00019",
         "-0.63",
         "0.72",
         "1.23",
         "0.68",
         "0.00066",
         "0.00065",
         "-0.00105",
         "0.00063",
         "0.39",
         "0.36",
         "0.0",
         "0.48",
         "0.39",
         "0.36",
         "0.49",
         "0.34",
         "0.12",
         "0.73",
         "0.5",
         "0.45"
        ],
        [
         "2",
         "3",
         "10811496",
         "K00753.01",
         null,
         "CANDIDATE",
         "Done",
         "2018-08-16",
         "CANDIDATE",
         "0.0",
         "0",
         "0",
         "0",
         "0",
         "q1_q17_dr25_sup_koi",
         "DEEP_V_SHAPED",
         "19.89913995",
         "1.494e-05",
         "-1.494e-05",
         "175.850252",
         "0.000581",
         "-0.000581",
         "2455008.85",
         "0.000581",
         "-0.000581",
         "0.0",
         null,
         null,
         null,
         null,
         null,
         "0.969",
         "5.126",
         "-0.077",
         "1.7822",
         "0.0341",
         "-0.0341",
         null,
         null,
         null,
         "10829.0",
         "171.0",
         "-171.0",
         "0.154046",
         "5.034292",
         "-0.042179",
         "7.29555",
         "35.03293",
         "-2.75453",
         "LS+MCMC",
         "14.6",
         "3.92",
         "-1.31",
         "0.1419",
         null,
         null,
         "88.96",
         null,
         null,
         "638.0",
         null,
         null,
         "39.3",
         "31.04",
         "-10.49",
         "53.5",
         "25.7",
         "-25.7",
         "Claret (2011 A&A 529 75) ATLAS LS",
         "0.0",
         "0.0",
         "0.2711",
         "0.3858",
         "q1_q17_dr25_koi",
         "37.159767",
         "187.4491",
         "76.3",
         "1",
         "56.0",
         "1.0",
         "q1_q17_dr25_tce",
         "11111101110111011000000000000000",
         "0.6624",
         "Mandel and Agol (2002 ApJ 580 171)",
         null,
         null,
         "010/010811/010811496/dv/kplr010811496-20160209194854_dvr.pdf",
         "010/010811/010811496/dv/kplr010811496-001-20160209194854_dvs.pdf",
         "5853.0",
         "158.0",
         "-176.0",
         "4.544",
         "0.044",
         "-0.176",
         "-0.18",
         "0.3",
         "-0.3",
         "0.868",
         "0.233",
         "-0.078",
         "0.961",
         "0.11",
         "-0.121",
         null,
         null,
         null,
         "q1_q17_dr25_stellar",
         "297.00482",
         "48.134129",
         "15.436",
         "15.943",
         "15.39",
         "15.22",
         "15.166",
         "14.254",
         "13.9",
         "13.826",
         "0.278",
         "19.8003207",
         "1.9e-06",
         "48.13412",
         "2e-05",
         "-0.021",
         "0.069",
         "-0.038",
         "0.071",
         "0.0007",
         "0.0024",
         "0.0006",
         "0.0034",
         "-0.025",
         "0.07",
         "-0.034",
         "0.07",
         "0.042",
         "0.072",
         "0.002",
         "0.071",
         "-0.027",
         "0.074",
         "0.027",
         "0.074"
        ],
        [
         "3",
         "4",
         "10848459",
         "K00754.01",
         null,
         "FALSE POSITIVE",
         "Done",
         "2018-08-16",
         "FALSE POSITIVE",
         "0.0",
         "0",
         "1",
         "0",
         "0",
         "q1_q17_dr25_sup_koi",
         "MOD_ODDEVEN_DV---MOD_ODDEVEN_ALT---DEEP_V_SHAPED",
         "1.736952453",
         "2.63e-07",
         "-2.63e-07",
         "170.307565",
         "0.000115",
         "-0.000115",
         "2455003.308",
         "0.000115",
         "-0.000115",
         "0.0",
         null,
         null,
         null,
         null,
         null,
         "1.276",
         "0.115",
         "-0.092",
         "2.40641",
         "0.00537",
         "-0.00537",
         null,
         null,
         null,
         "8079.2",
         "12.8",
         "-12.8",
         "0.387394",
         "0.109232",
         "-0.08495",
         "0.2208",
         "0.00917",
         "-0.01837",
         "LS+MCMC",
         "33.46",
         "8.5",
         "-2.83",
         "0.0267",
         null,
         null,
         "67.09",
         null,
         null,
         "1395.0",
         null,
         null,
         "891.96",
         "668.95",
         "-230.35",
         "3.278",
         "0.136",
         "-0.136",
         "Claret (2011 A&A 529 75) ATLAS LS",
         "0.0",
         "0.0",
         "0.2865",
         "0.3556",
         "q1_q17_dr25_koi",
         "39.06655",
         "541.8951",
         "505.6",
         "1",
         "621.0",
         "1.0",
         "q1_q17_dr25_tce",
         "11111110111011101000000000000000",
         "0.0",
         "Mandel and Agol (2002 ApJ 580 171)",
         null,
         null,
         "010/010848/010848459/dv/kplr010848459-20160209194854_dvr.pdf",
         "010/010848/010848459/dv/kplr010848459-001-20160209194854_dvs.pdf",
         "5805.0",
         "157.0",
         "-174.0",
         "4.564",
         "0.053",
         "-0.168",
         "-0.52",
         "0.3",
         "-0.3",
         "0.791",
         "0.201",
         "-0.067",
         "0.836",
         "0.093",
         "-0.077",
         null,
         null,
         null,
         "q1_q17_dr25_stellar",
         "285.53461",
         "48.28521",
         "15.597",
         "16.1",
         "15.554",
         "15.382",
         "15.266",
         "14.326",
         "13.911",
         "13.809",
         "0.0",
         "19.03563762",
         "8.6e-07",
         "48.2852105",
         "7.4e-06",
         "-0.111",
         "0.031",
         "0.002",
         "0.027",
         "0.00302",
         "0.00057",
         "-0.00142",
         "0.00081",
         "-0.249",
         "0.072",
         "0.147",
         "0.078",
         "0.289",
         "0.079",
         "-0.257",
         "0.072",
         "0.099",
         "0.077",
         "0.276",
         "0.076"
        ],
        [
         "4",
         "5",
         "10854555",
         "K00755.01",
         "Kepler-664 b",
         "CONFIRMED",
         "Done",
         "2018-08-16",
         "CANDIDATE",
         "1.0",
         "0",
         "0",
         "0",
         "0",
         "q1_q17_dr25_sup_koi",
         "NO_COMMENT",
         "2.525591777",
         "3.761e-06",
         "-3.761e-06",
         "171.59555",
         "0.00113",
         "-0.00113",
         "2455004.596",
         "0.00113",
         "-0.00113",
         "0.0",
         null,
         null,
         null,
         null,
         null,
         "0.701",
         "0.235",
         "-0.478",
         "1.6545",
         "0.042",
         "-0.042",
         null,
         null,
         null,
         "603.3",
         "16.9",
         "-16.9",
         "0.024064",
         "0.003751",
         "-0.001522",
         "1.98635",
         "2.71141",
         "-1.74541",
         "LS+MCMC",
         "2.75",
         "0.88",
         "-0.35",
         "0.0374",
         null,
         null,
         "85.41",
         null,
         null,
         "1406.0",
         null,
         null,
         "926.16",
         "874.33",
         "-314.24",
         "8.75",
         "4.0",
         "-4.0",
         "Claret (2011 A&A 529 75) ATLAS LS",
         "0.0",
         "0.0",
         "0.2844",
         "0.3661",
         "q1_q17_dr25_koi",
         "4.749945",
         "33.1919",
         "40.9",
         "1",
         "515.0",
         "1.0",
         "q1_q17_dr25_tce",
         "01111111111111111000000000000000",
         "0.309",
         "Mandel and Agol (2002 ApJ 580 171)",
         null,
         null,
         "010/010854/010854555/dv/kplr010854555-20160209194854_dvr.pdf",
         "010/010854/010854555/dv/kplr010854555-001-20160209194854_dvs.pdf",
         "6031.0",
         "169.0",
         "-211.0",
         "4.438",
         "0.07",
         "-0.21",
         "0.07",
         "0.25",
         "-0.3",
         "1.046",
         "0.334",
         "-0.133",
         "1.095",
         "0.151",
         "-0.136",
         null,
         null,
         null,
         "q1_q17_dr25_stellar",
         "288.75488",
         "48.2262",
         "15.509",
         "16.015",
         "15.468",
         "15.292",
         "15.241",
         "14.366",
         "14.064",
         "13.952",
         "0.733",
         "19.2503258",
         "9.7e-06",
         "48.22626",
         "0.0001",
         "-0.01",
         "0.35",
         "0.23",
         "0.37",
         "8e-05",
         "0.0002",
         "-7e-05",
         "0.00022",
         "0.03",
         "0.19",
         "-0.09",
         "0.18",
         "0.1",
         "0.14",
         "0.07",
         "0.18",
         "0.02",
         "0.16",
         "0.07",
         "0.2"
        ]
       ],
       "shape": {
        "columns": 141,
        "rows": 5
       }
      },
      "text/html": [
       "<div>\n",
       "<style scoped>\n",
       "    .dataframe tbody tr th:only-of-type {\n",
       "        vertical-align: middle;\n",
       "    }\n",
       "\n",
       "    .dataframe tbody tr th {\n",
       "        vertical-align: top;\n",
       "    }\n",
       "\n",
       "    .dataframe thead th {\n",
       "        text-align: right;\n",
       "    }\n",
       "</style>\n",
       "<table border=\"1\" class=\"dataframe\">\n",
       "  <thead>\n",
       "    <tr style=\"text-align: right;\">\n",
       "      <th></th>\n",
       "      <th>rowid</th>\n",
       "      <th>kepid</th>\n",
       "      <th>kepoi_name</th>\n",
       "      <th>kepler_name</th>\n",
       "      <th>koi_disposition</th>\n",
       "      <th>koi_vet_stat</th>\n",
       "      <th>koi_vet_date</th>\n",
       "      <th>koi_pdisposition</th>\n",
       "      <th>koi_score</th>\n",
       "      <th>koi_fpflag_nt</th>\n",
       "      <th>...</th>\n",
       "      <th>koi_dicco_mdec</th>\n",
       "      <th>koi_dicco_mdec_err</th>\n",
       "      <th>koi_dicco_msky</th>\n",
       "      <th>koi_dicco_msky_err</th>\n",
       "      <th>koi_dikco_mra</th>\n",
       "      <th>koi_dikco_mra_err</th>\n",
       "      <th>koi_dikco_mdec</th>\n",
       "      <th>koi_dikco_mdec_err</th>\n",
       "      <th>koi_dikco_msky</th>\n",
       "      <th>koi_dikco_msky_err</th>\n",
       "    </tr>\n",
       "  </thead>\n",
       "  <tbody>\n",
       "    <tr>\n",
       "      <th>0</th>\n",
       "      <td>1</td>\n",
       "      <td>10797460</td>\n",
       "      <td>K00752.01</td>\n",
       "      <td>Kepler-227 b</td>\n",
       "      <td>CONFIRMED</td>\n",
       "      <td>Done</td>\n",
       "      <td>2018-08-16</td>\n",
       "      <td>CANDIDATE</td>\n",
       "      <td>1.000</td>\n",
       "      <td>0</td>\n",
       "      <td>...</td>\n",
       "      <td>0.200</td>\n",
       "      <td>0.160</td>\n",
       "      <td>0.200</td>\n",
       "      <td>0.170</td>\n",
       "      <td>0.080</td>\n",
       "      <td>0.130</td>\n",
       "      <td>0.310</td>\n",
       "      <td>0.170</td>\n",
       "      <td>0.320</td>\n",
       "      <td>0.160</td>\n",
       "    </tr>\n",
       "    <tr>\n",
       "      <th>1</th>\n",
       "      <td>2</td>\n",
       "      <td>10797460</td>\n",
       "      <td>K00752.02</td>\n",
       "      <td>Kepler-227 c</td>\n",
       "      <td>CONFIRMED</td>\n",
       "      <td>Done</td>\n",
       "      <td>2018-08-16</td>\n",
       "      <td>CANDIDATE</td>\n",
       "      <td>0.969</td>\n",
       "      <td>0</td>\n",
       "      <td>...</td>\n",
       "      <td>0.000</td>\n",
       "      <td>0.480</td>\n",
       "      <td>0.390</td>\n",
       "      <td>0.360</td>\n",
       "      <td>0.490</td>\n",
       "      <td>0.340</td>\n",
       "      <td>0.120</td>\n",
       "      <td>0.730</td>\n",
       "      <td>0.500</td>\n",
       "      <td>0.450</td>\n",
       "    </tr>\n",
       "    <tr>\n",
       "      <th>2</th>\n",
       "      <td>3</td>\n",
       "      <td>10811496</td>\n",
       "      <td>K00753.01</td>\n",
       "      <td>NaN</td>\n",
       "      <td>CANDIDATE</td>\n",
       "      <td>Done</td>\n",
       "      <td>2018-08-16</td>\n",
       "      <td>CANDIDATE</td>\n",
       "      <td>0.000</td>\n",
       "      <td>0</td>\n",
       "      <td>...</td>\n",
       "      <td>-0.034</td>\n",
       "      <td>0.070</td>\n",
       "      <td>0.042</td>\n",
       "      <td>0.072</td>\n",
       "      <td>0.002</td>\n",
       "      <td>0.071</td>\n",
       "      <td>-0.027</td>\n",
       "      <td>0.074</td>\n",
       "      <td>0.027</td>\n",
       "      <td>0.074</td>\n",
       "    </tr>\n",
       "    <tr>\n",
       "      <th>3</th>\n",
       "      <td>4</td>\n",
       "      <td>10848459</td>\n",
       "      <td>K00754.01</td>\n",
       "      <td>NaN</td>\n",
       "      <td>FALSE POSITIVE</td>\n",
       "      <td>Done</td>\n",
       "      <td>2018-08-16</td>\n",
       "      <td>FALSE POSITIVE</td>\n",
       "      <td>0.000</td>\n",
       "      <td>0</td>\n",
       "      <td>...</td>\n",
       "      <td>0.147</td>\n",
       "      <td>0.078</td>\n",
       "      <td>0.289</td>\n",
       "      <td>0.079</td>\n",
       "      <td>-0.257</td>\n",
       "      <td>0.072</td>\n",
       "      <td>0.099</td>\n",
       "      <td>0.077</td>\n",
       "      <td>0.276</td>\n",
       "      <td>0.076</td>\n",
       "    </tr>\n",
       "    <tr>\n",
       "      <th>4</th>\n",
       "      <td>5</td>\n",
       "      <td>10854555</td>\n",
       "      <td>K00755.01</td>\n",
       "      <td>Kepler-664 b</td>\n",
       "      <td>CONFIRMED</td>\n",
       "      <td>Done</td>\n",
       "      <td>2018-08-16</td>\n",
       "      <td>CANDIDATE</td>\n",
       "      <td>1.000</td>\n",
       "      <td>0</td>\n",
       "      <td>...</td>\n",
       "      <td>-0.090</td>\n",
       "      <td>0.180</td>\n",
       "      <td>0.100</td>\n",
       "      <td>0.140</td>\n",
       "      <td>0.070</td>\n",
       "      <td>0.180</td>\n",
       "      <td>0.020</td>\n",
       "      <td>0.160</td>\n",
       "      <td>0.070</td>\n",
       "      <td>0.200</td>\n",
       "    </tr>\n",
       "  </tbody>\n",
       "</table>\n",
       "<p>5 rows × 141 columns</p>\n",
       "</div>"
      ],
      "text/plain": [
       "   rowid     kepid kepoi_name   kepler_name koi_disposition koi_vet_stat  \\\n",
       "0      1  10797460  K00752.01  Kepler-227 b       CONFIRMED         Done   \n",
       "1      2  10797460  K00752.02  Kepler-227 c       CONFIRMED         Done   \n",
       "2      3  10811496  K00753.01           NaN       CANDIDATE         Done   \n",
       "3      4  10848459  K00754.01           NaN  FALSE POSITIVE         Done   \n",
       "4      5  10854555  K00755.01  Kepler-664 b       CONFIRMED         Done   \n",
       "\n",
       "  koi_vet_date koi_pdisposition  koi_score  koi_fpflag_nt  ...  \\\n",
       "0   2018-08-16        CANDIDATE      1.000              0  ...   \n",
       "1   2018-08-16        CANDIDATE      0.969              0  ...   \n",
       "2   2018-08-16        CANDIDATE      0.000              0  ...   \n",
       "3   2018-08-16   FALSE POSITIVE      0.000              0  ...   \n",
       "4   2018-08-16        CANDIDATE      1.000              0  ...   \n",
       "\n",
       "   koi_dicco_mdec  koi_dicco_mdec_err  koi_dicco_msky koi_dicco_msky_err  \\\n",
       "0           0.200               0.160           0.200              0.170   \n",
       "1           0.000               0.480           0.390              0.360   \n",
       "2          -0.034               0.070           0.042              0.072   \n",
       "3           0.147               0.078           0.289              0.079   \n",
       "4          -0.090               0.180           0.100              0.140   \n",
       "\n",
       "  koi_dikco_mra  koi_dikco_mra_err  koi_dikco_mdec  koi_dikco_mdec_err  \\\n",
       "0         0.080              0.130           0.310               0.170   \n",
       "1         0.490              0.340           0.120               0.730   \n",
       "2         0.002              0.071          -0.027               0.074   \n",
       "3        -0.257              0.072           0.099               0.077   \n",
       "4         0.070              0.180           0.020               0.160   \n",
       "\n",
       "   koi_dikco_msky  koi_dikco_msky_err  \n",
       "0           0.320               0.160  \n",
       "1           0.500               0.450  \n",
       "2           0.027               0.074  \n",
       "3           0.276               0.076  \n",
       "4           0.070               0.200  \n",
       "\n",
       "[5 rows x 141 columns]"
      ]
     },
     "execution_count": 7,
     "metadata": {},
     "output_type": "execute_result"
    }
   ],
   "source": [
    "import pandas as pd\n",
    "\n",
    "big_KOI_data = True\n",
    "if big_KOI_data:\n",
    "    path = \"datasets/KOI_2025.10.03_07.23.34.csv\"\n",
    "    skiprow_nr = 144\n",
    "else:    \n",
    "    path = 'datasets/KOI_cumulative.csv'\n",
    "    skiprow_nr = 53\n",
    "\n",
    "df_orig = pd.read_csv(path, skiprows=skiprow_nr)\n",
    "df_orig.head()"
   ]
  },
  {
   "cell_type": "markdown",
   "id": "b1fd4b49",
   "metadata": {},
   "source": [
    "## Clean data"
   ]
  },
  {
   "cell_type": "code",
   "execution_count": 8,
   "id": "18aff438",
   "metadata": {},
   "outputs": [
    {
     "name": "stdout",
     "output_type": "stream",
     "text": [
      "Original shape: (9564, 141)\n",
      "After dropping all-empty columns: (9564, 122)\n",
      "After dropping all-empty rows: (9564, 122)\n"
     ]
    }
   ],
   "source": [
    "df = drop_empty_cols_and_rows(df_orig)"
   ]
  },
  {
   "cell_type": "markdown",
   "id": "f47e3600",
   "metadata": {},
   "source": [
    "#### Remove specified columns"
   ]
  },
  {
   "cell_type": "code",
   "execution_count": 9,
   "id": "9db4a2a7",
   "metadata": {},
   "outputs": [
    {
     "data": {
      "application/vnd.microsoft.datawrangler.viewer.v0+json": {
       "columns": [
        {
         "name": "index",
         "rawType": "int64",
         "type": "integer"
        },
        {
         "name": "rowid",
         "rawType": "int64",
         "type": "integer"
        },
        {
         "name": "kepid",
         "rawType": "int64",
         "type": "integer"
        },
        {
         "name": "kepoi_name",
         "rawType": "object",
         "type": "string"
        },
        {
         "name": "kepler_name",
         "rawType": "object",
         "type": "unknown"
        },
        {
         "name": "koi_disposition",
         "rawType": "object",
         "type": "string"
        },
        {
         "name": "koi_vet_stat",
         "rawType": "object",
         "type": "string"
        },
        {
         "name": "koi_vet_date",
         "rawType": "object",
         "type": "string"
        },
        {
         "name": "koi_pdisposition",
         "rawType": "object",
         "type": "string"
        },
        {
         "name": "koi_score",
         "rawType": "float64",
         "type": "float"
        },
        {
         "name": "koi_fpflag_nt",
         "rawType": "int64",
         "type": "integer"
        },
        {
         "name": "koi_fpflag_ss",
         "rawType": "int64",
         "type": "integer"
        },
        {
         "name": "koi_fpflag_co",
         "rawType": "int64",
         "type": "integer"
        },
        {
         "name": "koi_fpflag_ec",
         "rawType": "int64",
         "type": "integer"
        },
        {
         "name": "koi_disp_prov",
         "rawType": "object",
         "type": "string"
        },
        {
         "name": "koi_comment",
         "rawType": "object",
         "type": "string"
        },
        {
         "name": "koi_period",
         "rawType": "float64",
         "type": "float"
        },
        {
         "name": "koi_period_err1",
         "rawType": "float64",
         "type": "float"
        },
        {
         "name": "koi_period_err2",
         "rawType": "float64",
         "type": "float"
        },
        {
         "name": "koi_time0bk",
         "rawType": "float64",
         "type": "float"
        },
        {
         "name": "koi_time0bk_err1",
         "rawType": "float64",
         "type": "float"
        },
        {
         "name": "koi_time0bk_err2",
         "rawType": "float64",
         "type": "float"
        },
        {
         "name": "koi_time0",
         "rawType": "float64",
         "type": "float"
        },
        {
         "name": "koi_time0_err1",
         "rawType": "float64",
         "type": "float"
        },
        {
         "name": "koi_time0_err2",
         "rawType": "float64",
         "type": "float"
        },
        {
         "name": "koi_eccen",
         "rawType": "float64",
         "type": "float"
        },
        {
         "name": "koi_impact",
         "rawType": "float64",
         "type": "float"
        },
        {
         "name": "koi_impact_err1",
         "rawType": "float64",
         "type": "float"
        },
        {
         "name": "koi_impact_err2",
         "rawType": "float64",
         "type": "float"
        },
        {
         "name": "koi_duration",
         "rawType": "float64",
         "type": "float"
        },
        {
         "name": "koi_duration_err1",
         "rawType": "float64",
         "type": "float"
        },
        {
         "name": "koi_duration_err2",
         "rawType": "float64",
         "type": "float"
        },
        {
         "name": "koi_depth",
         "rawType": "float64",
         "type": "float"
        },
        {
         "name": "koi_depth_err1",
         "rawType": "float64",
         "type": "float"
        },
        {
         "name": "koi_depth_err2",
         "rawType": "float64",
         "type": "float"
        },
        {
         "name": "koi_ror",
         "rawType": "float64",
         "type": "float"
        },
        {
         "name": "koi_ror_err1",
         "rawType": "float64",
         "type": "float"
        },
        {
         "name": "koi_ror_err2",
         "rawType": "float64",
         "type": "float"
        },
        {
         "name": "koi_srho",
         "rawType": "float64",
         "type": "float"
        },
        {
         "name": "koi_srho_err1",
         "rawType": "float64",
         "type": "float"
        },
        {
         "name": "koi_srho_err2",
         "rawType": "float64",
         "type": "float"
        },
        {
         "name": "koi_fittype",
         "rawType": "object",
         "type": "string"
        },
        {
         "name": "koi_prad",
         "rawType": "float64",
         "type": "float"
        },
        {
         "name": "koi_prad_err1",
         "rawType": "float64",
         "type": "float"
        },
        {
         "name": "koi_prad_err2",
         "rawType": "float64",
         "type": "float"
        },
        {
         "name": "koi_sma",
         "rawType": "float64",
         "type": "float"
        },
        {
         "name": "koi_incl",
         "rawType": "float64",
         "type": "float"
        },
        {
         "name": "koi_teq",
         "rawType": "float64",
         "type": "float"
        },
        {
         "name": "koi_insol",
         "rawType": "float64",
         "type": "float"
        },
        {
         "name": "koi_insol_err1",
         "rawType": "float64",
         "type": "float"
        },
        {
         "name": "koi_insol_err2",
         "rawType": "float64",
         "type": "float"
        },
        {
         "name": "koi_dor",
         "rawType": "float64",
         "type": "float"
        },
        {
         "name": "koi_dor_err1",
         "rawType": "float64",
         "type": "float"
        },
        {
         "name": "koi_dor_err2",
         "rawType": "float64",
         "type": "float"
        },
        {
         "name": "koi_limbdark_mod",
         "rawType": "object",
         "type": "string"
        },
        {
         "name": "koi_ldm_coeff4",
         "rawType": "float64",
         "type": "float"
        },
        {
         "name": "koi_ldm_coeff3",
         "rawType": "float64",
         "type": "float"
        },
        {
         "name": "koi_ldm_coeff2",
         "rawType": "float64",
         "type": "float"
        },
        {
         "name": "koi_ldm_coeff1",
         "rawType": "float64",
         "type": "float"
        },
        {
         "name": "koi_parm_prov",
         "rawType": "object",
         "type": "string"
        },
        {
         "name": "koi_max_sngle_ev",
         "rawType": "float64",
         "type": "float"
        },
        {
         "name": "koi_max_mult_ev",
         "rawType": "float64",
         "type": "float"
        },
        {
         "name": "koi_model_snr",
         "rawType": "float64",
         "type": "float"
        },
        {
         "name": "koi_count",
         "rawType": "int64",
         "type": "integer"
        },
        {
         "name": "koi_num_transits",
         "rawType": "float64",
         "type": "float"
        },
        {
         "name": "koi_tce_plnt_num",
         "rawType": "float64",
         "type": "float"
        },
        {
         "name": "koi_tce_delivname",
         "rawType": "object",
         "type": "string"
        },
        {
         "name": "koi_quarters",
         "rawType": "object",
         "type": "string"
        },
        {
         "name": "koi_bin_oedp_sig",
         "rawType": "float64",
         "type": "float"
        },
        {
         "name": "koi_trans_mod",
         "rawType": "object",
         "type": "string"
        },
        {
         "name": "koi_datalink_dvr",
         "rawType": "object",
         "type": "string"
        },
        {
         "name": "koi_datalink_dvs",
         "rawType": "object",
         "type": "string"
        },
        {
         "name": "koi_steff",
         "rawType": "float64",
         "type": "float"
        },
        {
         "name": "koi_steff_err1",
         "rawType": "float64",
         "type": "float"
        },
        {
         "name": "koi_steff_err2",
         "rawType": "float64",
         "type": "float"
        },
        {
         "name": "koi_slogg",
         "rawType": "float64",
         "type": "float"
        },
        {
         "name": "koi_slogg_err1",
         "rawType": "float64",
         "type": "float"
        },
        {
         "name": "koi_slogg_err2",
         "rawType": "float64",
         "type": "float"
        },
        {
         "name": "koi_smet",
         "rawType": "float64",
         "type": "float"
        },
        {
         "name": "koi_smet_err1",
         "rawType": "float64",
         "type": "float"
        },
        {
         "name": "koi_smet_err2",
         "rawType": "float64",
         "type": "float"
        },
        {
         "name": "koi_srad",
         "rawType": "float64",
         "type": "float"
        },
        {
         "name": "koi_srad_err1",
         "rawType": "float64",
         "type": "float"
        },
        {
         "name": "koi_srad_err2",
         "rawType": "float64",
         "type": "float"
        },
        {
         "name": "koi_smass",
         "rawType": "float64",
         "type": "float"
        },
        {
         "name": "koi_smass_err1",
         "rawType": "float64",
         "type": "float"
        },
        {
         "name": "koi_smass_err2",
         "rawType": "float64",
         "type": "float"
        },
        {
         "name": "koi_sparprov",
         "rawType": "object",
         "type": "string"
        },
        {
         "name": "ra",
         "rawType": "float64",
         "type": "float"
        },
        {
         "name": "dec",
         "rawType": "float64",
         "type": "float"
        },
        {
         "name": "koi_kepmag",
         "rawType": "float64",
         "type": "float"
        },
        {
         "name": "koi_gmag",
         "rawType": "float64",
         "type": "float"
        },
        {
         "name": "koi_rmag",
         "rawType": "float64",
         "type": "float"
        },
        {
         "name": "koi_imag",
         "rawType": "float64",
         "type": "float"
        },
        {
         "name": "koi_zmag",
         "rawType": "float64",
         "type": "float"
        },
        {
         "name": "koi_jmag",
         "rawType": "float64",
         "type": "float"
        },
        {
         "name": "koi_hmag",
         "rawType": "float64",
         "type": "float"
        },
        {
         "name": "koi_kmag",
         "rawType": "float64",
         "type": "float"
        },
        {
         "name": "koi_fwm_stat_sig",
         "rawType": "float64",
         "type": "float"
        },
        {
         "name": "koi_fwm_sra",
         "rawType": "float64",
         "type": "float"
        },
        {
         "name": "koi_fwm_sra_err",
         "rawType": "float64",
         "type": "float"
        },
        {
         "name": "koi_fwm_sdec",
         "rawType": "float64",
         "type": "float"
        },
        {
         "name": "koi_fwm_sdec_err",
         "rawType": "float64",
         "type": "float"
        },
        {
         "name": "koi_fwm_srao",
         "rawType": "float64",
         "type": "float"
        },
        {
         "name": "koi_fwm_srao_err",
         "rawType": "float64",
         "type": "float"
        },
        {
         "name": "koi_fwm_sdeco",
         "rawType": "float64",
         "type": "float"
        },
        {
         "name": "koi_fwm_sdeco_err",
         "rawType": "float64",
         "type": "float"
        },
        {
         "name": "koi_fwm_prao",
         "rawType": "float64",
         "type": "float"
        },
        {
         "name": "koi_fwm_prao_err",
         "rawType": "float64",
         "type": "float"
        },
        {
         "name": "koi_fwm_pdeco",
         "rawType": "float64",
         "type": "float"
        },
        {
         "name": "koi_fwm_pdeco_err",
         "rawType": "float64",
         "type": "float"
        },
        {
         "name": "koi_dicco_mra",
         "rawType": "float64",
         "type": "float"
        },
        {
         "name": "koi_dicco_mra_err",
         "rawType": "float64",
         "type": "float"
        },
        {
         "name": "koi_dicco_mdec",
         "rawType": "float64",
         "type": "float"
        },
        {
         "name": "koi_dicco_mdec_err",
         "rawType": "float64",
         "type": "float"
        },
        {
         "name": "koi_dicco_msky",
         "rawType": "float64",
         "type": "float"
        },
        {
         "name": "koi_dicco_msky_err",
         "rawType": "float64",
         "type": "float"
        },
        {
         "name": "koi_dikco_mra",
         "rawType": "float64",
         "type": "float"
        },
        {
         "name": "koi_dikco_mra_err",
         "rawType": "float64",
         "type": "float"
        },
        {
         "name": "koi_dikco_mdec",
         "rawType": "float64",
         "type": "float"
        },
        {
         "name": "koi_dikco_mdec_err",
         "rawType": "float64",
         "type": "float"
        },
        {
         "name": "koi_dikco_msky",
         "rawType": "float64",
         "type": "float"
        },
        {
         "name": "koi_dikco_msky_err",
         "rawType": "float64",
         "type": "float"
        }
       ],
       "ref": "27bde92f-64c5-4e28-b2c6-53a7b738b976",
       "rows": [
        [
         "0",
         "1",
         "10797460",
         "K00752.01",
         "Kepler-227 b",
         "CONFIRMED",
         "Done",
         "2018-08-16",
         "CANDIDATE",
         "1.0",
         "0",
         "0",
         "0",
         "0",
         "q1_q17_dr25_sup_koi",
         "NO_COMMENT",
         "9.48803557",
         "2.775e-05",
         "-2.775e-05",
         "170.53875",
         "0.00216",
         "-0.00216",
         "2455003.539",
         "0.00216",
         "-0.00216",
         "0.0",
         "0.146",
         "0.318",
         "-0.146",
         "2.9575",
         "0.0819",
         "-0.0819",
         "615.8",
         "19.5",
         "-19.5",
         "0.022344",
         "0.000832",
         "-0.000528",
         "3.20796",
         "0.33173",
         "-1.09986",
         "LS+MCMC",
         "2.26",
         "0.26",
         "-0.15",
         "0.0853",
         "89.66",
         "793.0",
         "93.59",
         "29.45",
         "-16.65",
         "24.81",
         "2.6",
         "-2.6",
         "Claret (2011 A&A 529 75) ATLAS LS",
         "0.0",
         "0.0",
         "0.2291",
         "0.4603",
         "q1_q17_dr25_koi",
         "5.135849",
         "28.47082",
         "35.8",
         "2",
         "142.0",
         "1.0",
         "q1_q17_dr25_tce",
         "11111111111111111000000000000000",
         "0.6864",
         "Mandel and Agol (2002 ApJ 580 171)",
         "010/010797/010797460/dv/kplr010797460-20160209194854_dvr.pdf",
         "010/010797/010797460/dv/kplr010797460-001-20160209194854_dvs.pdf",
         "5455.0",
         "81.0",
         "-81.0",
         "4.467",
         "0.064",
         "-0.096",
         "0.14",
         "0.15",
         "-0.15",
         "0.927",
         "0.105",
         "-0.061",
         "0.919",
         "0.052",
         "-0.046",
         "q1_q17_dr25_stellar",
         "291.93423",
         "48.141651",
         "15.347",
         "15.89",
         "15.27",
         "15.114",
         "15.006",
         "14.082",
         "13.751",
         "13.648",
         "0.002",
         "19.462294",
         "1.4e-05",
         "48.14191",
         "0.00013",
         "0.43",
         "0.51",
         "0.94",
         "0.48",
         "-0.0002",
         "0.00032",
         "-0.00055",
         "0.00031",
         "-0.01",
         "0.13",
         "0.2",
         "0.16",
         "0.2",
         "0.17",
         "0.08",
         "0.13",
         "0.31",
         "0.17",
         "0.32",
         "0.16"
        ],
        [
         "1",
         "2",
         "10797460",
         "K00752.02",
         "Kepler-227 c",
         "CONFIRMED",
         "Done",
         "2018-08-16",
         "CANDIDATE",
         "0.969",
         "0",
         "0",
         "0",
         "0",
         "q1_q17_dr25_sup_koi",
         "NO_COMMENT",
         "54.4183827",
         "0.0002479",
         "-0.0002479",
         "162.51384",
         "0.00352",
         "-0.00352",
         "2454995.514",
         "0.00352",
         "-0.00352",
         "0.0",
         "0.586",
         "0.059",
         "-0.443",
         "4.507",
         "0.116",
         "-0.116",
         "874.8",
         "35.5",
         "-35.5",
         "0.027954",
         "0.009078",
         "-0.001347",
         "3.02368",
         "2.20489",
         "-2.49638",
         "LS+MCMC",
         "2.83",
         "0.32",
         "-0.19",
         "0.2734",
         "89.57",
         "443.0",
         "9.11",
         "2.87",
         "-1.62",
         "77.9",
         "28.4",
         "-28.4",
         "Claret (2011 A&A 529 75) ATLAS LS",
         "0.0",
         "0.0",
         "0.2291",
         "0.4603",
         "q1_q17_dr25_koi",
         "7.027669",
         "20.109507",
         "25.8",
         "2",
         "25.0",
         "2.0",
         "q1_q17_dr25_tce",
         "11111111111111111000000000000000",
         "0.0023",
         "Mandel and Agol (2002 ApJ 580 171)",
         "010/010797/010797460/dv/kplr010797460-20160209194854_dvr.pdf",
         "010/010797/010797460/dv/kplr010797460-002-20160209194854_dvs.pdf",
         "5455.0",
         "81.0",
         "-81.0",
         "4.467",
         "0.064",
         "-0.096",
         "0.14",
         "0.15",
         "-0.15",
         "0.927",
         "0.105",
         "-0.061",
         "0.919",
         "0.052",
         "-0.046",
         "q1_q17_dr25_stellar",
         "291.93423",
         "48.141651",
         "15.347",
         "15.89",
         "15.27",
         "15.114",
         "15.006",
         "14.082",
         "13.751",
         "13.648",
         "0.003",
         "19.462265",
         "2e-05",
         "48.14199",
         "0.00019",
         "-0.63",
         "0.72",
         "1.23",
         "0.68",
         "0.00066",
         "0.00065",
         "-0.00105",
         "0.00063",
         "0.39",
         "0.36",
         "0.0",
         "0.48",
         "0.39",
         "0.36",
         "0.49",
         "0.34",
         "0.12",
         "0.73",
         "0.5",
         "0.45"
        ],
        [
         "2",
         "3",
         "10811496",
         "K00753.01",
         null,
         "CANDIDATE",
         "Done",
         "2018-08-16",
         "CANDIDATE",
         "0.0",
         "0",
         "0",
         "0",
         "0",
         "q1_q17_dr25_sup_koi",
         "DEEP_V_SHAPED",
         "19.89913995",
         "1.494e-05",
         "-1.494e-05",
         "175.850252",
         "0.000581",
         "-0.000581",
         "2455008.85",
         "0.000581",
         "-0.000581",
         "0.0",
         "0.969",
         "5.126",
         "-0.077",
         "1.7822",
         "0.0341",
         "-0.0341",
         "10829.0",
         "171.0",
         "-171.0",
         "0.154046",
         "5.034292",
         "-0.042179",
         "7.29555",
         "35.03293",
         "-2.75453",
         "LS+MCMC",
         "14.6",
         "3.92",
         "-1.31",
         "0.1419",
         "88.96",
         "638.0",
         "39.3",
         "31.04",
         "-10.49",
         "53.5",
         "25.7",
         "-25.7",
         "Claret (2011 A&A 529 75) ATLAS LS",
         "0.0",
         "0.0",
         "0.2711",
         "0.3858",
         "q1_q17_dr25_koi",
         "37.159767",
         "187.4491",
         "76.3",
         "1",
         "56.0",
         "1.0",
         "q1_q17_dr25_tce",
         "11111101110111011000000000000000",
         "0.6624",
         "Mandel and Agol (2002 ApJ 580 171)",
         "010/010811/010811496/dv/kplr010811496-20160209194854_dvr.pdf",
         "010/010811/010811496/dv/kplr010811496-001-20160209194854_dvs.pdf",
         "5853.0",
         "158.0",
         "-176.0",
         "4.544",
         "0.044",
         "-0.176",
         "-0.18",
         "0.3",
         "-0.3",
         "0.868",
         "0.233",
         "-0.078",
         "0.961",
         "0.11",
         "-0.121",
         "q1_q17_dr25_stellar",
         "297.00482",
         "48.134129",
         "15.436",
         "15.943",
         "15.39",
         "15.22",
         "15.166",
         "14.254",
         "13.9",
         "13.826",
         "0.278",
         "19.8003207",
         "1.9e-06",
         "48.13412",
         "2e-05",
         "-0.021",
         "0.069",
         "-0.038",
         "0.071",
         "0.0007",
         "0.0024",
         "0.0006",
         "0.0034",
         "-0.025",
         "0.07",
         "-0.034",
         "0.07",
         "0.042",
         "0.072",
         "0.002",
         "0.071",
         "-0.027",
         "0.074",
         "0.027",
         "0.074"
        ],
        [
         "3",
         "4",
         "10848459",
         "K00754.01",
         null,
         "FALSE POSITIVE",
         "Done",
         "2018-08-16",
         "FALSE POSITIVE",
         "0.0",
         "0",
         "1",
         "0",
         "0",
         "q1_q17_dr25_sup_koi",
         "MOD_ODDEVEN_DV---MOD_ODDEVEN_ALT---DEEP_V_SHAPED",
         "1.736952453",
         "2.63e-07",
         "-2.63e-07",
         "170.307565",
         "0.000115",
         "-0.000115",
         "2455003.308",
         "0.000115",
         "-0.000115",
         "0.0",
         "1.276",
         "0.115",
         "-0.092",
         "2.40641",
         "0.00537",
         "-0.00537",
         "8079.2",
         "12.8",
         "-12.8",
         "0.387394",
         "0.109232",
         "-0.08495",
         "0.2208",
         "0.00917",
         "-0.01837",
         "LS+MCMC",
         "33.46",
         "8.5",
         "-2.83",
         "0.0267",
         "67.09",
         "1395.0",
         "891.96",
         "668.95",
         "-230.35",
         "3.278",
         "0.136",
         "-0.136",
         "Claret (2011 A&A 529 75) ATLAS LS",
         "0.0",
         "0.0",
         "0.2865",
         "0.3556",
         "q1_q17_dr25_koi",
         "39.06655",
         "541.8951",
         "505.6",
         "1",
         "621.0",
         "1.0",
         "q1_q17_dr25_tce",
         "11111110111011101000000000000000",
         "0.0",
         "Mandel and Agol (2002 ApJ 580 171)",
         "010/010848/010848459/dv/kplr010848459-20160209194854_dvr.pdf",
         "010/010848/010848459/dv/kplr010848459-001-20160209194854_dvs.pdf",
         "5805.0",
         "157.0",
         "-174.0",
         "4.564",
         "0.053",
         "-0.168",
         "-0.52",
         "0.3",
         "-0.3",
         "0.791",
         "0.201",
         "-0.067",
         "0.836",
         "0.093",
         "-0.077",
         "q1_q17_dr25_stellar",
         "285.53461",
         "48.28521",
         "15.597",
         "16.1",
         "15.554",
         "15.382",
         "15.266",
         "14.326",
         "13.911",
         "13.809",
         "0.0",
         "19.03563762",
         "8.6e-07",
         "48.2852105",
         "7.4e-06",
         "-0.111",
         "0.031",
         "0.002",
         "0.027",
         "0.00302",
         "0.00057",
         "-0.00142",
         "0.00081",
         "-0.249",
         "0.072",
         "0.147",
         "0.078",
         "0.289",
         "0.079",
         "-0.257",
         "0.072",
         "0.099",
         "0.077",
         "0.276",
         "0.076"
        ],
        [
         "4",
         "5",
         "10854555",
         "K00755.01",
         "Kepler-664 b",
         "CONFIRMED",
         "Done",
         "2018-08-16",
         "CANDIDATE",
         "1.0",
         "0",
         "0",
         "0",
         "0",
         "q1_q17_dr25_sup_koi",
         "NO_COMMENT",
         "2.525591777",
         "3.761e-06",
         "-3.761e-06",
         "171.59555",
         "0.00113",
         "-0.00113",
         "2455004.596",
         "0.00113",
         "-0.00113",
         "0.0",
         "0.701",
         "0.235",
         "-0.478",
         "1.6545",
         "0.042",
         "-0.042",
         "603.3",
         "16.9",
         "-16.9",
         "0.024064",
         "0.003751",
         "-0.001522",
         "1.98635",
         "2.71141",
         "-1.74541",
         "LS+MCMC",
         "2.75",
         "0.88",
         "-0.35",
         "0.0374",
         "85.41",
         "1406.0",
         "926.16",
         "874.33",
         "-314.24",
         "8.75",
         "4.0",
         "-4.0",
         "Claret (2011 A&A 529 75) ATLAS LS",
         "0.0",
         "0.0",
         "0.2844",
         "0.3661",
         "q1_q17_dr25_koi",
         "4.749945",
         "33.1919",
         "40.9",
         "1",
         "515.0",
         "1.0",
         "q1_q17_dr25_tce",
         "01111111111111111000000000000000",
         "0.309",
         "Mandel and Agol (2002 ApJ 580 171)",
         "010/010854/010854555/dv/kplr010854555-20160209194854_dvr.pdf",
         "010/010854/010854555/dv/kplr010854555-001-20160209194854_dvs.pdf",
         "6031.0",
         "169.0",
         "-211.0",
         "4.438",
         "0.07",
         "-0.21",
         "0.07",
         "0.25",
         "-0.3",
         "1.046",
         "0.334",
         "-0.133",
         "1.095",
         "0.151",
         "-0.136",
         "q1_q17_dr25_stellar",
         "288.75488",
         "48.2262",
         "15.509",
         "16.015",
         "15.468",
         "15.292",
         "15.241",
         "14.366",
         "14.064",
         "13.952",
         "0.733",
         "19.2503258",
         "9.7e-06",
         "48.22626",
         "0.0001",
         "-0.01",
         "0.35",
         "0.23",
         "0.37",
         "8e-05",
         "0.0002",
         "-7e-05",
         "0.00022",
         "0.03",
         "0.19",
         "-0.09",
         "0.18",
         "0.1",
         "0.14",
         "0.07",
         "0.18",
         "0.02",
         "0.16",
         "0.07",
         "0.2"
        ]
       ],
       "shape": {
        "columns": 122,
        "rows": 5
       }
      },
      "text/html": [
       "<div>\n",
       "<style scoped>\n",
       "    .dataframe tbody tr th:only-of-type {\n",
       "        vertical-align: middle;\n",
       "    }\n",
       "\n",
       "    .dataframe tbody tr th {\n",
       "        vertical-align: top;\n",
       "    }\n",
       "\n",
       "    .dataframe thead th {\n",
       "        text-align: right;\n",
       "    }\n",
       "</style>\n",
       "<table border=\"1\" class=\"dataframe\">\n",
       "  <thead>\n",
       "    <tr style=\"text-align: right;\">\n",
       "      <th></th>\n",
       "      <th>rowid</th>\n",
       "      <th>kepid</th>\n",
       "      <th>kepoi_name</th>\n",
       "      <th>kepler_name</th>\n",
       "      <th>koi_disposition</th>\n",
       "      <th>koi_vet_stat</th>\n",
       "      <th>koi_vet_date</th>\n",
       "      <th>koi_pdisposition</th>\n",
       "      <th>koi_score</th>\n",
       "      <th>koi_fpflag_nt</th>\n",
       "      <th>...</th>\n",
       "      <th>koi_dicco_mdec</th>\n",
       "      <th>koi_dicco_mdec_err</th>\n",
       "      <th>koi_dicco_msky</th>\n",
       "      <th>koi_dicco_msky_err</th>\n",
       "      <th>koi_dikco_mra</th>\n",
       "      <th>koi_dikco_mra_err</th>\n",
       "      <th>koi_dikco_mdec</th>\n",
       "      <th>koi_dikco_mdec_err</th>\n",
       "      <th>koi_dikco_msky</th>\n",
       "      <th>koi_dikco_msky_err</th>\n",
       "    </tr>\n",
       "  </thead>\n",
       "  <tbody>\n",
       "    <tr>\n",
       "      <th>0</th>\n",
       "      <td>1</td>\n",
       "      <td>10797460</td>\n",
       "      <td>K00752.01</td>\n",
       "      <td>Kepler-227 b</td>\n",
       "      <td>CONFIRMED</td>\n",
       "      <td>Done</td>\n",
       "      <td>2018-08-16</td>\n",
       "      <td>CANDIDATE</td>\n",
       "      <td>1.000</td>\n",
       "      <td>0</td>\n",
       "      <td>...</td>\n",
       "      <td>0.200</td>\n",
       "      <td>0.160</td>\n",
       "      <td>0.200</td>\n",
       "      <td>0.170</td>\n",
       "      <td>0.080</td>\n",
       "      <td>0.130</td>\n",
       "      <td>0.310</td>\n",
       "      <td>0.170</td>\n",
       "      <td>0.320</td>\n",
       "      <td>0.160</td>\n",
       "    </tr>\n",
       "    <tr>\n",
       "      <th>1</th>\n",
       "      <td>2</td>\n",
       "      <td>10797460</td>\n",
       "      <td>K00752.02</td>\n",
       "      <td>Kepler-227 c</td>\n",
       "      <td>CONFIRMED</td>\n",
       "      <td>Done</td>\n",
       "      <td>2018-08-16</td>\n",
       "      <td>CANDIDATE</td>\n",
       "      <td>0.969</td>\n",
       "      <td>0</td>\n",
       "      <td>...</td>\n",
       "      <td>0.000</td>\n",
       "      <td>0.480</td>\n",
       "      <td>0.390</td>\n",
       "      <td>0.360</td>\n",
       "      <td>0.490</td>\n",
       "      <td>0.340</td>\n",
       "      <td>0.120</td>\n",
       "      <td>0.730</td>\n",
       "      <td>0.500</td>\n",
       "      <td>0.450</td>\n",
       "    </tr>\n",
       "    <tr>\n",
       "      <th>2</th>\n",
       "      <td>3</td>\n",
       "      <td>10811496</td>\n",
       "      <td>K00753.01</td>\n",
       "      <td>NaN</td>\n",
       "      <td>CANDIDATE</td>\n",
       "      <td>Done</td>\n",
       "      <td>2018-08-16</td>\n",
       "      <td>CANDIDATE</td>\n",
       "      <td>0.000</td>\n",
       "      <td>0</td>\n",
       "      <td>...</td>\n",
       "      <td>-0.034</td>\n",
       "      <td>0.070</td>\n",
       "      <td>0.042</td>\n",
       "      <td>0.072</td>\n",
       "      <td>0.002</td>\n",
       "      <td>0.071</td>\n",
       "      <td>-0.027</td>\n",
       "      <td>0.074</td>\n",
       "      <td>0.027</td>\n",
       "      <td>0.074</td>\n",
       "    </tr>\n",
       "    <tr>\n",
       "      <th>3</th>\n",
       "      <td>4</td>\n",
       "      <td>10848459</td>\n",
       "      <td>K00754.01</td>\n",
       "      <td>NaN</td>\n",
       "      <td>FALSE POSITIVE</td>\n",
       "      <td>Done</td>\n",
       "      <td>2018-08-16</td>\n",
       "      <td>FALSE POSITIVE</td>\n",
       "      <td>0.000</td>\n",
       "      <td>0</td>\n",
       "      <td>...</td>\n",
       "      <td>0.147</td>\n",
       "      <td>0.078</td>\n",
       "      <td>0.289</td>\n",
       "      <td>0.079</td>\n",
       "      <td>-0.257</td>\n",
       "      <td>0.072</td>\n",
       "      <td>0.099</td>\n",
       "      <td>0.077</td>\n",
       "      <td>0.276</td>\n",
       "      <td>0.076</td>\n",
       "    </tr>\n",
       "    <tr>\n",
       "      <th>4</th>\n",
       "      <td>5</td>\n",
       "      <td>10854555</td>\n",
       "      <td>K00755.01</td>\n",
       "      <td>Kepler-664 b</td>\n",
       "      <td>CONFIRMED</td>\n",
       "      <td>Done</td>\n",
       "      <td>2018-08-16</td>\n",
       "      <td>CANDIDATE</td>\n",
       "      <td>1.000</td>\n",
       "      <td>0</td>\n",
       "      <td>...</td>\n",
       "      <td>-0.090</td>\n",
       "      <td>0.180</td>\n",
       "      <td>0.100</td>\n",
       "      <td>0.140</td>\n",
       "      <td>0.070</td>\n",
       "      <td>0.180</td>\n",
       "      <td>0.020</td>\n",
       "      <td>0.160</td>\n",
       "      <td>0.070</td>\n",
       "      <td>0.200</td>\n",
       "    </tr>\n",
       "  </tbody>\n",
       "</table>\n",
       "<p>5 rows × 122 columns</p>\n",
       "</div>"
      ],
      "text/plain": [
       "   rowid     kepid kepoi_name   kepler_name koi_disposition koi_vet_stat  \\\n",
       "0      1  10797460  K00752.01  Kepler-227 b       CONFIRMED         Done   \n",
       "1      2  10797460  K00752.02  Kepler-227 c       CONFIRMED         Done   \n",
       "2      3  10811496  K00753.01           NaN       CANDIDATE         Done   \n",
       "3      4  10848459  K00754.01           NaN  FALSE POSITIVE         Done   \n",
       "4      5  10854555  K00755.01  Kepler-664 b       CONFIRMED         Done   \n",
       "\n",
       "  koi_vet_date koi_pdisposition  koi_score  koi_fpflag_nt  ...  \\\n",
       "0   2018-08-16        CANDIDATE      1.000              0  ...   \n",
       "1   2018-08-16        CANDIDATE      0.969              0  ...   \n",
       "2   2018-08-16        CANDIDATE      0.000              0  ...   \n",
       "3   2018-08-16   FALSE POSITIVE      0.000              0  ...   \n",
       "4   2018-08-16        CANDIDATE      1.000              0  ...   \n",
       "\n",
       "   koi_dicco_mdec  koi_dicco_mdec_err  koi_dicco_msky koi_dicco_msky_err  \\\n",
       "0           0.200               0.160           0.200              0.170   \n",
       "1           0.000               0.480           0.390              0.360   \n",
       "2          -0.034               0.070           0.042              0.072   \n",
       "3           0.147               0.078           0.289              0.079   \n",
       "4          -0.090               0.180           0.100              0.140   \n",
       "\n",
       "  koi_dikco_mra  koi_dikco_mra_err  koi_dikco_mdec  koi_dikco_mdec_err  \\\n",
       "0         0.080              0.130           0.310               0.170   \n",
       "1         0.490              0.340           0.120               0.730   \n",
       "2         0.002              0.071          -0.027               0.074   \n",
       "3        -0.257              0.072           0.099               0.077   \n",
       "4         0.070              0.180           0.020               0.160   \n",
       "\n",
       "   koi_dikco_msky  koi_dikco_msky_err  \n",
       "0           0.320               0.160  \n",
       "1           0.500               0.450  \n",
       "2           0.027               0.074  \n",
       "3           0.276               0.076  \n",
       "4           0.070               0.200  \n",
       "\n",
       "[5 rows x 122 columns]"
      ]
     },
     "execution_count": 9,
     "metadata": {},
     "output_type": "execute_result"
    }
   ],
   "source": [
    "df.head()"
   ]
  },
  {
   "cell_type": "code",
   "execution_count": 10,
   "id": "993cc4df",
   "metadata": {},
   "outputs": [],
   "source": [
    "df = drop_columns(df, big_KOI_data)"
   ]
  },
  {
   "cell_type": "markdown",
   "id": "25abaa71",
   "metadata": {},
   "source": [
    "#### Filtered on Confirmed and X"
   ]
  },
  {
   "cell_type": "code",
   "execution_count": 11,
   "id": "ad833a36",
   "metadata": {},
   "outputs": [
    {
     "name": "stdout",
     "output_type": "stream",
     "text": [
      "Remaining dispositions:\n",
      " koi_disposition\n",
      "CONFIRMED    2746\n",
      "CANDIDATE    1979\n",
      "Name: count, dtype: int64\n"
     ]
    }
   ],
   "source": [
    "label_A = \"CONFIRMED\"\n",
    "label_B = \"CANDIDATE\"\n",
    "# Step 1: Filter out FP\n",
    "df_rem_filtered = df[df['koi_disposition'].isin([label_A, label_B])].copy()\n",
    "\n",
    "if label_B==\"FALSE POSITIVE\":\n",
    "    # remove all columns with false positive flags (flg somewhere in column name)\n",
    "    fp_cols = [col for col in df_rem_filtered.columns if \"fpflag\" in col.lower()]\n",
    "    if fp_cols:\n",
    "        df_rem_filtered = df_rem_filtered.drop(columns=fp_cols)\n",
    "        print(f\"Dropped fpflag columns: {fp_cols}\")\n",
    "\n",
    "print(\"Remaining dispositions:\\n\", df_rem_filtered['koi_disposition'].value_counts())"
   ]
  },
  {
   "cell_type": "code",
   "execution_count": 12,
   "id": "ed232ee5",
   "metadata": {},
   "outputs": [
    {
     "data": {
      "application/vnd.microsoft.datawrangler.viewer.v0+json": {
       "columns": [
        {
         "name": "index",
         "rawType": "int64",
         "type": "integer"
        },
        {
         "name": "koi_disposition",
         "rawType": "object",
         "type": "string"
        },
        {
         "name": "koi_vet_stat",
         "rawType": "object",
         "type": "string"
        },
        {
         "name": "koi_vet_date",
         "rawType": "object",
         "type": "string"
        },
        {
         "name": "koi_fpflag_nt",
         "rawType": "int64",
         "type": "integer"
        },
        {
         "name": "koi_fpflag_ss",
         "rawType": "int64",
         "type": "integer"
        },
        {
         "name": "koi_fpflag_co",
         "rawType": "int64",
         "type": "integer"
        },
        {
         "name": "koi_fpflag_ec",
         "rawType": "int64",
         "type": "integer"
        },
        {
         "name": "koi_disp_prov",
         "rawType": "object",
         "type": "string"
        },
        {
         "name": "koi_comment",
         "rawType": "object",
         "type": "string"
        },
        {
         "name": "koi_period",
         "rawType": "float64",
         "type": "float"
        },
        {
         "name": "koi_period_err1",
         "rawType": "float64",
         "type": "float"
        },
        {
         "name": "koi_period_err2",
         "rawType": "float64",
         "type": "float"
        },
        {
         "name": "koi_time0bk",
         "rawType": "float64",
         "type": "float"
        },
        {
         "name": "koi_time0bk_err1",
         "rawType": "float64",
         "type": "float"
        },
        {
         "name": "koi_time0bk_err2",
         "rawType": "float64",
         "type": "float"
        },
        {
         "name": "koi_time0",
         "rawType": "float64",
         "type": "float"
        },
        {
         "name": "koi_time0_err1",
         "rawType": "float64",
         "type": "float"
        },
        {
         "name": "koi_time0_err2",
         "rawType": "float64",
         "type": "float"
        },
        {
         "name": "koi_eccen",
         "rawType": "float64",
         "type": "float"
        },
        {
         "name": "koi_impact",
         "rawType": "float64",
         "type": "float"
        },
        {
         "name": "koi_impact_err1",
         "rawType": "float64",
         "type": "float"
        },
        {
         "name": "koi_impact_err2",
         "rawType": "float64",
         "type": "float"
        },
        {
         "name": "koi_duration",
         "rawType": "float64",
         "type": "float"
        },
        {
         "name": "koi_duration_err1",
         "rawType": "float64",
         "type": "float"
        },
        {
         "name": "koi_duration_err2",
         "rawType": "float64",
         "type": "float"
        },
        {
         "name": "koi_depth",
         "rawType": "float64",
         "type": "float"
        },
        {
         "name": "koi_depth_err1",
         "rawType": "float64",
         "type": "float"
        },
        {
         "name": "koi_depth_err2",
         "rawType": "float64",
         "type": "float"
        },
        {
         "name": "koi_ror",
         "rawType": "float64",
         "type": "float"
        },
        {
         "name": "koi_ror_err1",
         "rawType": "float64",
         "type": "float"
        },
        {
         "name": "koi_ror_err2",
         "rawType": "float64",
         "type": "float"
        },
        {
         "name": "koi_srho",
         "rawType": "float64",
         "type": "float"
        },
        {
         "name": "koi_srho_err1",
         "rawType": "float64",
         "type": "float"
        },
        {
         "name": "koi_srho_err2",
         "rawType": "float64",
         "type": "float"
        },
        {
         "name": "koi_fittype",
         "rawType": "object",
         "type": "string"
        },
        {
         "name": "koi_prad",
         "rawType": "float64",
         "type": "float"
        },
        {
         "name": "koi_prad_err1",
         "rawType": "float64",
         "type": "float"
        },
        {
         "name": "koi_prad_err2",
         "rawType": "float64",
         "type": "float"
        },
        {
         "name": "koi_sma",
         "rawType": "float64",
         "type": "float"
        },
        {
         "name": "koi_incl",
         "rawType": "float64",
         "type": "float"
        },
        {
         "name": "koi_teq",
         "rawType": "float64",
         "type": "float"
        },
        {
         "name": "koi_insol",
         "rawType": "float64",
         "type": "float"
        },
        {
         "name": "koi_insol_err1",
         "rawType": "float64",
         "type": "float"
        },
        {
         "name": "koi_insol_err2",
         "rawType": "float64",
         "type": "float"
        },
        {
         "name": "koi_dor",
         "rawType": "float64",
         "type": "float"
        },
        {
         "name": "koi_dor_err1",
         "rawType": "float64",
         "type": "float"
        },
        {
         "name": "koi_dor_err2",
         "rawType": "float64",
         "type": "float"
        },
        {
         "name": "koi_limbdark_mod",
         "rawType": "object",
         "type": "string"
        },
        {
         "name": "koi_ldm_coeff4",
         "rawType": "float64",
         "type": "float"
        },
        {
         "name": "koi_ldm_coeff3",
         "rawType": "float64",
         "type": "float"
        },
        {
         "name": "koi_ldm_coeff2",
         "rawType": "float64",
         "type": "float"
        },
        {
         "name": "koi_ldm_coeff1",
         "rawType": "float64",
         "type": "float"
        },
        {
         "name": "koi_parm_prov",
         "rawType": "object",
         "type": "string"
        },
        {
         "name": "koi_max_sngle_ev",
         "rawType": "float64",
         "type": "float"
        },
        {
         "name": "koi_max_mult_ev",
         "rawType": "float64",
         "type": "float"
        },
        {
         "name": "koi_model_snr",
         "rawType": "float64",
         "type": "float"
        },
        {
         "name": "koi_count",
         "rawType": "int64",
         "type": "integer"
        },
        {
         "name": "koi_num_transits",
         "rawType": "float64",
         "type": "float"
        },
        {
         "name": "koi_tce_plnt_num",
         "rawType": "float64",
         "type": "float"
        },
        {
         "name": "koi_quarters",
         "rawType": "object",
         "type": "string"
        },
        {
         "name": "koi_bin_oedp_sig",
         "rawType": "float64",
         "type": "float"
        },
        {
         "name": "koi_trans_mod",
         "rawType": "object",
         "type": "string"
        },
        {
         "name": "koi_datalink_dvr",
         "rawType": "object",
         "type": "string"
        },
        {
         "name": "koi_datalink_dvs",
         "rawType": "object",
         "type": "string"
        },
        {
         "name": "koi_steff",
         "rawType": "float64",
         "type": "float"
        },
        {
         "name": "koi_steff_err1",
         "rawType": "float64",
         "type": "float"
        },
        {
         "name": "koi_steff_err2",
         "rawType": "float64",
         "type": "float"
        },
        {
         "name": "koi_slogg",
         "rawType": "float64",
         "type": "float"
        },
        {
         "name": "koi_slogg_err1",
         "rawType": "float64",
         "type": "float"
        },
        {
         "name": "koi_slogg_err2",
         "rawType": "float64",
         "type": "float"
        },
        {
         "name": "koi_smet",
         "rawType": "float64",
         "type": "float"
        },
        {
         "name": "koi_smet_err1",
         "rawType": "float64",
         "type": "float"
        },
        {
         "name": "koi_smet_err2",
         "rawType": "float64",
         "type": "float"
        },
        {
         "name": "koi_srad",
         "rawType": "float64",
         "type": "float"
        },
        {
         "name": "koi_srad_err1",
         "rawType": "float64",
         "type": "float"
        },
        {
         "name": "koi_srad_err2",
         "rawType": "float64",
         "type": "float"
        },
        {
         "name": "koi_smass",
         "rawType": "float64",
         "type": "float"
        },
        {
         "name": "koi_smass_err1",
         "rawType": "float64",
         "type": "float"
        },
        {
         "name": "koi_smass_err2",
         "rawType": "float64",
         "type": "float"
        },
        {
         "name": "koi_sparprov",
         "rawType": "object",
         "type": "string"
        },
        {
         "name": "ra",
         "rawType": "float64",
         "type": "float"
        },
        {
         "name": "dec",
         "rawType": "float64",
         "type": "float"
        },
        {
         "name": "koi_kepmag",
         "rawType": "float64",
         "type": "float"
        },
        {
         "name": "koi_gmag",
         "rawType": "float64",
         "type": "float"
        },
        {
         "name": "koi_rmag",
         "rawType": "float64",
         "type": "float"
        },
        {
         "name": "koi_imag",
         "rawType": "float64",
         "type": "float"
        },
        {
         "name": "koi_zmag",
         "rawType": "float64",
         "type": "float"
        },
        {
         "name": "koi_jmag",
         "rawType": "float64",
         "type": "float"
        },
        {
         "name": "koi_hmag",
         "rawType": "float64",
         "type": "float"
        },
        {
         "name": "koi_kmag",
         "rawType": "float64",
         "type": "float"
        },
        {
         "name": "koi_fwm_stat_sig",
         "rawType": "float64",
         "type": "float"
        },
        {
         "name": "koi_fwm_sra",
         "rawType": "float64",
         "type": "float"
        },
        {
         "name": "koi_fwm_sra_err",
         "rawType": "float64",
         "type": "float"
        },
        {
         "name": "koi_fwm_sdec",
         "rawType": "float64",
         "type": "float"
        },
        {
         "name": "koi_fwm_sdec_err",
         "rawType": "float64",
         "type": "float"
        },
        {
         "name": "koi_fwm_srao",
         "rawType": "float64",
         "type": "float"
        },
        {
         "name": "koi_fwm_srao_err",
         "rawType": "float64",
         "type": "float"
        },
        {
         "name": "koi_fwm_sdeco",
         "rawType": "float64",
         "type": "float"
        },
        {
         "name": "koi_fwm_sdeco_err",
         "rawType": "float64",
         "type": "float"
        },
        {
         "name": "koi_fwm_prao",
         "rawType": "float64",
         "type": "float"
        },
        {
         "name": "koi_fwm_prao_err",
         "rawType": "float64",
         "type": "float"
        },
        {
         "name": "koi_fwm_pdeco",
         "rawType": "float64",
         "type": "float"
        },
        {
         "name": "koi_fwm_pdeco_err",
         "rawType": "float64",
         "type": "float"
        },
        {
         "name": "koi_dicco_mra",
         "rawType": "float64",
         "type": "float"
        },
        {
         "name": "koi_dicco_mra_err",
         "rawType": "float64",
         "type": "float"
        },
        {
         "name": "koi_dicco_mdec",
         "rawType": "float64",
         "type": "float"
        },
        {
         "name": "koi_dicco_mdec_err",
         "rawType": "float64",
         "type": "float"
        },
        {
         "name": "koi_dicco_msky",
         "rawType": "float64",
         "type": "float"
        },
        {
         "name": "koi_dicco_msky_err",
         "rawType": "float64",
         "type": "float"
        },
        {
         "name": "koi_dikco_mra",
         "rawType": "float64",
         "type": "float"
        },
        {
         "name": "koi_dikco_mra_err",
         "rawType": "float64",
         "type": "float"
        },
        {
         "name": "koi_dikco_mdec",
         "rawType": "float64",
         "type": "float"
        },
        {
         "name": "koi_dikco_mdec_err",
         "rawType": "float64",
         "type": "float"
        },
        {
         "name": "koi_dikco_msky",
         "rawType": "float64",
         "type": "float"
        },
        {
         "name": "koi_dikco_msky_err",
         "rawType": "float64",
         "type": "float"
        }
       ],
       "ref": "4990b847-9ee5-40fb-a386-5a88769b6db3",
       "rows": [
        [
         "0",
         "CONFIRMED",
         "Done",
         "2018-08-16",
         "0",
         "0",
         "0",
         "0",
         "q1_q17_dr25_sup_koi",
         "NO_COMMENT",
         "9.48803557",
         "2.775e-05",
         "-2.775e-05",
         "170.53875",
         "0.00216",
         "-0.00216",
         "2455003.539",
         "0.00216",
         "-0.00216",
         "0.0",
         "0.146",
         "0.318",
         "-0.146",
         "2.9575",
         "0.0819",
         "-0.0819",
         "615.8",
         "19.5",
         "-19.5",
         "0.022344",
         "0.000832",
         "-0.000528",
         "3.20796",
         "0.33173",
         "-1.09986",
         "LS+MCMC",
         "2.26",
         "0.26",
         "-0.15",
         "0.0853",
         "89.66",
         "793.0",
         "93.59",
         "29.45",
         "-16.65",
         "24.81",
         "2.6",
         "-2.6",
         "Claret (2011 A&A 529 75) ATLAS LS",
         "0.0",
         "0.0",
         "0.2291",
         "0.4603",
         "q1_q17_dr25_koi",
         "5.135849",
         "28.47082",
         "35.8",
         "2",
         "142.0",
         "1.0",
         "11111111111111111000000000000000",
         "0.6864",
         "Mandel and Agol (2002 ApJ 580 171)",
         "010/010797/010797460/dv/kplr010797460-20160209194854_dvr.pdf",
         "010/010797/010797460/dv/kplr010797460-001-20160209194854_dvs.pdf",
         "5455.0",
         "81.0",
         "-81.0",
         "4.467",
         "0.064",
         "-0.096",
         "0.14",
         "0.15",
         "-0.15",
         "0.927",
         "0.105",
         "-0.061",
         "0.919",
         "0.052",
         "-0.046",
         "q1_q17_dr25_stellar",
         "291.93423",
         "48.141651",
         "15.347",
         "15.89",
         "15.27",
         "15.114",
         "15.006",
         "14.082",
         "13.751",
         "13.648",
         "0.002",
         "19.462294",
         "1.4e-05",
         "48.14191",
         "0.00013",
         "0.43",
         "0.51",
         "0.94",
         "0.48",
         "-0.0002",
         "0.00032",
         "-0.00055",
         "0.00031",
         "-0.01",
         "0.13",
         "0.2",
         "0.16",
         "0.2",
         "0.17",
         "0.08",
         "0.13",
         "0.31",
         "0.17",
         "0.32",
         "0.16"
        ],
        [
         "1",
         "CONFIRMED",
         "Done",
         "2018-08-16",
         "0",
         "0",
         "0",
         "0",
         "q1_q17_dr25_sup_koi",
         "NO_COMMENT",
         "54.4183827",
         "0.0002479",
         "-0.0002479",
         "162.51384",
         "0.00352",
         "-0.00352",
         "2454995.514",
         "0.00352",
         "-0.00352",
         "0.0",
         "0.586",
         "0.059",
         "-0.443",
         "4.507",
         "0.116",
         "-0.116",
         "874.8",
         "35.5",
         "-35.5",
         "0.027954",
         "0.009078",
         "-0.001347",
         "3.02368",
         "2.20489",
         "-2.49638",
         "LS+MCMC",
         "2.83",
         "0.32",
         "-0.19",
         "0.2734",
         "89.57",
         "443.0",
         "9.11",
         "2.87",
         "-1.62",
         "77.9",
         "28.4",
         "-28.4",
         "Claret (2011 A&A 529 75) ATLAS LS",
         "0.0",
         "0.0",
         "0.2291",
         "0.4603",
         "q1_q17_dr25_koi",
         "7.027669",
         "20.109507",
         "25.8",
         "2",
         "25.0",
         "2.0",
         "11111111111111111000000000000000",
         "0.0023",
         "Mandel and Agol (2002 ApJ 580 171)",
         "010/010797/010797460/dv/kplr010797460-20160209194854_dvr.pdf",
         "010/010797/010797460/dv/kplr010797460-002-20160209194854_dvs.pdf",
         "5455.0",
         "81.0",
         "-81.0",
         "4.467",
         "0.064",
         "-0.096",
         "0.14",
         "0.15",
         "-0.15",
         "0.927",
         "0.105",
         "-0.061",
         "0.919",
         "0.052",
         "-0.046",
         "q1_q17_dr25_stellar",
         "291.93423",
         "48.141651",
         "15.347",
         "15.89",
         "15.27",
         "15.114",
         "15.006",
         "14.082",
         "13.751",
         "13.648",
         "0.003",
         "19.462265",
         "2e-05",
         "48.14199",
         "0.00019",
         "-0.63",
         "0.72",
         "1.23",
         "0.68",
         "0.00066",
         "0.00065",
         "-0.00105",
         "0.00063",
         "0.39",
         "0.36",
         "0.0",
         "0.48",
         "0.39",
         "0.36",
         "0.49",
         "0.34",
         "0.12",
         "0.73",
         "0.5",
         "0.45"
        ],
        [
         "2",
         "CANDIDATE",
         "Done",
         "2018-08-16",
         "0",
         "0",
         "0",
         "0",
         "q1_q17_dr25_sup_koi",
         "DEEP_V_SHAPED",
         "19.89913995",
         "1.494e-05",
         "-1.494e-05",
         "175.850252",
         "0.000581",
         "-0.000581",
         "2455008.85",
         "0.000581",
         "-0.000581",
         "0.0",
         "0.969",
         "5.126",
         "-0.077",
         "1.7822",
         "0.0341",
         "-0.0341",
         "10829.0",
         "171.0",
         "-171.0",
         "0.154046",
         "5.034292",
         "-0.042179",
         "7.29555",
         "35.03293",
         "-2.75453",
         "LS+MCMC",
         "14.6",
         "3.92",
         "-1.31",
         "0.1419",
         "88.96",
         "638.0",
         "39.3",
         "31.04",
         "-10.49",
         "53.5",
         "25.7",
         "-25.7",
         "Claret (2011 A&A 529 75) ATLAS LS",
         "0.0",
         "0.0",
         "0.2711",
         "0.3858",
         "q1_q17_dr25_koi",
         "37.159767",
         "187.4491",
         "76.3",
         "1",
         "56.0",
         "1.0",
         "11111101110111011000000000000000",
         "0.6624",
         "Mandel and Agol (2002 ApJ 580 171)",
         "010/010811/010811496/dv/kplr010811496-20160209194854_dvr.pdf",
         "010/010811/010811496/dv/kplr010811496-001-20160209194854_dvs.pdf",
         "5853.0",
         "158.0",
         "-176.0",
         "4.544",
         "0.044",
         "-0.176",
         "-0.18",
         "0.3",
         "-0.3",
         "0.868",
         "0.233",
         "-0.078",
         "0.961",
         "0.11",
         "-0.121",
         "q1_q17_dr25_stellar",
         "297.00482",
         "48.134129",
         "15.436",
         "15.943",
         "15.39",
         "15.22",
         "15.166",
         "14.254",
         "13.9",
         "13.826",
         "0.278",
         "19.8003207",
         "1.9e-06",
         "48.13412",
         "2e-05",
         "-0.021",
         "0.069",
         "-0.038",
         "0.071",
         "0.0007",
         "0.0024",
         "0.0006",
         "0.0034",
         "-0.025",
         "0.07",
         "-0.034",
         "0.07",
         "0.042",
         "0.072",
         "0.002",
         "0.071",
         "-0.027",
         "0.074",
         "0.027",
         "0.074"
        ],
        [
         "4",
         "CONFIRMED",
         "Done",
         "2018-08-16",
         "0",
         "0",
         "0",
         "0",
         "q1_q17_dr25_sup_koi",
         "NO_COMMENT",
         "2.525591777",
         "3.761e-06",
         "-3.761e-06",
         "171.59555",
         "0.00113",
         "-0.00113",
         "2455004.596",
         "0.00113",
         "-0.00113",
         "0.0",
         "0.701",
         "0.235",
         "-0.478",
         "1.6545",
         "0.042",
         "-0.042",
         "603.3",
         "16.9",
         "-16.9",
         "0.024064",
         "0.003751",
         "-0.001522",
         "1.98635",
         "2.71141",
         "-1.74541",
         "LS+MCMC",
         "2.75",
         "0.88",
         "-0.35",
         "0.0374",
         "85.41",
         "1406.0",
         "926.16",
         "874.33",
         "-314.24",
         "8.75",
         "4.0",
         "-4.0",
         "Claret (2011 A&A 529 75) ATLAS LS",
         "0.0",
         "0.0",
         "0.2844",
         "0.3661",
         "q1_q17_dr25_koi",
         "4.749945",
         "33.1919",
         "40.9",
         "1",
         "515.0",
         "1.0",
         "01111111111111111000000000000000",
         "0.309",
         "Mandel and Agol (2002 ApJ 580 171)",
         "010/010854/010854555/dv/kplr010854555-20160209194854_dvr.pdf",
         "010/010854/010854555/dv/kplr010854555-001-20160209194854_dvs.pdf",
         "6031.0",
         "169.0",
         "-211.0",
         "4.438",
         "0.07",
         "-0.21",
         "0.07",
         "0.25",
         "-0.3",
         "1.046",
         "0.334",
         "-0.133",
         "1.095",
         "0.151",
         "-0.136",
         "q1_q17_dr25_stellar",
         "288.75488",
         "48.2262",
         "15.509",
         "16.015",
         "15.468",
         "15.292",
         "15.241",
         "14.366",
         "14.064",
         "13.952",
         "0.733",
         "19.2503258",
         "9.7e-06",
         "48.22626",
         "0.0001",
         "-0.01",
         "0.35",
         "0.23",
         "0.37",
         "8e-05",
         "0.0002",
         "-7e-05",
         "0.00022",
         "0.03",
         "0.19",
         "-0.09",
         "0.18",
         "0.1",
         "0.14",
         "0.07",
         "0.18",
         "0.02",
         "0.16",
         "0.07",
         "0.2"
        ],
        [
         "5",
         "CONFIRMED",
         "Done",
         "2018-08-16",
         "0",
         "0",
         "0",
         "0",
         "q1_q17_dr25_sup_koi",
         "NO_COMMENT",
         "11.09432054",
         "2.036e-05",
         "-2.036e-05",
         "171.20116",
         "0.00141",
         "-0.00141",
         "2455004.201",
         "0.00141",
         "-0.00141",
         "0.0",
         "0.538",
         "0.03",
         "-0.428",
         "4.5945",
         "0.061",
         "-0.061",
         "1517.5",
         "24.2",
         "-24.2",
         "0.036779",
         "0.005115",
         "-0.001065",
         "0.67324",
         "0.33286",
         "-0.38858",
         "LS+MCMC",
         "3.9",
         "1.27",
         "-0.42",
         "0.0992",
         "88.11",
         "835.0",
         "114.81",
         "112.85",
         "-36.7",
         "16.36",
         "8.1",
         "-8.1",
         "Claret (2011 A&A 529 75) ATLAS LS",
         "0.0",
         "0.0",
         "0.2889",
         "0.3511",
         "q1_q17_dr25_koi",
         "9.046456",
         "55.204865",
         "66.5",
         "3",
         "95.0",
         "1.0",
         "01111101110111011000000000000000",
         "0.0975",
         "Mandel and Agol (2002 ApJ 580 171)",
         "010/010872/010872983/dv/kplr010872983-20160209194854_dvr.pdf",
         "010/010872/010872983/dv/kplr010872983-001-20160209194854_dvs.pdf",
         "6046.0",
         "189.0",
         "-232.0",
         "4.486",
         "0.054",
         "-0.229",
         "-0.08",
         "0.25",
         "-0.3",
         "0.972",
         "0.315",
         "-0.105",
         "1.053",
         "0.135",
         "-0.15",
         "q1_q17_dr25_stellar",
         "296.28613",
         "48.22467",
         "15.714",
         "16.234",
         "15.677",
         "15.492",
         "15.441",
         "14.528",
         "14.113",
         "14.132",
         null,
         "19.7524061",
         "6.1e-06",
         "48.22471",
         "6.5e-05",
         "-0.12",
         "0.22",
         "0.14",
         "0.24",
         "4e-05",
         "0.00034",
         null,
         null,
         "0.04",
         "0.12",
         "-0.07",
         "0.11",
         "0.08",
         "0.13",
         "-0.02",
         "0.13",
         "-0.08",
         "0.1",
         "0.08",
         "0.1"
        ]
       ],
       "shape": {
        "columns": 115,
        "rows": 5
       }
      },
      "text/html": [
       "<div>\n",
       "<style scoped>\n",
       "    .dataframe tbody tr th:only-of-type {\n",
       "        vertical-align: middle;\n",
       "    }\n",
       "\n",
       "    .dataframe tbody tr th {\n",
       "        vertical-align: top;\n",
       "    }\n",
       "\n",
       "    .dataframe thead th {\n",
       "        text-align: right;\n",
       "    }\n",
       "</style>\n",
       "<table border=\"1\" class=\"dataframe\">\n",
       "  <thead>\n",
       "    <tr style=\"text-align: right;\">\n",
       "      <th></th>\n",
       "      <th>koi_disposition</th>\n",
       "      <th>koi_vet_stat</th>\n",
       "      <th>koi_vet_date</th>\n",
       "      <th>koi_fpflag_nt</th>\n",
       "      <th>koi_fpflag_ss</th>\n",
       "      <th>koi_fpflag_co</th>\n",
       "      <th>koi_fpflag_ec</th>\n",
       "      <th>koi_disp_prov</th>\n",
       "      <th>koi_comment</th>\n",
       "      <th>koi_period</th>\n",
       "      <th>...</th>\n",
       "      <th>koi_dicco_mdec</th>\n",
       "      <th>koi_dicco_mdec_err</th>\n",
       "      <th>koi_dicco_msky</th>\n",
       "      <th>koi_dicco_msky_err</th>\n",
       "      <th>koi_dikco_mra</th>\n",
       "      <th>koi_dikco_mra_err</th>\n",
       "      <th>koi_dikco_mdec</th>\n",
       "      <th>koi_dikco_mdec_err</th>\n",
       "      <th>koi_dikco_msky</th>\n",
       "      <th>koi_dikco_msky_err</th>\n",
       "    </tr>\n",
       "  </thead>\n",
       "  <tbody>\n",
       "    <tr>\n",
       "      <th>0</th>\n",
       "      <td>CONFIRMED</td>\n",
       "      <td>Done</td>\n",
       "      <td>2018-08-16</td>\n",
       "      <td>0</td>\n",
       "      <td>0</td>\n",
       "      <td>0</td>\n",
       "      <td>0</td>\n",
       "      <td>q1_q17_dr25_sup_koi</td>\n",
       "      <td>NO_COMMENT</td>\n",
       "      <td>9.488036</td>\n",
       "      <td>...</td>\n",
       "      <td>0.200</td>\n",
       "      <td>0.16</td>\n",
       "      <td>0.200</td>\n",
       "      <td>0.170</td>\n",
       "      <td>0.080</td>\n",
       "      <td>0.130</td>\n",
       "      <td>0.310</td>\n",
       "      <td>0.170</td>\n",
       "      <td>0.320</td>\n",
       "      <td>0.160</td>\n",
       "    </tr>\n",
       "    <tr>\n",
       "      <th>1</th>\n",
       "      <td>CONFIRMED</td>\n",
       "      <td>Done</td>\n",
       "      <td>2018-08-16</td>\n",
       "      <td>0</td>\n",
       "      <td>0</td>\n",
       "      <td>0</td>\n",
       "      <td>0</td>\n",
       "      <td>q1_q17_dr25_sup_koi</td>\n",
       "      <td>NO_COMMENT</td>\n",
       "      <td>54.418383</td>\n",
       "      <td>...</td>\n",
       "      <td>0.000</td>\n",
       "      <td>0.48</td>\n",
       "      <td>0.390</td>\n",
       "      <td>0.360</td>\n",
       "      <td>0.490</td>\n",
       "      <td>0.340</td>\n",
       "      <td>0.120</td>\n",
       "      <td>0.730</td>\n",
       "      <td>0.500</td>\n",
       "      <td>0.450</td>\n",
       "    </tr>\n",
       "    <tr>\n",
       "      <th>2</th>\n",
       "      <td>CANDIDATE</td>\n",
       "      <td>Done</td>\n",
       "      <td>2018-08-16</td>\n",
       "      <td>0</td>\n",
       "      <td>0</td>\n",
       "      <td>0</td>\n",
       "      <td>0</td>\n",
       "      <td>q1_q17_dr25_sup_koi</td>\n",
       "      <td>DEEP_V_SHAPED</td>\n",
       "      <td>19.899140</td>\n",
       "      <td>...</td>\n",
       "      <td>-0.034</td>\n",
       "      <td>0.07</td>\n",
       "      <td>0.042</td>\n",
       "      <td>0.072</td>\n",
       "      <td>0.002</td>\n",
       "      <td>0.071</td>\n",
       "      <td>-0.027</td>\n",
       "      <td>0.074</td>\n",
       "      <td>0.027</td>\n",
       "      <td>0.074</td>\n",
       "    </tr>\n",
       "    <tr>\n",
       "      <th>4</th>\n",
       "      <td>CONFIRMED</td>\n",
       "      <td>Done</td>\n",
       "      <td>2018-08-16</td>\n",
       "      <td>0</td>\n",
       "      <td>0</td>\n",
       "      <td>0</td>\n",
       "      <td>0</td>\n",
       "      <td>q1_q17_dr25_sup_koi</td>\n",
       "      <td>NO_COMMENT</td>\n",
       "      <td>2.525592</td>\n",
       "      <td>...</td>\n",
       "      <td>-0.090</td>\n",
       "      <td>0.18</td>\n",
       "      <td>0.100</td>\n",
       "      <td>0.140</td>\n",
       "      <td>0.070</td>\n",
       "      <td>0.180</td>\n",
       "      <td>0.020</td>\n",
       "      <td>0.160</td>\n",
       "      <td>0.070</td>\n",
       "      <td>0.200</td>\n",
       "    </tr>\n",
       "    <tr>\n",
       "      <th>5</th>\n",
       "      <td>CONFIRMED</td>\n",
       "      <td>Done</td>\n",
       "      <td>2018-08-16</td>\n",
       "      <td>0</td>\n",
       "      <td>0</td>\n",
       "      <td>0</td>\n",
       "      <td>0</td>\n",
       "      <td>q1_q17_dr25_sup_koi</td>\n",
       "      <td>NO_COMMENT</td>\n",
       "      <td>11.094321</td>\n",
       "      <td>...</td>\n",
       "      <td>-0.070</td>\n",
       "      <td>0.11</td>\n",
       "      <td>0.080</td>\n",
       "      <td>0.130</td>\n",
       "      <td>-0.020</td>\n",
       "      <td>0.130</td>\n",
       "      <td>-0.080</td>\n",
       "      <td>0.100</td>\n",
       "      <td>0.080</td>\n",
       "      <td>0.100</td>\n",
       "    </tr>\n",
       "  </tbody>\n",
       "</table>\n",
       "<p>5 rows × 115 columns</p>\n",
       "</div>"
      ],
      "text/plain": [
       "  koi_disposition koi_vet_stat koi_vet_date  koi_fpflag_nt  koi_fpflag_ss  \\\n",
       "0       CONFIRMED         Done   2018-08-16              0              0   \n",
       "1       CONFIRMED         Done   2018-08-16              0              0   \n",
       "2       CANDIDATE         Done   2018-08-16              0              0   \n",
       "4       CONFIRMED         Done   2018-08-16              0              0   \n",
       "5       CONFIRMED         Done   2018-08-16              0              0   \n",
       "\n",
       "   koi_fpflag_co  koi_fpflag_ec        koi_disp_prov    koi_comment  \\\n",
       "0              0              0  q1_q17_dr25_sup_koi     NO_COMMENT   \n",
       "1              0              0  q1_q17_dr25_sup_koi     NO_COMMENT   \n",
       "2              0              0  q1_q17_dr25_sup_koi  DEEP_V_SHAPED   \n",
       "4              0              0  q1_q17_dr25_sup_koi     NO_COMMENT   \n",
       "5              0              0  q1_q17_dr25_sup_koi     NO_COMMENT   \n",
       "\n",
       "   koi_period  ...  koi_dicco_mdec  koi_dicco_mdec_err  koi_dicco_msky  \\\n",
       "0    9.488036  ...           0.200                0.16           0.200   \n",
       "1   54.418383  ...           0.000                0.48           0.390   \n",
       "2   19.899140  ...          -0.034                0.07           0.042   \n",
       "4    2.525592  ...          -0.090                0.18           0.100   \n",
       "5   11.094321  ...          -0.070                0.11           0.080   \n",
       "\n",
       "   koi_dicco_msky_err  koi_dikco_mra  koi_dikco_mra_err  koi_dikco_mdec  \\\n",
       "0               0.170          0.080              0.130           0.310   \n",
       "1               0.360          0.490              0.340           0.120   \n",
       "2               0.072          0.002              0.071          -0.027   \n",
       "4               0.140          0.070              0.180           0.020   \n",
       "5               0.130         -0.020              0.130          -0.080   \n",
       "\n",
       "   koi_dikco_mdec_err  koi_dikco_msky  koi_dikco_msky_err  \n",
       "0               0.170           0.320               0.160  \n",
       "1               0.730           0.500               0.450  \n",
       "2               0.074           0.027               0.074  \n",
       "4               0.160           0.070               0.200  \n",
       "5               0.100           0.080               0.100  \n",
       "\n",
       "[5 rows x 115 columns]"
      ]
     },
     "execution_count": 12,
     "metadata": {},
     "output_type": "execute_result"
    }
   ],
   "source": [
    "df_rem_filtered.head()"
   ]
  },
  {
   "cell_type": "code",
   "execution_count": 13,
   "id": "b72b01d9",
   "metadata": {},
   "outputs": [],
   "source": [
    "from sklearn.preprocessing import LabelEncoder\n",
    "\n",
    "df_binary = df_rem_filtered.copy()\n",
    "le = LabelEncoder()\n",
    "df_binary['label'] = le.fit_transform(df_binary['koi_disposition'])\n"
   ]
  },
  {
   "cell_type": "code",
   "execution_count": 14,
   "id": "e2424f97",
   "metadata": {},
   "outputs": [
    {
     "name": "stdout",
     "output_type": "stream",
     "text": [
      "Top correlations with koi_disposition:\n",
      " label                1.000000\n",
      "koi_fwm_sdeco_err   -0.547956\n",
      "koi_fwm_sdec_err    -0.547860\n",
      "koi_fwm_srao_err    -0.547552\n",
      "koi_fwm_sra_err     -0.541306\n",
      "                       ...   \n",
      "koi_fpflag_co             NaN\n",
      "koi_fpflag_ec             NaN\n",
      "koi_eccen                 NaN\n",
      "koi_ldm_coeff4            NaN\n",
      "koi_ldm_coeff3            NaN\n",
      "Length: 103, dtype: float64\n"
     ]
    },
    {
     "name": "stderr",
     "output_type": "stream",
     "text": [
      "c:\\Projects\\NASA Space App Challenge - XOXOplanet\\xoxoplanet-nasa2025\\venv\\Lib\\site-packages\\numpy\\lib\\_function_base_impl.py:3065: RuntimeWarning: invalid value encountered in divide\n",
      "  c /= stddev[:, None]\n",
      "c:\\Projects\\NASA Space App Challenge - XOXOplanet\\xoxoplanet-nasa2025\\venv\\Lib\\site-packages\\numpy\\lib\\_function_base_impl.py:3066: RuntimeWarning: invalid value encountered in divide\n",
      "  c /= stddev[None, :]\n"
     ]
    }
   ],
   "source": [
    "# Select only numeric features\n",
    "numeric_cols = df_binary.select_dtypes(include=['int64','float64']).columns\n",
    "\n",
    "# Correlation matrix with the label\n",
    "correlations = df_binary[numeric_cols].corrwith(df_binary['label']).sort_values(key=abs, ascending=False)\n",
    "print(\"Top correlations with koi_disposition:\\n\", correlations)\n"
   ]
  },
  {
   "cell_type": "code",
   "execution_count": 15,
   "id": "be2b3bbf",
   "metadata": {},
   "outputs": [
    {
     "data": {
      "application/vnd.microsoft.datawrangler.viewer.v0+json": {
       "columns": [
        {
         "name": "index",
         "rawType": "object",
         "type": "string"
        },
        {
         "name": "0",
         "rawType": "float64",
         "type": "float"
        }
       ],
       "ref": "acef3ccb-4804-4355-a106-8824ab9dba25",
       "rows": [
        [
         "label",
         "1.0"
        ],
        [
         "koi_fwm_sdeco_err",
         "-0.5479557659140294"
        ],
        [
         "koi_fwm_sdec_err",
         "-0.5478603904992794"
        ],
        [
         "koi_fwm_srao_err",
         "-0.5475518449789722"
        ],
        [
         "koi_fwm_sra_err",
         "-0.5413059397225258"
        ],
        [
         "koi_dicco_msky_err",
         "-0.44715274835443075"
        ],
        [
         "koi_dikco_msky_err",
         "-0.4376824753107223"
        ],
        [
         "koi_dicco_mra_err",
         "-0.42569295869224416"
        ],
        [
         "koi_dikco_mra_err",
         "-0.4215178399096794"
        ],
        [
         "koi_dicco_mdec_err",
         "-0.41203428387488733"
        ],
        [
         "koi_dikco_mdec_err",
         "-0.4078615499188879"
        ],
        [
         "koi_dicco_msky",
         "-0.3460762472341858"
        ],
        [
         "koi_duration_err2",
         "0.3454857350372237"
        ],
        [
         "koi_duration_err1",
         "-0.3454857350372237"
        ],
        [
         "koi_smass_err1",
         "-0.33755727412786"
        ],
        [
         "koi_smet_err2",
         "0.3272253749111435"
        ],
        [
         "koi_dikco_msky",
         "-0.3035947819815128"
        ],
        [
         "koi_smet_err1",
         "-0.295094507475526"
        ],
        [
         "koi_count",
         "0.2889906374823193"
        ],
        [
         "koi_period_err1",
         "-0.2748986818060577"
        ],
        [
         "koi_period_err2",
         "0.2748986818060577"
        ],
        [
         "koi_time0_err1",
         "-0.26995617352709966"
        ],
        [
         "koi_time0bk_err2",
         "0.26995617352709966"
        ],
        [
         "koi_time0bk_err1",
         "-0.26995617352709966"
        ],
        [
         "koi_time0_err2",
         "0.26995617352709966"
        ],
        [
         "koi_steff_err2",
         "0.26966431868902885"
        ],
        [
         "koi_slogg_err2",
         "0.2694068953129867"
        ],
        [
         "koi_steff_err1",
         "-0.25691238547055345"
        ],
        [
         "koi_smass_err2",
         "0.229324851281665"
        ],
        [
         "koi_srho_err1",
         "-0.20507151843542548"
        ],
        [
         "koi_smet",
         "0.2037151445780095"
        ],
        [
         "koi_srad_err1",
         "-0.20028083570722546"
        ],
        [
         "koi_srho_err2",
         "0.1838889246887257"
        ],
        [
         "koi_time0bk",
         "-0.1815166022455053"
        ],
        [
         "koi_time0",
         "-0.18151653029217044"
        ],
        [
         "koi_slogg",
         "0.16163924275248848"
        ],
        [
         "koi_srho",
         "-0.16113005911959566"
        ],
        [
         "koi_smass",
         "-0.15915779109957548"
        ],
        [
         "koi_depth_err1",
         "-0.1506361428597002"
        ],
        [
         "koi_depth_err2",
         "0.1506361428597002"
        ],
        [
         "koi_sma",
         "-0.1433495796536922"
        ],
        [
         "koi_srad_err2",
         "0.13609292604820766"
        ],
        [
         "koi_steff",
         "-0.13571448001863354"
        ],
        [
         "koi_ldm_coeff1",
         "0.13331042217888553"
        ],
        [
         "koi_duration",
         "-0.1326907186920897"
        ],
        [
         "koi_slogg_err1",
         "-0.12858194122493263"
        ],
        [
         "koi_model_snr",
         "0.11182801637632349"
        ],
        [
         "koi_ldm_coeff2",
         "-0.09970820059413593"
        ],
        [
         "koi_impact_err1",
         "-0.08701366923652121"
        ],
        [
         "koi_ror_err1",
         "-0.08529985480690792"
        ]
       ],
       "shape": {
        "columns": 1,
        "rows": 103
       }
      },
      "text/plain": [
       "label                1.000000\n",
       "koi_fwm_sdeco_err   -0.547956\n",
       "koi_fwm_sdec_err    -0.547860\n",
       "koi_fwm_srao_err    -0.547552\n",
       "koi_fwm_sra_err     -0.541306\n",
       "                       ...   \n",
       "koi_fpflag_co             NaN\n",
       "koi_fpflag_ec             NaN\n",
       "koi_eccen                 NaN\n",
       "koi_ldm_coeff4            NaN\n",
       "koi_ldm_coeff3            NaN\n",
       "Length: 103, dtype: float64"
      ]
     },
     "execution_count": 15,
     "metadata": {},
     "output_type": "execute_result"
    }
   ],
   "source": [
    "correlations"
   ]
  },
  {
   "cell_type": "markdown",
   "id": "aaf7e6ff",
   "metadata": {},
   "source": [
    "## EAD"
   ]
  },
  {
   "cell_type": "code",
   "execution_count": 16,
   "id": "a6f49312",
   "metadata": {},
   "outputs": [],
   "source": [
    "import pandas as pd\n",
    "import matplotlib.pyplot as plt\n",
    "import seaborn as sns\n",
    "def plot_EAD(df):\n",
    "    # --- 1. Basic info ---\n",
    "    print(\"Shape of dataset:\", df.shape)\n",
    "    print(\"Columns available:\", df.columns.tolist()[:20], \"...\")  # show first 20 cols\n",
    "    print(\"\\nDisposition value counts:\\n\", df['koi_disposition'].value_counts())\n",
    "\n",
    "    # --- 2. Label balance (planet vs false positive vs candidate) ---\n",
    "    plt.figure(figsize=(6,4))\n",
    "    sns.countplot(x=\"koi_disposition\", data=df, order=df['koi_disposition'].value_counts().index)\n",
    "    plt.title(\"Exoplanet Candidate Dispositions\")\n",
    "    plt.ylabel(\"Count\")\n",
    "    plt.xlabel(\"Disposition\")\n",
    "    plt.xticks(rotation=20)\n",
    "    plt.show()\n",
    "\n",
    "    # --- 3. Key distributions (period, depth, signal-to-noise ratio) ---\n",
    "    # koi_period = orbital period (days)\n",
    "    # koi_depth = transit depth (ppm)\n",
    "    # koi_model_snr = model signal-to-noise ratio\n",
    "    features = ['koi_period', 'koi_depth', 'koi_model_snr']\n",
    "    titles = ['Orbital Period (days)', 'Transit Depth (ppm)', 'Signal-to-Noise Ratio']\n",
    "\n",
    "    plt.figure(figsize=(15,4))\n",
    "    for i, (feat, title) in enumerate(zip(features, titles)):\n",
    "        plt.subplot(1,3,i+1)\n",
    "        sns.histplot(df[feat].dropna(), bins=50, kde=False)\n",
    "        plt.xlabel(title)\n",
    "        plt.ylabel(\"Count\")\n",
    "        plt.yscale(\"log\")  # log scale helps with skewed distributions\n",
    "    plt.suptitle(\"Distribution of Key Features\")\n",
    "    plt.tight_layout()\n",
    "    plt.show()\n",
    "\n",
    "    # --- 4. Compare distributions by disposition ---\n",
    "    plt.figure(figsize=(12,4))\n",
    "    sns.boxplot(x=\"koi_disposition\", y=\"koi_model_snr\", data=df)\n",
    "    plt.title(\"Signal-to-Noise by Disposition\")\n",
    "    plt.yscale(\"log\")\n",
    "    plt.show()\n",
    "\n",
    "    plt.figure(figsize=(12,4))\n",
    "    sns.boxplot(x=\"koi_disposition\", y=\"koi_depth\", data=df)\n",
    "    plt.title(\"Transit Depth by Disposition\")\n",
    "    plt.yscale(\"log\")\n",
    "    plt.show()\n",
    "\n",
    "    if label_B != \"FALSE POSITIVE\":\n",
    "        # --- 5. Noise patterns exploration ---\n",
    "        # Flag columns indicate potential false positives\n",
    "        fp_flags = ['koi_fpflag_nt','koi_fpflag_ss','koi_fpflag_co','koi_fpflag_ec']\n",
    "\n",
    "        for col in fp_flags:\n",
    "            if col in df.columns:\n",
    "                print(f\"\\n{col} value counts:\\n\", df[col].value_counts())\n",
    "\n",
    "        plt.figure(figsize=(8,5))\n",
    "        sns.heatmap(df[fp_flags].corr(), annot=True, cmap=\"coolwarm\")\n",
    "        plt.title(\"Correlation of False Positive Flags\")\n",
    "        plt.show()\n"
   ]
  },
  {
   "cell_type": "code",
   "execution_count": 17,
   "id": "7b683a64",
   "metadata": {},
   "outputs": [
    {
     "name": "stdout",
     "output_type": "stream",
     "text": [
      "Shape of dataset: (4725, 116)\n",
      "Columns available: ['koi_disposition', 'koi_vet_stat', 'koi_vet_date', 'koi_fpflag_nt', 'koi_fpflag_ss', 'koi_fpflag_co', 'koi_fpflag_ec', 'koi_disp_prov', 'koi_comment', 'koi_period', 'koi_period_err1', 'koi_period_err2', 'koi_time0bk', 'koi_time0bk_err1', 'koi_time0bk_err2', 'koi_time0', 'koi_time0_err1', 'koi_time0_err2', 'koi_eccen', 'koi_impact'] ...\n",
      "\n",
      "Disposition value counts:\n",
      " koi_disposition\n",
      "CONFIRMED    2746\n",
      "CANDIDATE    1979\n",
      "Name: count, dtype: int64\n"
     ]
    },
    {
     "data": {
      "image/png": "[encoded data removed]",
      "text/plain": [
       "<Figure size 600x400 with 1 Axes>"
      ]
     },
     "metadata": {},
     "output_type": "display_data"
    },
    {
     "data": {
      "image/png": "[encoded data removed]",
      "text/plain": [
       "<Figure size 1500x400 with 3 Axes>"
      ]
     },
     "metadata": {},
     "output_type": "display_data"
    },
    {
     "data": {
      "image/png": "[encoded data removed]",
      "text/plain": [
       "<Figure size 1200x400 with 1 Axes>"
      ]
     },
     "metadata": {},
     "output_type": "display_data"
    },
    {
     "data": {
      "image/png": "[encoded data removed]",
      "text/plain": [
       "<Figure size 1200x400 with 1 Axes>"
      ]
     },
     "metadata": {},
     "output_type": "display_data"
    },
    {
     "name": "stdout",
     "output_type": "stream",
     "text": [
      "\n",
      "koi_fpflag_nt value counts:\n",
      " koi_fpflag_nt\n",
      "0      4720\n",
      "1         4\n",
      "465       1\n",
      "Name: count, dtype: int64\n",
      "\n",
      "koi_fpflag_ss value counts:\n",
      " koi_fpflag_ss\n",
      "0    4709\n",
      "1      16\n",
      "Name: count, dtype: int64\n",
      "\n",
      "koi_fpflag_co value counts:\n",
      " koi_fpflag_co\n",
      "0    4725\n",
      "Name: count, dtype: int64\n",
      "\n",
      "koi_fpflag_ec value counts:\n",
      " koi_fpflag_ec\n",
      "0    4725\n",
      "Name: count, dtype: int64\n"
     ]
    },
    {
     "data": {
      "image/png": "[encoded data removed]",
      "text/plain": [
       "<Figure size 800x500 with 2 Axes>"
      ]
     },
     "metadata": {},
     "output_type": "display_data"
    }
   ],
   "source": [
    "plot_EAD(df_binary)"
   ]
  },
  {
   "cell_type": "code",
   "execution_count": 18,
   "id": "5b31274c",
   "metadata": {},
   "outputs": [],
   "source": [
    "\n",
    "\n",
    "# # Step 2: Identify problematic columns\n",
    "# # Columns where all CONFIRMED are missing OR all FALSE POSITIVE are missing\n",
    "# confirmed = df_filtered[df_filtered['koi_disposition'] == 'CONFIRMED']\n",
    "# false_pos = df_filtered[df_filtered['koi_disposition'] == 'FALSE POSITIVE']\n",
    "\n",
    "# problematic_cols = []\n",
    "# for col in df_filtered.columns:\n",
    "#     if col == 'koi_disposition':  # skip label column\n",
    "#         continue\n",
    "#     # Check if all values missing in one class\n",
    "#     if confirmed[col].isna().all() or false_pos[col].isna().all():\n",
    "#         problematic_cols.append(col)\n",
    "\n",
    "# print(\"\\nColumns with missing values in one class only (to drop):\")\n",
    "# print(problematic_cols)\n",
    "\n",
    "# # Step 3: Drop those columns\n",
    "# df_clean = df_filtered.drop(columns=problematic_cols)\n",
    "\n",
    "# print(\"\\nFinal shape after cleaning:\", df_clean.shape)"
   ]
  },
  {
   "cell_type": "markdown",
   "id": "e53d79a5",
   "metadata": {},
   "source": [
    "## Feature engineering: finding the relevant columns and creating new if needed"
   ]
  },
  {
   "cell_type": "code",
   "execution_count": 19,
   "id": "06cf536e",
   "metadata": {},
   "outputs": [
    {
     "data": {
      "application/vnd.microsoft.datawrangler.viewer.v0+json": {
       "columns": [
        {
         "name": "index",
         "rawType": "int64",
         "type": "integer"
        },
        {
         "name": "koi_disposition",
         "rawType": "object",
         "type": "string"
        },
        {
         "name": "koi_vet_stat",
         "rawType": "object",
         "type": "string"
        },
        {
         "name": "koi_vet_date",
         "rawType": "object",
         "type": "string"
        },
        {
         "name": "koi_fpflag_nt",
         "rawType": "int64",
         "type": "integer"
        },
        {
         "name": "koi_fpflag_ss",
         "rawType": "int64",
         "type": "integer"
        },
        {
         "name": "koi_fpflag_co",
         "rawType": "int64",
         "type": "integer"
        },
        {
         "name": "koi_fpflag_ec",
         "rawType": "int64",
         "type": "integer"
        },
        {
         "name": "koi_disp_prov",
         "rawType": "object",
         "type": "string"
        },
        {
         "name": "koi_comment",
         "rawType": "object",
         "type": "string"
        },
        {
         "name": "koi_period",
         "rawType": "float64",
         "type": "float"
        },
        {
         "name": "koi_period_err1",
         "rawType": "float64",
         "type": "float"
        },
        {
         "name": "koi_period_err2",
         "rawType": "float64",
         "type": "float"
        },
        {
         "name": "koi_time0bk",
         "rawType": "float64",
         "type": "float"
        },
        {
         "name": "koi_time0bk_err1",
         "rawType": "float64",
         "type": "float"
        },
        {
         "name": "koi_time0bk_err2",
         "rawType": "float64",
         "type": "float"
        },
        {
         "name": "koi_time0",
         "rawType": "float64",
         "type": "float"
        },
        {
         "name": "koi_time0_err1",
         "rawType": "float64",
         "type": "float"
        },
        {
         "name": "koi_time0_err2",
         "rawType": "float64",
         "type": "float"
        },
        {
         "name": "koi_eccen",
         "rawType": "float64",
         "type": "float"
        },
        {
         "name": "koi_impact",
         "rawType": "float64",
         "type": "float"
        },
        {
         "name": "koi_impact_err1",
         "rawType": "float64",
         "type": "float"
        },
        {
         "name": "koi_impact_err2",
         "rawType": "float64",
         "type": "float"
        },
        {
         "name": "koi_duration",
         "rawType": "float64",
         "type": "float"
        },
        {
         "name": "koi_duration_err1",
         "rawType": "float64",
         "type": "float"
        },
        {
         "name": "koi_duration_err2",
         "rawType": "float64",
         "type": "float"
        },
        {
         "name": "koi_depth",
         "rawType": "float64",
         "type": "float"
        },
        {
         "name": "koi_depth_err1",
         "rawType": "float64",
         "type": "float"
        },
        {
         "name": "koi_depth_err2",
         "rawType": "float64",
         "type": "float"
        },
        {
         "name": "koi_ror",
         "rawType": "float64",
         "type": "float"
        },
        {
         "name": "koi_ror_err1",
         "rawType": "float64",
         "type": "float"
        },
        {
         "name": "koi_ror_err2",
         "rawType": "float64",
         "type": "float"
        },
        {
         "name": "koi_srho",
         "rawType": "float64",
         "type": "float"
        },
        {
         "name": "koi_srho_err1",
         "rawType": "float64",
         "type": "float"
        },
        {
         "name": "koi_srho_err2",
         "rawType": "float64",
         "type": "float"
        },
        {
         "name": "koi_fittype",
         "rawType": "object",
         "type": "string"
        },
        {
         "name": "koi_prad",
         "rawType": "float64",
         "type": "float"
        },
        {
         "name": "koi_prad_err1",
         "rawType": "float64",
         "type": "float"
        },
        {
         "name": "koi_prad_err2",
         "rawType": "float64",
         "type": "float"
        },
        {
         "name": "koi_sma",
         "rawType": "float64",
         "type": "float"
        },
        {
         "name": "koi_incl",
         "rawType": "float64",
         "type": "float"
        },
        {
         "name": "koi_teq",
         "rawType": "float64",
         "type": "float"
        },
        {
         "name": "koi_insol",
         "rawType": "float64",
         "type": "float"
        },
        {
         "name": "koi_insol_err1",
         "rawType": "float64",
         "type": "float"
        },
        {
         "name": "koi_insol_err2",
         "rawType": "float64",
         "type": "float"
        },
        {
         "name": "koi_dor",
         "rawType": "float64",
         "type": "float"
        },
        {
         "name": "koi_dor_err1",
         "rawType": "float64",
         "type": "float"
        },
        {
         "name": "koi_dor_err2",
         "rawType": "float64",
         "type": "float"
        },
        {
         "name": "koi_limbdark_mod",
         "rawType": "object",
         "type": "string"
        },
        {
         "name": "koi_ldm_coeff4",
         "rawType": "float64",
         "type": "float"
        },
        {
         "name": "koi_ldm_coeff3",
         "rawType": "float64",
         "type": "float"
        },
        {
         "name": "koi_ldm_coeff2",
         "rawType": "float64",
         "type": "float"
        },
        {
         "name": "koi_ldm_coeff1",
         "rawType": "float64",
         "type": "float"
        },
        {
         "name": "koi_parm_prov",
         "rawType": "object",
         "type": "string"
        },
        {
         "name": "koi_max_sngle_ev",
         "rawType": "float64",
         "type": "float"
        },
        {
         "name": "koi_max_mult_ev",
         "rawType": "float64",
         "type": "float"
        },
        {
         "name": "koi_model_snr",
         "rawType": "float64",
         "type": "float"
        },
        {
         "name": "koi_count",
         "rawType": "int64",
         "type": "integer"
        },
        {
         "name": "koi_num_transits",
         "rawType": "float64",
         "type": "float"
        },
        {
         "name": "koi_tce_plnt_num",
         "rawType": "float64",
         "type": "float"
        },
        {
         "name": "koi_quarters",
         "rawType": "object",
         "type": "string"
        },
        {
         "name": "koi_bin_oedp_sig",
         "rawType": "float64",
         "type": "float"
        },
        {
         "name": "koi_trans_mod",
         "rawType": "object",
         "type": "string"
        },
        {
         "name": "koi_datalink_dvr",
         "rawType": "object",
         "type": "string"
        },
        {
         "name": "koi_datalink_dvs",
         "rawType": "object",
         "type": "string"
        },
        {
         "name": "koi_steff",
         "rawType": "float64",
         "type": "float"
        },
        {
         "name": "koi_steff_err1",
         "rawType": "float64",
         "type": "float"
        },
        {
         "name": "koi_steff_err2",
         "rawType": "float64",
         "type": "float"
        },
        {
         "name": "koi_slogg",
         "rawType": "float64",
         "type": "float"
        },
        {
         "name": "koi_slogg_err1",
         "rawType": "float64",
         "type": "float"
        },
        {
         "name": "koi_slogg_err2",
         "rawType": "float64",
         "type": "float"
        },
        {
         "name": "koi_smet",
         "rawType": "float64",
         "type": "float"
        },
        {
         "name": "koi_smet_err1",
         "rawType": "float64",
         "type": "float"
        },
        {
         "name": "koi_smet_err2",
         "rawType": "float64",
         "type": "float"
        },
        {
         "name": "koi_srad",
         "rawType": "float64",
         "type": "float"
        },
        {
         "name": "koi_srad_err1",
         "rawType": "float64",
         "type": "float"
        },
        {
         "name": "koi_srad_err2",
         "rawType": "float64",
         "type": "float"
        },
        {
         "name": "koi_smass",
         "rawType": "float64",
         "type": "float"
        },
        {
         "name": "koi_smass_err1",
         "rawType": "float64",
         "type": "float"
        },
        {
         "name": "koi_smass_err2",
         "rawType": "float64",
         "type": "float"
        },
        {
         "name": "koi_sparprov",
         "rawType": "object",
         "type": "string"
        },
        {
         "name": "ra",
         "rawType": "float64",
         "type": "float"
        },
        {
         "name": "dec",
         "rawType": "float64",
         "type": "float"
        },
        {
         "name": "koi_kepmag",
         "rawType": "float64",
         "type": "float"
        },
        {
         "name": "koi_gmag",
         "rawType": "float64",
         "type": "float"
        },
        {
         "name": "koi_rmag",
         "rawType": "float64",
         "type": "float"
        },
        {
         "name": "koi_imag",
         "rawType": "float64",
         "type": "float"
        },
        {
         "name": "koi_zmag",
         "rawType": "float64",
         "type": "float"
        },
        {
         "name": "koi_jmag",
         "rawType": "float64",
         "type": "float"
        },
        {
         "name": "koi_hmag",
         "rawType": "float64",
         "type": "float"
        },
        {
         "name": "koi_kmag",
         "rawType": "float64",
         "type": "float"
        },
        {
         "name": "koi_fwm_stat_sig",
         "rawType": "float64",
         "type": "float"
        },
        {
         "name": "koi_fwm_sra",
         "rawType": "float64",
         "type": "float"
        },
        {
         "name": "koi_fwm_sra_err",
         "rawType": "float64",
         "type": "float"
        },
        {
         "name": "koi_fwm_sdec",
         "rawType": "float64",
         "type": "float"
        },
        {
         "name": "koi_fwm_sdec_err",
         "rawType": "float64",
         "type": "float"
        },
        {
         "name": "koi_fwm_srao",
         "rawType": "float64",
         "type": "float"
        },
        {
         "name": "koi_fwm_srao_err",
         "rawType": "float64",
         "type": "float"
        },
        {
         "name": "koi_fwm_sdeco",
         "rawType": "float64",
         "type": "float"
        },
        {
         "name": "koi_fwm_sdeco_err",
         "rawType": "float64",
         "type": "float"
        },
        {
         "name": "koi_fwm_prao",
         "rawType": "float64",
         "type": "float"
        },
        {
         "name": "koi_fwm_prao_err",
         "rawType": "float64",
         "type": "float"
        },
        {
         "name": "koi_fwm_pdeco",
         "rawType": "float64",
         "type": "float"
        },
        {
         "name": "koi_fwm_pdeco_err",
         "rawType": "float64",
         "type": "float"
        },
        {
         "name": "koi_dicco_mra",
         "rawType": "float64",
         "type": "float"
        },
        {
         "name": "koi_dicco_mra_err",
         "rawType": "float64",
         "type": "float"
        },
        {
         "name": "koi_dicco_mdec",
         "rawType": "float64",
         "type": "float"
        },
        {
         "name": "koi_dicco_mdec_err",
         "rawType": "float64",
         "type": "float"
        },
        {
         "name": "koi_dicco_msky",
         "rawType": "float64",
         "type": "float"
        },
        {
         "name": "koi_dicco_msky_err",
         "rawType": "float64",
         "type": "float"
        },
        {
         "name": "koi_dikco_mra",
         "rawType": "float64",
         "type": "float"
        },
        {
         "name": "koi_dikco_mra_err",
         "rawType": "float64",
         "type": "float"
        },
        {
         "name": "koi_dikco_mdec",
         "rawType": "float64",
         "type": "float"
        },
        {
         "name": "koi_dikco_mdec_err",
         "rawType": "float64",
         "type": "float"
        },
        {
         "name": "koi_dikco_msky",
         "rawType": "float64",
         "type": "float"
        },
        {
         "name": "koi_dikco_msky_err",
         "rawType": "float64",
         "type": "float"
        },
        {
         "name": "label",
         "rawType": "int64",
         "type": "integer"
        }
       ],
       "ref": "7e0e1b38-755f-494c-8ee3-7691fa5e238c",
       "rows": [
        [
         "0",
         "CONFIRMED",
         "Done",
         "2018-08-16",
         "0",
         "0",
         "0",
         "0",
         "q1_q17_dr25_sup_koi",
         "NO_COMMENT",
         "9.48803557",
         "2.775e-05",
         "-2.775e-05",
         "170.53875",
         "0.00216",
         "-0.00216",
         "2455003.539",
         "0.00216",
         "-0.00216",
         "0.0",
         "0.146",
         "0.318",
         "-0.146",
         "2.9575",
         "0.0819",
         "-0.0819",
         "615.8",
         "19.5",
         "-19.5",
         "0.022344",
         "0.000832",
         "-0.000528",
         "3.20796",
         "0.33173",
         "-1.09986",
         "LS+MCMC",
         "2.26",
         "0.26",
         "-0.15",
         "0.0853",
         "89.66",
         "793.0",
         "93.59",
         "29.45",
         "-16.65",
         "24.81",
         "2.6",
         "-2.6",
         "Claret (2011 A&A 529 75) ATLAS LS",
         "0.0",
         "0.0",
         "0.2291",
         "0.4603",
         "q1_q17_dr25_koi",
         "5.135849",
         "28.47082",
         "35.8",
         "2",
         "142.0",
         "1.0",
         "11111111111111111000000000000000",
         "0.6864",
         "Mandel and Agol (2002 ApJ 580 171)",
         "010/010797/010797460/dv/kplr010797460-20160209194854_dvr.pdf",
         "010/010797/010797460/dv/kplr010797460-001-20160209194854_dvs.pdf",
         "5455.0",
         "81.0",
         "-81.0",
         "4.467",
         "0.064",
         "-0.096",
         "0.14",
         "0.15",
         "-0.15",
         "0.927",
         "0.105",
         "-0.061",
         "0.919",
         "0.052",
         "-0.046",
         "q1_q17_dr25_stellar",
         "291.93423",
         "48.141651",
         "15.347",
         "15.89",
         "15.27",
         "15.114",
         "15.006",
         "14.082",
         "13.751",
         "13.648",
         "0.002",
         "19.462294",
         "1.4e-05",
         "48.14191",
         "0.00013",
         "0.43",
         "0.51",
         "0.94",
         "0.48",
         "-0.0002",
         "0.00032",
         "-0.00055",
         "0.00031",
         "-0.01",
         "0.13",
         "0.2",
         "0.16",
         "0.2",
         "0.17",
         "0.08",
         "0.13",
         "0.31",
         "0.17",
         "0.32",
         "0.16",
         "1"
        ],
        [
         "1",
         "CONFIRMED",
         "Done",
         "2018-08-16",
         "0",
         "0",
         "0",
         "0",
         "q1_q17_dr25_sup_koi",
         "NO_COMMENT",
         "54.4183827",
         "0.0002479",
         "-0.0002479",
         "162.51384",
         "0.00352",
         "-0.00352",
         "2454995.514",
         "0.00352",
         "-0.00352",
         "0.0",
         "0.586",
         "0.059",
         "-0.443",
         "4.507",
         "0.116",
         "-0.116",
         "874.8",
         "35.5",
         "-35.5",
         "0.027954",
         "0.009078",
         "-0.001347",
         "3.02368",
         "2.20489",
         "-2.49638",
         "LS+MCMC",
         "2.83",
         "0.32",
         "-0.19",
         "0.2734",
         "89.57",
         "443.0",
         "9.11",
         "2.87",
         "-1.62",
         "77.9",
         "28.4",
         "-28.4",
         "Claret (2011 A&A 529 75) ATLAS LS",
         "0.0",
         "0.0",
         "0.2291",
         "0.4603",
         "q1_q17_dr25_koi",
         "7.027669",
         "20.109507",
         "25.8",
         "2",
         "25.0",
         "2.0",
         "11111111111111111000000000000000",
         "0.0023",
         "Mandel and Agol (2002 ApJ 580 171)",
         "010/010797/010797460/dv/kplr010797460-20160209194854_dvr.pdf",
         "010/010797/010797460/dv/kplr010797460-002-20160209194854_dvs.pdf",
         "5455.0",
         "81.0",
         "-81.0",
         "4.467",
         "0.064",
         "-0.096",
         "0.14",
         "0.15",
         "-0.15",
         "0.927",
         "0.105",
         "-0.061",
         "0.919",
         "0.052",
         "-0.046",
         "q1_q17_dr25_stellar",
         "291.93423",
         "48.141651",
         "15.347",
         "15.89",
         "15.27",
         "15.114",
         "15.006",
         "14.082",
         "13.751",
         "13.648",
         "0.003",
         "19.462265",
         "2e-05",
         "48.14199",
         "0.00019",
         "-0.63",
         "0.72",
         "1.23",
         "0.68",
         "0.00066",
         "0.00065",
         "-0.00105",
         "0.00063",
         "0.39",
         "0.36",
         "0.0",
         "0.48",
         "0.39",
         "0.36",
         "0.49",
         "0.34",
         "0.12",
         "0.73",
         "0.5",
         "0.45",
         "1"
        ],
        [
         "2",
         "CANDIDATE",
         "Done",
         "2018-08-16",
         "0",
         "0",
         "0",
         "0",
         "q1_q17_dr25_sup_koi",
         "DEEP_V_SHAPED",
         "19.89913995",
         "1.494e-05",
         "-1.494e-05",
         "175.850252",
         "0.000581",
         "-0.000581",
         "2455008.85",
         "0.000581",
         "-0.000581",
         "0.0",
         "0.969",
         "5.126",
         "-0.077",
         "1.7822",
         "0.0341",
         "-0.0341",
         "10829.0",
         "171.0",
         "-171.0",
         "0.154046",
         "5.034292",
         "-0.042179",
         "7.29555",
         "35.03293",
         "-2.75453",
         "LS+MCMC",
         "14.6",
         "3.92",
         "-1.31",
         "0.1419",
         "88.96",
         "638.0",
         "39.3",
         "31.04",
         "-10.49",
         "53.5",
         "25.7",
         "-25.7",
         "Claret (2011 A&A 529 75) ATLAS LS",
         "0.0",
         "0.0",
         "0.2711",
         "0.3858",
         "q1_q17_dr25_koi",
         "37.159767",
         "187.4491",
         "76.3",
         "1",
         "56.0",
         "1.0",
         "11111101110111011000000000000000",
         "0.6624",
         "Mandel and Agol (2002 ApJ 580 171)",
         "010/010811/010811496/dv/kplr010811496-20160209194854_dvr.pdf",
         "010/010811/010811496/dv/kplr010811496-001-20160209194854_dvs.pdf",
         "5853.0",
         "158.0",
         "-176.0",
         "4.544",
         "0.044",
         "-0.176",
         "-0.18",
         "0.3",
         "-0.3",
         "0.868",
         "0.233",
         "-0.078",
         "0.961",
         "0.11",
         "-0.121",
         "q1_q17_dr25_stellar",
         "297.00482",
         "48.134129",
         "15.436",
         "15.943",
         "15.39",
         "15.22",
         "15.166",
         "14.254",
         "13.9",
         "13.826",
         "0.278",
         "19.8003207",
         "1.9e-06",
         "48.13412",
         "2e-05",
         "-0.021",
         "0.069",
         "-0.038",
         "0.071",
         "0.0007",
         "0.0024",
         "0.0006",
         "0.0034",
         "-0.025",
         "0.07",
         "-0.034",
         "0.07",
         "0.042",
         "0.072",
         "0.002",
         "0.071",
         "-0.027",
         "0.074",
         "0.027",
         "0.074",
         "0"
        ],
        [
         "4",
         "CONFIRMED",
         "Done",
         "2018-08-16",
         "0",
         "0",
         "0",
         "0",
         "q1_q17_dr25_sup_koi",
         "NO_COMMENT",
         "2.525591777",
         "3.761e-06",
         "-3.761e-06",
         "171.59555",
         "0.00113",
         "-0.00113",
         "2455004.596",
         "0.00113",
         "-0.00113",
         "0.0",
         "0.701",
         "0.235",
         "-0.478",
         "1.6545",
         "0.042",
         "-0.042",
         "603.3",
         "16.9",
         "-16.9",
         "0.024064",
         "0.003751",
         "-0.001522",
         "1.98635",
         "2.71141",
         "-1.74541",
         "LS+MCMC",
         "2.75",
         "0.88",
         "-0.35",
         "0.0374",
         "85.41",
         "1406.0",
         "926.16",
         "874.33",
         "-314.24",
         "8.75",
         "4.0",
         "-4.0",
         "Claret (2011 A&A 529 75) ATLAS LS",
         "0.0",
         "0.0",
         "0.2844",
         "0.3661",
         "q1_q17_dr25_koi",
         "4.749945",
         "33.1919",
         "40.9",
         "1",
         "515.0",
         "1.0",
         "01111111111111111000000000000000",
         "0.309",
         "Mandel and Agol (2002 ApJ 580 171)",
         "010/010854/010854555/dv/kplr010854555-20160209194854_dvr.pdf",
         "010/010854/010854555/dv/kplr010854555-001-20160209194854_dvs.pdf",
         "6031.0",
         "169.0",
         "-211.0",
         "4.438",
         "0.07",
         "-0.21",
         "0.07",
         "0.25",
         "-0.3",
         "1.046",
         "0.334",
         "-0.133",
         "1.095",
         "0.151",
         "-0.136",
         "q1_q17_dr25_stellar",
         "288.75488",
         "48.2262",
         "15.509",
         "16.015",
         "15.468",
         "15.292",
         "15.241",
         "14.366",
         "14.064",
         "13.952",
         "0.733",
         "19.2503258",
         "9.7e-06",
         "48.22626",
         "0.0001",
         "-0.01",
         "0.35",
         "0.23",
         "0.37",
         "8e-05",
         "0.0002",
         "-7e-05",
         "0.00022",
         "0.03",
         "0.19",
         "-0.09",
         "0.18",
         "0.1",
         "0.14",
         "0.07",
         "0.18",
         "0.02",
         "0.16",
         "0.07",
         "0.2",
         "1"
        ],
        [
         "5",
         "CONFIRMED",
         "Done",
         "2018-08-16",
         "0",
         "0",
         "0",
         "0",
         "q1_q17_dr25_sup_koi",
         "NO_COMMENT",
         "11.09432054",
         "2.036e-05",
         "-2.036e-05",
         "171.20116",
         "0.00141",
         "-0.00141",
         "2455004.201",
         "0.00141",
         "-0.00141",
         "0.0",
         "0.538",
         "0.03",
         "-0.428",
         "4.5945",
         "0.061",
         "-0.061",
         "1517.5",
         "24.2",
         "-24.2",
         "0.036779",
         "0.005115",
         "-0.001065",
         "0.67324",
         "0.33286",
         "-0.38858",
         "LS+MCMC",
         "3.9",
         "1.27",
         "-0.42",
         "0.0992",
         "88.11",
         "835.0",
         "114.81",
         "112.85",
         "-36.7",
         "16.36",
         "8.1",
         "-8.1",
         "Claret (2011 A&A 529 75) ATLAS LS",
         "0.0",
         "0.0",
         "0.2889",
         "0.3511",
         "q1_q17_dr25_koi",
         "9.046456",
         "55.204865",
         "66.5",
         "3",
         "95.0",
         "1.0",
         "01111101110111011000000000000000",
         "0.0975",
         "Mandel and Agol (2002 ApJ 580 171)",
         "010/010872/010872983/dv/kplr010872983-20160209194854_dvr.pdf",
         "010/010872/010872983/dv/kplr010872983-001-20160209194854_dvs.pdf",
         "6046.0",
         "189.0",
         "-232.0",
         "4.486",
         "0.054",
         "-0.229",
         "-0.08",
         "0.25",
         "-0.3",
         "0.972",
         "0.315",
         "-0.105",
         "1.053",
         "0.135",
         "-0.15",
         "q1_q17_dr25_stellar",
         "296.28613",
         "48.22467",
         "15.714",
         "16.234",
         "15.677",
         "15.492",
         "15.441",
         "14.528",
         "14.113",
         "14.132",
         null,
         "19.7524061",
         "6.1e-06",
         "48.22471",
         "6.5e-05",
         "-0.12",
         "0.22",
         "0.14",
         "0.24",
         "4e-05",
         "0.00034",
         null,
         null,
         "0.04",
         "0.12",
         "-0.07",
         "0.11",
         "0.08",
         "0.13",
         "-0.02",
         "0.13",
         "-0.08",
         "0.1",
         "0.08",
         "0.1",
         "1"
        ]
       ],
       "shape": {
        "columns": 116,
        "rows": 5
       }
      },
      "text/html": [
       "<div>\n",
       "<style scoped>\n",
       "    .dataframe tbody tr th:only-of-type {\n",
       "        vertical-align: middle;\n",
       "    }\n",
       "\n",
       "    .dataframe tbody tr th {\n",
       "        vertical-align: top;\n",
       "    }\n",
       "\n",
       "    .dataframe thead th {\n",
       "        text-align: right;\n",
       "    }\n",
       "</style>\n",
       "<table border=\"1\" class=\"dataframe\">\n",
       "  <thead>\n",
       "    <tr style=\"text-align: right;\">\n",
       "      <th></th>\n",
       "      <th>koi_disposition</th>\n",
       "      <th>koi_vet_stat</th>\n",
       "      <th>koi_vet_date</th>\n",
       "      <th>koi_fpflag_nt</th>\n",
       "      <th>koi_fpflag_ss</th>\n",
       "      <th>koi_fpflag_co</th>\n",
       "      <th>koi_fpflag_ec</th>\n",
       "      <th>koi_disp_prov</th>\n",
       "      <th>koi_comment</th>\n",
       "      <th>koi_period</th>\n",
       "      <th>...</th>\n",
       "      <th>koi_dicco_mdec_err</th>\n",
       "      <th>koi_dicco_msky</th>\n",
       "      <th>koi_dicco_msky_err</th>\n",
       "      <th>koi_dikco_mra</th>\n",
       "      <th>koi_dikco_mra_err</th>\n",
       "      <th>koi_dikco_mdec</th>\n",
       "      <th>koi_dikco_mdec_err</th>\n",
       "      <th>koi_dikco_msky</th>\n",
       "      <th>koi_dikco_msky_err</th>\n",
       "      <th>label</th>\n",
       "    </tr>\n",
       "  </thead>\n",
       "  <tbody>\n",
       "    <tr>\n",
       "      <th>0</th>\n",
       "      <td>CONFIRMED</td>\n",
       "      <td>Done</td>\n",
       "      <td>2018-08-16</td>\n",
       "      <td>0</td>\n",
       "      <td>0</td>\n",
       "      <td>0</td>\n",
       "      <td>0</td>\n",
       "      <td>q1_q17_dr25_sup_koi</td>\n",
       "      <td>NO_COMMENT</td>\n",
       "      <td>9.488036</td>\n",
       "      <td>...</td>\n",
       "      <td>0.16</td>\n",
       "      <td>0.200</td>\n",
       "      <td>0.170</td>\n",
       "      <td>0.080</td>\n",
       "      <td>0.130</td>\n",
       "      <td>0.310</td>\n",
       "      <td>0.170</td>\n",
       "      <td>0.320</td>\n",
       "      <td>0.160</td>\n",
       "      <td>1</td>\n",
       "    </tr>\n",
       "    <tr>\n",
       "      <th>1</th>\n",
       "      <td>CONFIRMED</td>\n",
       "      <td>Done</td>\n",
       "      <td>2018-08-16</td>\n",
       "      <td>0</td>\n",
       "      <td>0</td>\n",
       "      <td>0</td>\n",
       "      <td>0</td>\n",
       "      <td>q1_q17_dr25_sup_koi</td>\n",
       "      <td>NO_COMMENT</td>\n",
       "      <td>54.418383</td>\n",
       "      <td>...</td>\n",
       "      <td>0.48</td>\n",
       "      <td>0.390</td>\n",
       "      <td>0.360</td>\n",
       "      <td>0.490</td>\n",
       "      <td>0.340</td>\n",
       "      <td>0.120</td>\n",
       "      <td>0.730</td>\n",
       "      <td>0.500</td>\n",
       "      <td>0.450</td>\n",
       "      <td>1</td>\n",
       "    </tr>\n",
       "    <tr>\n",
       "      <th>2</th>\n",
       "      <td>CANDIDATE</td>\n",
       "      <td>Done</td>\n",
       "      <td>2018-08-16</td>\n",
       "      <td>0</td>\n",
       "      <td>0</td>\n",
       "      <td>0</td>\n",
       "      <td>0</td>\n",
       "      <td>q1_q17_dr25_sup_koi</td>\n",
       "      <td>DEEP_V_SHAPED</td>\n",
       "      <td>19.899140</td>\n",
       "      <td>...</td>\n",
       "      <td>0.07</td>\n",
       "      <td>0.042</td>\n",
       "      <td>0.072</td>\n",
       "      <td>0.002</td>\n",
       "      <td>0.071</td>\n",
       "      <td>-0.027</td>\n",
       "      <td>0.074</td>\n",
       "      <td>0.027</td>\n",
       "      <td>0.074</td>\n",
       "      <td>0</td>\n",
       "    </tr>\n",
       "    <tr>\n",
       "      <th>4</th>\n",
       "      <td>CONFIRMED</td>\n",
       "      <td>Done</td>\n",
       "      <td>2018-08-16</td>\n",
       "      <td>0</td>\n",
       "      <td>0</td>\n",
       "      <td>0</td>\n",
       "      <td>0</td>\n",
       "      <td>q1_q17_dr25_sup_koi</td>\n",
       "      <td>NO_COMMENT</td>\n",
       "      <td>2.525592</td>\n",
       "      <td>...</td>\n",
       "      <td>0.18</td>\n",
       "      <td>0.100</td>\n",
       "      <td>0.140</td>\n",
       "      <td>0.070</td>\n",
       "      <td>0.180</td>\n",
       "      <td>0.020</td>\n",
       "      <td>0.160</td>\n",
       "      <td>0.070</td>\n",
       "      <td>0.200</td>\n",
       "      <td>1</td>\n",
       "    </tr>\n",
       "    <tr>\n",
       "      <th>5</th>\n",
       "      <td>CONFIRMED</td>\n",
       "      <td>Done</td>\n",
       "      <td>2018-08-16</td>\n",
       "      <td>0</td>\n",
       "      <td>0</td>\n",
       "      <td>0</td>\n",
       "      <td>0</td>\n",
       "      <td>q1_q17_dr25_sup_koi</td>\n",
       "      <td>NO_COMMENT</td>\n",
       "      <td>11.094321</td>\n",
       "      <td>...</td>\n",
       "      <td>0.11</td>\n",
       "      <td>0.080</td>\n",
       "      <td>0.130</td>\n",
       "      <td>-0.020</td>\n",
       "      <td>0.130</td>\n",
       "      <td>-0.080</td>\n",
       "      <td>0.100</td>\n",
       "      <td>0.080</td>\n",
       "      <td>0.100</td>\n",
       "      <td>1</td>\n",
       "    </tr>\n",
       "  </tbody>\n",
       "</table>\n",
       "<p>5 rows × 116 columns</p>\n",
       "</div>"
      ],
      "text/plain": [
       "  koi_disposition koi_vet_stat koi_vet_date  koi_fpflag_nt  koi_fpflag_ss  \\\n",
       "0       CONFIRMED         Done   2018-08-16              0              0   \n",
       "1       CONFIRMED         Done   2018-08-16              0              0   \n",
       "2       CANDIDATE         Done   2018-08-16              0              0   \n",
       "4       CONFIRMED         Done   2018-08-16              0              0   \n",
       "5       CONFIRMED         Done   2018-08-16              0              0   \n",
       "\n",
       "   koi_fpflag_co  koi_fpflag_ec        koi_disp_prov    koi_comment  \\\n",
       "0              0              0  q1_q17_dr25_sup_koi     NO_COMMENT   \n",
       "1              0              0  q1_q17_dr25_sup_koi     NO_COMMENT   \n",
       "2              0              0  q1_q17_dr25_sup_koi  DEEP_V_SHAPED   \n",
       "4              0              0  q1_q17_dr25_sup_koi     NO_COMMENT   \n",
       "5              0              0  q1_q17_dr25_sup_koi     NO_COMMENT   \n",
       "\n",
       "   koi_period  ...  koi_dicco_mdec_err  koi_dicco_msky  koi_dicco_msky_err  \\\n",
       "0    9.488036  ...                0.16           0.200               0.170   \n",
       "1   54.418383  ...                0.48           0.390               0.360   \n",
       "2   19.899140  ...                0.07           0.042               0.072   \n",
       "4    2.525592  ...                0.18           0.100               0.140   \n",
       "5   11.094321  ...                0.11           0.080               0.130   \n",
       "\n",
       "   koi_dikco_mra  koi_dikco_mra_err  koi_dikco_mdec  koi_dikco_mdec_err  \\\n",
       "0          0.080              0.130           0.310               0.170   \n",
       "1          0.490              0.340           0.120               0.730   \n",
       "2          0.002              0.071          -0.027               0.074   \n",
       "4          0.070              0.180           0.020               0.160   \n",
       "5         -0.020              0.130          -0.080               0.100   \n",
       "\n",
       "   koi_dikco_msky  koi_dikco_msky_err  label  \n",
       "0           0.320               0.160      1  \n",
       "1           0.500               0.450      1  \n",
       "2           0.027               0.074      0  \n",
       "4           0.070               0.200      1  \n",
       "5           0.080               0.100      1  \n",
       "\n",
       "[5 rows x 116 columns]"
      ]
     },
     "execution_count": 19,
     "metadata": {},
     "output_type": "execute_result"
    }
   ],
   "source": [
    "df_binary.head()"
   ]
  },
  {
   "cell_type": "markdown",
   "id": "9951a676",
   "metadata": {},
   "source": [
    "### Missing value impute"
   ]
  },
  {
   "cell_type": "code",
   "execution_count": 20,
   "id": "3c1e9e12",
   "metadata": {},
   "outputs": [],
   "source": [
    "import pandas as pd\n",
    "\n",
    "def remove_rows_over_50_missing(df):\n",
    "    \"\"\"\n",
    "    Removes rows with more than 50% missing values.\n",
    "\n",
    "    Parameters:\n",
    "        df (pd.DataFrame): Input DataFrame.\n",
    "\n",
    "    Returns:\n",
    "        pd.DataFrame: DataFrame with rows >50% missing removed.\n",
    "    \"\"\"\n",
    "    # Compute fraction of missing per row\n",
    "    row_missing_frac = df.isnull().mean(axis=1)\n",
    "    \n",
    "    # Rows with more than 50% missing\n",
    "    rows_over_50 = row_missing_frac[row_missing_frac > 0.5].index.tolist()\n",
    "    \n",
    "    print(f\"Number of rows with >50% missing: {len(rows_over_50)}\")\n",
    "    print(\"Indices of rows with >50% missing:\")\n",
    "    print(rows_over_50)\n",
    "    \n",
    "    # Remove those rows\n",
    "    df_cleaned = df.drop(index=rows_over_50)\n",
    "    print(f\"Shape before: {df.shape}, Shape after removal: {df_cleaned.shape}\")\n",
    "    \n",
    "    return df_cleaned\n"
   ]
  },
  {
   "cell_type": "code",
   "execution_count": 21,
   "id": "bff15401",
   "metadata": {},
   "outputs": [],
   "source": [
    "# qualitivate feature engineering\n",
    "# # Need to understand if to include error. the relative change between error and magnitude/value\n",
    "# columns_to_keep = [\"koi_disposition\", # y\n",
    "#                    \"koi_vet_stat\",\n",
    "#                    \"koi_period\",\n",
    "#                    \"koi_period_err1\",\n",
    "#                    \"koi_eccen\",\n",
    "#                    \"koi_eccen_err1\",\n",
    "#                    \"koi_longp\",\n",
    "#                    \"koi_longp_err1\",\n",
    "#                    \"koi_impact\",\n",
    "#                    \"koi_impact_err1\",\n",
    "#                    \"koi_duration\",\n",
    "#                    \"koi_duration_err1\",\n",
    "#                    \"koi_depth\",\n",
    "#                    \"koi_depth_err1\",\n",
    "#                    \"koi_ror\",\n",
    "#                    \"koi_ror_err1\",\n",
    "#                    \"koi_srho\",\n",
    "#                    \"koi_srho_err1\",\n",
    "#                    \"koi_prad\",\n",
    "#                    \"koi_prad_err1\",\n",
    "#                    \"koi_sma\",\n",
    "#                    \"koi_sma_err1\",\n",
    "#                    \"koi_incl\",\n",
    "#                    \"koi_incl_err1\",\n",
    "#                    \"koi_teq\",\n",
    "#                    \"koi_teq_err1\",\n",
    "#                    \"koi_inso\",\n",
    "#                    \"koi_inso_err1\",\n",
    "#                    \"koi_dor\",\n",
    "#                    \"koi_dor_err1\",\n"
   ]
  },
  {
   "cell_type": "code",
   "execution_count": 22,
   "id": "66ada7ba",
   "metadata": {},
   "outputs": [
    {
     "name": "stdout",
     "output_type": "stream",
     "text": [
      "Number of rows with >50% missing: 84\n",
      "Indices of rows with >50% missing:\n",
      "[479, 746, 822, 970, 1101, 1242, 1502, 1602, 1673, 1889, 1890, 1923, 1934, 2018, 2210, 5929, 6109, 6116, 6192, 6316, 6348, 6467, 6514, 6516, 6529, 6566, 6570, 6581, 6615, 6623, 6650, 6675, 6680, 6686, 6768, 6799, 6800, 6811, 6862, 6901, 6984, 7012, 7013, 7045, 7056, 7066, 7068, 7071, 7075, 7076, 7086, 7091, 7095, 7106, 7127, 7132, 7150, 7160, 7177, 7190, 7191, 7204, 7222, 7280, 7327, 7335, 7346, 7366, 7367, 7368, 7395, 7450, 7452, 7460, 7461, 7463, 7484, 7488, 7499, 7603, 7614, 8803, 9004, 9152]\n",
      "Shape before: (4725, 116), Shape after removal: (4641, 116)\n"
     ]
    },
    {
     "data": {
      "application/vnd.microsoft.datawrangler.viewer.v0+json": {
       "columns": [
        {
         "name": "index",
         "rawType": "int64",
         "type": "integer"
        },
        {
         "name": "koi_disposition",
         "rawType": "object",
         "type": "string"
        },
        {
         "name": "koi_vet_stat",
         "rawType": "object",
         "type": "string"
        },
        {
         "name": "koi_vet_date",
         "rawType": "object",
         "type": "string"
        },
        {
         "name": "koi_fpflag_nt",
         "rawType": "int64",
         "type": "integer"
        },
        {
         "name": "koi_fpflag_ss",
         "rawType": "int64",
         "type": "integer"
        },
        {
         "name": "koi_fpflag_co",
         "rawType": "int64",
         "type": "integer"
        },
        {
         "name": "koi_fpflag_ec",
         "rawType": "int64",
         "type": "integer"
        },
        {
         "name": "koi_disp_prov",
         "rawType": "object",
         "type": "string"
        },
        {
         "name": "koi_comment",
         "rawType": "object",
         "type": "string"
        },
        {
         "name": "koi_period",
         "rawType": "float64",
         "type": "float"
        },
        {
         "name": "koi_period_err1",
         "rawType": "float64",
         "type": "float"
        },
        {
         "name": "koi_period_err2",
         "rawType": "float64",
         "type": "float"
        },
        {
         "name": "koi_time0bk",
         "rawType": "float64",
         "type": "float"
        },
        {
         "name": "koi_time0bk_err1",
         "rawType": "float64",
         "type": "float"
        },
        {
         "name": "koi_time0bk_err2",
         "rawType": "float64",
         "type": "float"
        },
        {
         "name": "koi_time0",
         "rawType": "float64",
         "type": "float"
        },
        {
         "name": "koi_time0_err1",
         "rawType": "float64",
         "type": "float"
        },
        {
         "name": "koi_time0_err2",
         "rawType": "float64",
         "type": "float"
        },
        {
         "name": "koi_eccen",
         "rawType": "float64",
         "type": "float"
        },
        {
         "name": "koi_impact",
         "rawType": "float64",
         "type": "float"
        },
        {
         "name": "koi_impact_err1",
         "rawType": "float64",
         "type": "float"
        },
        {
         "name": "koi_impact_err2",
         "rawType": "float64",
         "type": "float"
        },
        {
         "name": "koi_duration",
         "rawType": "float64",
         "type": "float"
        },
        {
         "name": "koi_duration_err1",
         "rawType": "float64",
         "type": "float"
        },
        {
         "name": "koi_duration_err2",
         "rawType": "float64",
         "type": "float"
        },
        {
         "name": "koi_depth",
         "rawType": "float64",
         "type": "float"
        },
        {
         "name": "koi_depth_err1",
         "rawType": "float64",
         "type": "float"
        },
        {
         "name": "koi_depth_err2",
         "rawType": "float64",
         "type": "float"
        },
        {
         "name": "koi_ror",
         "rawType": "float64",
         "type": "float"
        },
        {
         "name": "koi_ror_err1",
         "rawType": "float64",
         "type": "float"
        },
        {
         "name": "koi_ror_err2",
         "rawType": "float64",
         "type": "float"
        },
        {
         "name": "koi_srho",
         "rawType": "float64",
         "type": "float"
        },
        {
         "name": "koi_srho_err1",
         "rawType": "float64",
         "type": "float"
        },
        {
         "name": "koi_srho_err2",
         "rawType": "float64",
         "type": "float"
        },
        {
         "name": "koi_fittype",
         "rawType": "object",
         "type": "string"
        },
        {
         "name": "koi_prad",
         "rawType": "float64",
         "type": "float"
        },
        {
         "name": "koi_prad_err1",
         "rawType": "float64",
         "type": "float"
        },
        {
         "name": "koi_prad_err2",
         "rawType": "float64",
         "type": "float"
        },
        {
         "name": "koi_sma",
         "rawType": "float64",
         "type": "float"
        },
        {
         "name": "koi_incl",
         "rawType": "float64",
         "type": "float"
        },
        {
         "name": "koi_teq",
         "rawType": "float64",
         "type": "float"
        },
        {
         "name": "koi_insol",
         "rawType": "float64",
         "type": "float"
        },
        {
         "name": "koi_insol_err1",
         "rawType": "float64",
         "type": "float"
        },
        {
         "name": "koi_insol_err2",
         "rawType": "float64",
         "type": "float"
        },
        {
         "name": "koi_dor",
         "rawType": "float64",
         "type": "float"
        },
        {
         "name": "koi_dor_err1",
         "rawType": "float64",
         "type": "float"
        },
        {
         "name": "koi_dor_err2",
         "rawType": "float64",
         "type": "float"
        },
        {
         "name": "koi_limbdark_mod",
         "rawType": "object",
         "type": "string"
        },
        {
         "name": "koi_ldm_coeff4",
         "rawType": "float64",
         "type": "float"
        },
        {
         "name": "koi_ldm_coeff3",
         "rawType": "float64",
         "type": "float"
        },
        {
         "name": "koi_ldm_coeff2",
         "rawType": "float64",
         "type": "float"
        },
        {
         "name": "koi_ldm_coeff1",
         "rawType": "float64",
         "type": "float"
        },
        {
         "name": "koi_parm_prov",
         "rawType": "object",
         "type": "string"
        },
        {
         "name": "koi_max_sngle_ev",
         "rawType": "float64",
         "type": "float"
        },
        {
         "name": "koi_max_mult_ev",
         "rawType": "float64",
         "type": "float"
        },
        {
         "name": "koi_model_snr",
         "rawType": "float64",
         "type": "float"
        },
        {
         "name": "koi_count",
         "rawType": "int64",
         "type": "integer"
        },
        {
         "name": "koi_num_transits",
         "rawType": "float64",
         "type": "float"
        },
        {
         "name": "koi_tce_plnt_num",
         "rawType": "float64",
         "type": "float"
        },
        {
         "name": "koi_quarters",
         "rawType": "object",
         "type": "string"
        },
        {
         "name": "koi_bin_oedp_sig",
         "rawType": "float64",
         "type": "float"
        },
        {
         "name": "koi_trans_mod",
         "rawType": "object",
         "type": "string"
        },
        {
         "name": "koi_datalink_dvr",
         "rawType": "object",
         "type": "string"
        },
        {
         "name": "koi_datalink_dvs",
         "rawType": "object",
         "type": "string"
        },
        {
         "name": "koi_steff",
         "rawType": "float64",
         "type": "float"
        },
        {
         "name": "koi_steff_err1",
         "rawType": "float64",
         "type": "float"
        },
        {
         "name": "koi_steff_err2",
         "rawType": "float64",
         "type": "float"
        },
        {
         "name": "koi_slogg",
         "rawType": "float64",
         "type": "float"
        },
        {
         "name": "koi_slogg_err1",
         "rawType": "float64",
         "type": "float"
        },
        {
         "name": "koi_slogg_err2",
         "rawType": "float64",
         "type": "float"
        },
        {
         "name": "koi_smet",
         "rawType": "float64",
         "type": "float"
        },
        {
         "name": "koi_smet_err1",
         "rawType": "float64",
         "type": "float"
        },
        {
         "name": "koi_smet_err2",
         "rawType": "float64",
         "type": "float"
        },
        {
         "name": "koi_srad",
         "rawType": "float64",
         "type": "float"
        },
        {
         "name": "koi_srad_err1",
         "rawType": "float64",
         "type": "float"
        },
        {
         "name": "koi_srad_err2",
         "rawType": "float64",
         "type": "float"
        },
        {
         "name": "koi_smass",
         "rawType": "float64",
         "type": "float"
        },
        {
         "name": "koi_smass_err1",
         "rawType": "float64",
         "type": "float"
        },
        {
         "name": "koi_smass_err2",
         "rawType": "float64",
         "type": "float"
        },
        {
         "name": "koi_sparprov",
         "rawType": "object",
         "type": "string"
        },
        {
         "name": "ra",
         "rawType": "float64",
         "type": "float"
        },
        {
         "name": "dec",
         "rawType": "float64",
         "type": "float"
        },
        {
         "name": "koi_kepmag",
         "rawType": "float64",
         "type": "float"
        },
        {
         "name": "koi_gmag",
         "rawType": "float64",
         "type": "float"
        },
        {
         "name": "koi_rmag",
         "rawType": "float64",
         "type": "float"
        },
        {
         "name": "koi_imag",
         "rawType": "float64",
         "type": "float"
        },
        {
         "name": "koi_zmag",
         "rawType": "float64",
         "type": "float"
        },
        {
         "name": "koi_jmag",
         "rawType": "float64",
         "type": "float"
        },
        {
         "name": "koi_hmag",
         "rawType": "float64",
         "type": "float"
        },
        {
         "name": "koi_kmag",
         "rawType": "float64",
         "type": "float"
        },
        {
         "name": "koi_fwm_stat_sig",
         "rawType": "float64",
         "type": "float"
        },
        {
         "name": "koi_fwm_sra",
         "rawType": "float64",
         "type": "float"
        },
        {
         "name": "koi_fwm_sra_err",
         "rawType": "float64",
         "type": "float"
        },
        {
         "name": "koi_fwm_sdec",
         "rawType": "float64",
         "type": "float"
        },
        {
         "name": "koi_fwm_sdec_err",
         "rawType": "float64",
         "type": "float"
        },
        {
         "name": "koi_fwm_srao",
         "rawType": "float64",
         "type": "float"
        },
        {
         "name": "koi_fwm_srao_err",
         "rawType": "float64",
         "type": "float"
        },
        {
         "name": "koi_fwm_sdeco",
         "rawType": "float64",
         "type": "float"
        },
        {
         "name": "koi_fwm_sdeco_err",
         "rawType": "float64",
         "type": "float"
        },
        {
         "name": "koi_fwm_prao",
         "rawType": "float64",
         "type": "float"
        },
        {
         "name": "koi_fwm_prao_err",
         "rawType": "float64",
         "type": "float"
        },
        {
         "name": "koi_fwm_pdeco",
         "rawType": "float64",
         "type": "float"
        },
        {
         "name": "koi_fwm_pdeco_err",
         "rawType": "float64",
         "type": "float"
        },
        {
         "name": "koi_dicco_mra",
         "rawType": "float64",
         "type": "float"
        },
        {
         "name": "koi_dicco_mra_err",
         "rawType": "float64",
         "type": "float"
        },
        {
         "name": "koi_dicco_mdec",
         "rawType": "float64",
         "type": "float"
        },
        {
         "name": "koi_dicco_mdec_err",
         "rawType": "float64",
         "type": "float"
        },
        {
         "name": "koi_dicco_msky",
         "rawType": "float64",
         "type": "float"
        },
        {
         "name": "koi_dicco_msky_err",
         "rawType": "float64",
         "type": "float"
        },
        {
         "name": "koi_dikco_mra",
         "rawType": "float64",
         "type": "float"
        },
        {
         "name": "koi_dikco_mra_err",
         "rawType": "float64",
         "type": "float"
        },
        {
         "name": "koi_dikco_mdec",
         "rawType": "float64",
         "type": "float"
        },
        {
         "name": "koi_dikco_mdec_err",
         "rawType": "float64",
         "type": "float"
        },
        {
         "name": "koi_dikco_msky",
         "rawType": "float64",
         "type": "float"
        },
        {
         "name": "koi_dikco_msky_err",
         "rawType": "float64",
         "type": "float"
        },
        {
         "name": "label",
         "rawType": "int64",
         "type": "integer"
        }
       ],
       "ref": "712b1803-692a-4c86-bc06-1c13e30185a8",
       "rows": [
        [
         "0",
         "CONFIRMED",
         "Done",
         "2018-08-16",
         "0",
         "0",
         "0",
         "0",
         "q1_q17_dr25_sup_koi",
         "NO_COMMENT",
         "9.48803557",
         "2.775e-05",
         "-2.775e-05",
         "170.53875",
         "0.00216",
         "-0.00216",
         "2455003.539",
         "0.00216",
         "-0.00216",
         "0.0",
         "0.146",
         "0.318",
         "-0.146",
         "2.9575",
         "0.0819",
         "-0.0819",
         "615.8",
         "19.5",
         "-19.5",
         "0.022344",
         "0.000832",
         "-0.000528",
         "3.20796",
         "0.33173",
         "-1.09986",
         "LS+MCMC",
         "2.26",
         "0.26",
         "-0.15",
         "0.0853",
         "89.66",
         "793.0",
         "93.59",
         "29.45",
         "-16.65",
         "24.81",
         "2.6",
         "-2.6",
         "Claret (2011 A&A 529 75) ATLAS LS",
         "0.0",
         "0.0",
         "0.2291",
         "0.4603",
         "q1_q17_dr25_koi",
         "5.135849",
         "28.47082",
         "35.8",
         "2",
         "142.0",
         "1.0",
         "11111111111111111000000000000000",
         "0.6864",
         "Mandel and Agol (2002 ApJ 580 171)",
         "010/010797/010797460/dv/kplr010797460-20160209194854_dvr.pdf",
         "010/010797/010797460/dv/kplr010797460-001-20160209194854_dvs.pdf",
         "5455.0",
         "81.0",
         "-81.0",
         "4.467",
         "0.064",
         "-0.096",
         "0.14",
         "0.15",
         "-0.15",
         "0.927",
         "0.105",
         "-0.061",
         "0.919",
         "0.052",
         "-0.046",
         "q1_q17_dr25_stellar",
         "291.93423",
         "48.141651",
         "15.347",
         "15.89",
         "15.27",
         "15.114",
         "15.006",
         "14.082",
         "13.751",
         "13.648",
         "0.002",
         "19.462294",
         "1.4e-05",
         "48.14191",
         "0.00013",
         "0.43",
         "0.51",
         "0.94",
         "0.48",
         "-0.0002",
         "0.00032",
         "-0.00055",
         "0.00031",
         "-0.01",
         "0.13",
         "0.2",
         "0.16",
         "0.2",
         "0.17",
         "0.08",
         "0.13",
         "0.31",
         "0.17",
         "0.32",
         "0.16",
         "1"
        ],
        [
         "1",
         "CONFIRMED",
         "Done",
         "2018-08-16",
         "0",
         "0",
         "0",
         "0",
         "q1_q17_dr25_sup_koi",
         "NO_COMMENT",
         "54.4183827",
         "0.0002479",
         "-0.0002479",
         "162.51384",
         "0.00352",
         "-0.00352",
         "2454995.514",
         "0.00352",
         "-0.00352",
         "0.0",
         "0.586",
         "0.059",
         "-0.443",
         "4.507",
         "0.116",
         "-0.116",
         "874.8",
         "35.5",
         "-35.5",
         "0.027954",
         "0.009078",
         "-0.001347",
         "3.02368",
         "2.20489",
         "-2.49638",
         "LS+MCMC",
         "2.83",
         "0.32",
         "-0.19",
         "0.2734",
         "89.57",
         "443.0",
         "9.11",
         "2.87",
         "-1.62",
         "77.9",
         "28.4",
         "-28.4",
         "Claret (2011 A&A 529 75) ATLAS LS",
         "0.0",
         "0.0",
         "0.2291",
         "0.4603",
         "q1_q17_dr25_koi",
         "7.027669",
         "20.109507",
         "25.8",
         "2",
         "25.0",
         "2.0",
         "11111111111111111000000000000000",
         "0.0023",
         "Mandel and Agol (2002 ApJ 580 171)",
         "010/010797/010797460/dv/kplr010797460-20160209194854_dvr.pdf",
         "010/010797/010797460/dv/kplr010797460-002-20160209194854_dvs.pdf",
         "5455.0",
         "81.0",
         "-81.0",
         "4.467",
         "0.064",
         "-0.096",
         "0.14",
         "0.15",
         "-0.15",
         "0.927",
         "0.105",
         "-0.061",
         "0.919",
         "0.052",
         "-0.046",
         "q1_q17_dr25_stellar",
         "291.93423",
         "48.141651",
         "15.347",
         "15.89",
         "15.27",
         "15.114",
         "15.006",
         "14.082",
         "13.751",
         "13.648",
         "0.003",
         "19.462265",
         "2e-05",
         "48.14199",
         "0.00019",
         "-0.63",
         "0.72",
         "1.23",
         "0.68",
         "0.00066",
         "0.00065",
         "-0.00105",
         "0.00063",
         "0.39",
         "0.36",
         "0.0",
         "0.48",
         "0.39",
         "0.36",
         "0.49",
         "0.34",
         "0.12",
         "0.73",
         "0.5",
         "0.45",
         "1"
        ],
        [
         "2",
         "CANDIDATE",
         "Done",
         "2018-08-16",
         "0",
         "0",
         "0",
         "0",
         "q1_q17_dr25_sup_koi",
         "DEEP_V_SHAPED",
         "19.89913995",
         "1.494e-05",
         "-1.494e-05",
         "175.850252",
         "0.000581",
         "-0.000581",
         "2455008.85",
         "0.000581",
         "-0.000581",
         "0.0",
         "0.969",
         "5.126",
         "-0.077",
         "1.7822",
         "0.0341",
         "-0.0341",
         "10829.0",
         "171.0",
         "-171.0",
         "0.154046",
         "5.034292",
         "-0.042179",
         "7.29555",
         "35.03293",
         "-2.75453",
         "LS+MCMC",
         "14.6",
         "3.92",
         "-1.31",
         "0.1419",
         "88.96",
         "638.0",
         "39.3",
         "31.04",
         "-10.49",
         "53.5",
         "25.7",
         "-25.7",
         "Claret (2011 A&A 529 75) ATLAS LS",
         "0.0",
         "0.0",
         "0.2711",
         "0.3858",
         "q1_q17_dr25_koi",
         "37.159767",
         "187.4491",
         "76.3",
         "1",
         "56.0",
         "1.0",
         "11111101110111011000000000000000",
         "0.6624",
         "Mandel and Agol (2002 ApJ 580 171)",
         "010/010811/010811496/dv/kplr010811496-20160209194854_dvr.pdf",
         "010/010811/010811496/dv/kplr010811496-001-20160209194854_dvs.pdf",
         "5853.0",
         "158.0",
         "-176.0",
         "4.544",
         "0.044",
         "-0.176",
         "-0.18",
         "0.3",
         "-0.3",
         "0.868",
         "0.233",
         "-0.078",
         "0.961",
         "0.11",
         "-0.121",
         "q1_q17_dr25_stellar",
         "297.00482",
         "48.134129",
         "15.436",
         "15.943",
         "15.39",
         "15.22",
         "15.166",
         "14.254",
         "13.9",
         "13.826",
         "0.278",
         "19.8003207",
         "1.9e-06",
         "48.13412",
         "2e-05",
         "-0.021",
         "0.069",
         "-0.038",
         "0.071",
         "0.0007",
         "0.0024",
         "0.0006",
         "0.0034",
         "-0.025",
         "0.07",
         "-0.034",
         "0.07",
         "0.042",
         "0.072",
         "0.002",
         "0.071",
         "-0.027",
         "0.074",
         "0.027",
         "0.074",
         "0"
        ],
        [
         "4",
         "CONFIRMED",
         "Done",
         "2018-08-16",
         "0",
         "0",
         "0",
         "0",
         "q1_q17_dr25_sup_koi",
         "NO_COMMENT",
         "2.525591777",
         "3.761e-06",
         "-3.761e-06",
         "171.59555",
         "0.00113",
         "-0.00113",
         "2455004.596",
         "0.00113",
         "-0.00113",
         "0.0",
         "0.701",
         "0.235",
         "-0.478",
         "1.6545",
         "0.042",
         "-0.042",
         "603.3",
         "16.9",
         "-16.9",
         "0.024064",
         "0.003751",
         "-0.001522",
         "1.98635",
         "2.71141",
         "-1.74541",
         "LS+MCMC",
         "2.75",
         "0.88",
         "-0.35",
         "0.0374",
         "85.41",
         "1406.0",
         "926.16",
         "874.33",
         "-314.24",
         "8.75",
         "4.0",
         "-4.0",
         "Claret (2011 A&A 529 75) ATLAS LS",
         "0.0",
         "0.0",
         "0.2844",
         "0.3661",
         "q1_q17_dr25_koi",
         "4.749945",
         "33.1919",
         "40.9",
         "1",
         "515.0",
         "1.0",
         "01111111111111111000000000000000",
         "0.309",
         "Mandel and Agol (2002 ApJ 580 171)",
         "010/010854/010854555/dv/kplr010854555-20160209194854_dvr.pdf",
         "010/010854/010854555/dv/kplr010854555-001-20160209194854_dvs.pdf",
         "6031.0",
         "169.0",
         "-211.0",
         "4.438",
         "0.07",
         "-0.21",
         "0.07",
         "0.25",
         "-0.3",
         "1.046",
         "0.334",
         "-0.133",
         "1.095",
         "0.151",
         "-0.136",
         "q1_q17_dr25_stellar",
         "288.75488",
         "48.2262",
         "15.509",
         "16.015",
         "15.468",
         "15.292",
         "15.241",
         "14.366",
         "14.064",
         "13.952",
         "0.733",
         "19.2503258",
         "9.7e-06",
         "48.22626",
         "0.0001",
         "-0.01",
         "0.35",
         "0.23",
         "0.37",
         "8e-05",
         "0.0002",
         "-7e-05",
         "0.00022",
         "0.03",
         "0.19",
         "-0.09",
         "0.18",
         "0.1",
         "0.14",
         "0.07",
         "0.18",
         "0.02",
         "0.16",
         "0.07",
         "0.2",
         "1"
        ],
        [
         "5",
         "CONFIRMED",
         "Done",
         "2018-08-16",
         "0",
         "0",
         "0",
         "0",
         "q1_q17_dr25_sup_koi",
         "NO_COMMENT",
         "11.09432054",
         "2.036e-05",
         "-2.036e-05",
         "171.20116",
         "0.00141",
         "-0.00141",
         "2455004.201",
         "0.00141",
         "-0.00141",
         "0.0",
         "0.538",
         "0.03",
         "-0.428",
         "4.5945",
         "0.061",
         "-0.061",
         "1517.5",
         "24.2",
         "-24.2",
         "0.036779",
         "0.005115",
         "-0.001065",
         "0.67324",
         "0.33286",
         "-0.38858",
         "LS+MCMC",
         "3.9",
         "1.27",
         "-0.42",
         "0.0992",
         "88.11",
         "835.0",
         "114.81",
         "112.85",
         "-36.7",
         "16.36",
         "8.1",
         "-8.1",
         "Claret (2011 A&A 529 75) ATLAS LS",
         "0.0",
         "0.0",
         "0.2889",
         "0.3511",
         "q1_q17_dr25_koi",
         "9.046456",
         "55.204865",
         "66.5",
         "3",
         "95.0",
         "1.0",
         "01111101110111011000000000000000",
         "0.0975",
         "Mandel and Agol (2002 ApJ 580 171)",
         "010/010872/010872983/dv/kplr010872983-20160209194854_dvr.pdf",
         "010/010872/010872983/dv/kplr010872983-001-20160209194854_dvs.pdf",
         "6046.0",
         "189.0",
         "-232.0",
         "4.486",
         "0.054",
         "-0.229",
         "-0.08",
         "0.25",
         "-0.3",
         "0.972",
         "0.315",
         "-0.105",
         "1.053",
         "0.135",
         "-0.15",
         "q1_q17_dr25_stellar",
         "296.28613",
         "48.22467",
         "15.714",
         "16.234",
         "15.677",
         "15.492",
         "15.441",
         "14.528",
         "14.113",
         "14.132",
         null,
         "19.7524061",
         "6.1e-06",
         "48.22471",
         "6.5e-05",
         "-0.12",
         "0.22",
         "0.14",
         "0.24",
         "4e-05",
         "0.00034",
         null,
         null,
         "0.04",
         "0.12",
         "-0.07",
         "0.11",
         "0.08",
         "0.13",
         "-0.02",
         "0.13",
         "-0.08",
         "0.1",
         "0.08",
         "0.1",
         "1"
        ]
       ],
       "shape": {
        "columns": 116,
        "rows": 5
       }
      },
      "text/html": [
       "<div>\n",
       "<style scoped>\n",
       "    .dataframe tbody tr th:only-of-type {\n",
       "        vertical-align: middle;\n",
       "    }\n",
       "\n",
       "    .dataframe tbody tr th {\n",
       "        vertical-align: top;\n",
       "    }\n",
       "\n",
       "    .dataframe thead th {\n",
       "        text-align: right;\n",
       "    }\n",
       "</style>\n",
       "<table border=\"1\" class=\"dataframe\">\n",
       "  <thead>\n",
       "    <tr style=\"text-align: right;\">\n",
       "      <th></th>\n",
       "      <th>koi_disposition</th>\n",
       "      <th>koi_vet_stat</th>\n",
       "      <th>koi_vet_date</th>\n",
       "      <th>koi_fpflag_nt</th>\n",
       "      <th>koi_fpflag_ss</th>\n",
       "      <th>koi_fpflag_co</th>\n",
       "      <th>koi_fpflag_ec</th>\n",
       "      <th>koi_disp_prov</th>\n",
       "      <th>koi_comment</th>\n",
       "      <th>koi_period</th>\n",
       "      <th>...</th>\n",
       "      <th>koi_dicco_mdec_err</th>\n",
       "      <th>koi_dicco_msky</th>\n",
       "      <th>koi_dicco_msky_err</th>\n",
       "      <th>koi_dikco_mra</th>\n",
       "      <th>koi_dikco_mra_err</th>\n",
       "      <th>koi_dikco_mdec</th>\n",
       "      <th>koi_dikco_mdec_err</th>\n",
       "      <th>koi_dikco_msky</th>\n",
       "      <th>koi_dikco_msky_err</th>\n",
       "      <th>label</th>\n",
       "    </tr>\n",
       "  </thead>\n",
       "  <tbody>\n",
       "    <tr>\n",
       "      <th>0</th>\n",
       "      <td>CONFIRMED</td>\n",
       "      <td>Done</td>\n",
       "      <td>2018-08-16</td>\n",
       "      <td>0</td>\n",
       "      <td>0</td>\n",
       "      <td>0</td>\n",
       "      <td>0</td>\n",
       "      <td>q1_q17_dr25_sup_koi</td>\n",
       "      <td>NO_COMMENT</td>\n",
       "      <td>9.488036</td>\n",
       "      <td>...</td>\n",
       "      <td>0.16</td>\n",
       "      <td>0.200</td>\n",
       "      <td>0.170</td>\n",
       "      <td>0.080</td>\n",
       "      <td>0.130</td>\n",
       "      <td>0.310</td>\n",
       "      <td>0.170</td>\n",
       "      <td>0.320</td>\n",
       "      <td>0.160</td>\n",
       "      <td>1</td>\n",
       "    </tr>\n",
       "    <tr>\n",
       "      <th>1</th>\n",
       "      <td>CONFIRMED</td>\n",
       "      <td>Done</td>\n",
       "      <td>2018-08-16</td>\n",
       "      <td>0</td>\n",
       "      <td>0</td>\n",
       "      <td>0</td>\n",
       "      <td>0</td>\n",
       "      <td>q1_q17_dr25_sup_koi</td>\n",
       "      <td>NO_COMMENT</td>\n",
       "      <td>54.418383</td>\n",
       "      <td>...</td>\n",
       "      <td>0.48</td>\n",
       "      <td>0.390</td>\n",
       "      <td>0.360</td>\n",
       "      <td>0.490</td>\n",
       "      <td>0.340</td>\n",
       "      <td>0.120</td>\n",
       "      <td>0.730</td>\n",
       "      <td>0.500</td>\n",
       "      <td>0.450</td>\n",
       "      <td>1</td>\n",
       "    </tr>\n",
       "    <tr>\n",
       "      <th>2</th>\n",
       "      <td>CANDIDATE</td>\n",
       "      <td>Done</td>\n",
       "      <td>2018-08-16</td>\n",
       "      <td>0</td>\n",
       "      <td>0</td>\n",
       "      <td>0</td>\n",
       "      <td>0</td>\n",
       "      <td>q1_q17_dr25_sup_koi</td>\n",
       "      <td>DEEP_V_SHAPED</td>\n",
       "      <td>19.899140</td>\n",
       "      <td>...</td>\n",
       "      <td>0.07</td>\n",
       "      <td>0.042</td>\n",
       "      <td>0.072</td>\n",
       "      <td>0.002</td>\n",
       "      <td>0.071</td>\n",
       "      <td>-0.027</td>\n",
       "      <td>0.074</td>\n",
       "      <td>0.027</td>\n",
       "      <td>0.074</td>\n",
       "      <td>0</td>\n",
       "    </tr>\n",
       "    <tr>\n",
       "      <th>4</th>\n",
       "      <td>CONFIRMED</td>\n",
       "      <td>Done</td>\n",
       "      <td>2018-08-16</td>\n",
       "      <td>0</td>\n",
       "      <td>0</td>\n",
       "      <td>0</td>\n",
       "      <td>0</td>\n",
       "      <td>q1_q17_dr25_sup_koi</td>\n",
       "      <td>NO_COMMENT</td>\n",
       "      <td>2.525592</td>\n",
       "      <td>...</td>\n",
       "      <td>0.18</td>\n",
       "      <td>0.100</td>\n",
       "      <td>0.140</td>\n",
       "      <td>0.070</td>\n",
       "      <td>0.180</td>\n",
       "      <td>0.020</td>\n",
       "      <td>0.160</td>\n",
       "      <td>0.070</td>\n",
       "      <td>0.200</td>\n",
       "      <td>1</td>\n",
       "    </tr>\n",
       "    <tr>\n",
       "      <th>5</th>\n",
       "      <td>CONFIRMED</td>\n",
       "      <td>Done</td>\n",
       "      <td>2018-08-16</td>\n",
       "      <td>0</td>\n",
       "      <td>0</td>\n",
       "      <td>0</td>\n",
       "      <td>0</td>\n",
       "      <td>q1_q17_dr25_sup_koi</td>\n",
       "      <td>NO_COMMENT</td>\n",
       "      <td>11.094321</td>\n",
       "      <td>...</td>\n",
       "      <td>0.11</td>\n",
       "      <td>0.080</td>\n",
       "      <td>0.130</td>\n",
       "      <td>-0.020</td>\n",
       "      <td>0.130</td>\n",
       "      <td>-0.080</td>\n",
       "      <td>0.100</td>\n",
       "      <td>0.080</td>\n",
       "      <td>0.100</td>\n",
       "      <td>1</td>\n",
       "    </tr>\n",
       "  </tbody>\n",
       "</table>\n",
       "<p>5 rows × 116 columns</p>\n",
       "</div>"
      ],
      "text/plain": [
       "  koi_disposition koi_vet_stat koi_vet_date  koi_fpflag_nt  koi_fpflag_ss  \\\n",
       "0       CONFIRMED         Done   2018-08-16              0              0   \n",
       "1       CONFIRMED         Done   2018-08-16              0              0   \n",
       "2       CANDIDATE         Done   2018-08-16              0              0   \n",
       "4       CONFIRMED         Done   2018-08-16              0              0   \n",
       "5       CONFIRMED         Done   2018-08-16              0              0   \n",
       "\n",
       "   koi_fpflag_co  koi_fpflag_ec        koi_disp_prov    koi_comment  \\\n",
       "0              0              0  q1_q17_dr25_sup_koi     NO_COMMENT   \n",
       "1              0              0  q1_q17_dr25_sup_koi     NO_COMMENT   \n",
       "2              0              0  q1_q17_dr25_sup_koi  DEEP_V_SHAPED   \n",
       "4              0              0  q1_q17_dr25_sup_koi     NO_COMMENT   \n",
       "5              0              0  q1_q17_dr25_sup_koi     NO_COMMENT   \n",
       "\n",
       "   koi_period  ...  koi_dicco_mdec_err  koi_dicco_msky  koi_dicco_msky_err  \\\n",
       "0    9.488036  ...                0.16           0.200               0.170   \n",
       "1   54.418383  ...                0.48           0.390               0.360   \n",
       "2   19.899140  ...                0.07           0.042               0.072   \n",
       "4    2.525592  ...                0.18           0.100               0.140   \n",
       "5   11.094321  ...                0.11           0.080               0.130   \n",
       "\n",
       "   koi_dikco_mra  koi_dikco_mra_err  koi_dikco_mdec  koi_dikco_mdec_err  \\\n",
       "0          0.080              0.130           0.310               0.170   \n",
       "1          0.490              0.340           0.120               0.730   \n",
       "2          0.002              0.071          -0.027               0.074   \n",
       "4          0.070              0.180           0.020               0.160   \n",
       "5         -0.020              0.130          -0.080               0.100   \n",
       "\n",
       "   koi_dikco_msky  koi_dikco_msky_err  label  \n",
       "0           0.320               0.160      1  \n",
       "1           0.500               0.450      1  \n",
       "2           0.027               0.074      0  \n",
       "4           0.070               0.200      1  \n",
       "5           0.080               0.100      1  \n",
       "\n",
       "[5 rows x 116 columns]"
      ]
     },
     "metadata": {},
     "output_type": "display_data"
    },
    {
     "name": "stdout",
     "output_type": "stream",
     "text": [
      "Dropped non-numeric column: koi_vet_stat\n",
      "Dropped non-numeric column: koi_vet_date\n",
      "Dropped non-numeric column: koi_disp_prov\n",
      "Dropped non-numeric column: koi_comment\n",
      "Dropped non-numeric column: koi_fittype\n",
      "Dropped non-numeric column: koi_limbdark_mod\n",
      "Dropped non-numeric column: koi_parm_prov\n",
      "Dropped non-numeric column: koi_quarters\n",
      "Dropped non-numeric column: koi_trans_mod\n",
      "Dropped non-numeric column: koi_datalink_dvr\n",
      "Dropped non-numeric column: koi_datalink_dvs\n",
      "Dropped non-numeric column: koi_sparprov\n",
      "df size:  478023\n"
     ]
    }
   ],
   "source": [
    "\n",
    "#                    ]\n",
    "import pandas as pd\n",
    "import numpy as np\n",
    "\n",
    "def clean_and_impute(df, target_col=\"label\"):\n",
    "    \"\"\"\n",
    "    - Keeps the target column untouched.\n",
    "    - For numeric columns: imputes missing values with column mean.\n",
    "    - For non-numeric columns: drops them.\n",
    "    \n",
    "    Parameters:\n",
    "        df (pd.DataFrame): Input dataframe\n",
    "        target_col (str): Name of target/label column to preserve\n",
    "        \n",
    "    Returns:\n",
    "        pd.DataFrame: Cleaned dataframe\n",
    "    \"\"\"\n",
    "    df_cleaned = df.copy()\n",
    "\n",
    "\n",
    "\n",
    "    # Iterate over columns\n",
    "    for col in df.columns:\n",
    "        if col == target_col:\n",
    "            continue  # skip label column\n",
    "\n",
    "        if pd.api.types.is_numeric_dtype(df[col]):\n",
    "            if df[col].isnull().any():\n",
    "                df_cleaned[col] = df[col].fillna(df[col].mean())\n",
    "        else:\n",
    "            df_cleaned = df_cleaned.drop(columns=[col])\n",
    "            print(f\"Dropped non-numeric column: {col}\")\n",
    "\n",
    "    return df_cleaned\n",
    "\n",
    "\n",
    "from sklearn.model_selection import train_test_split\n",
    "def split_X_y(df):\n",
    "    \"\"\"\n",
    "    Splits a DataFrame into features X and target y.\n",
    "    \n",
    "    Parameters:\n",
    "        df (pd.DataFrame): The full dataset with features and target.\n",
    "    \n",
    "    Returns:\n",
    "        X (pd.DataFrame): Feature columns.\n",
    "        y (pd.Series): Target column.\n",
    "    \"\"\"\n",
    "    # print(\"koi_disposition\" in df.columns)\n",
    "    if \"koi_disposition\" in df.columns:\n",
    "        df = df.drop(columns=\"koi_disposition\")\n",
    "        # print(\"columns dropped\")\n",
    "        # print(\"koi_disposition\" in df.columns)\n",
    "\n",
    "    df = clean_and_impute(df)\n",
    "    print(\"df size: \", df.size)\n",
    "    y = df[\"label\"]          # target column\n",
    "    X = df.drop(columns=\"label\")\n",
    "    return X, y\n",
    "\n",
    "\n",
    "\n",
    "\n",
    "from sklearn.model_selection import train_test_split\n",
    "from sklearn.preprocessing import MinMaxScaler\n",
    "from sklearn.model_selection import train_test_split\n",
    "from sklearn.preprocessing import MinMaxScaler\n",
    "\n",
    "def split_train_val_test_scale(X, y, train_ratio=0.7, random_seed=42):\n",
    "    \"\"\"\n",
    "    Splits features X and target y into train/validation/test sets and scales numeric features with MinMaxScaler.\n",
    "    Non-numeric columns are automatically removed.\n",
    "\n",
    "    Parameters:\n",
    "        X (pd.DataFrame or np.array): Features.\n",
    "        y (pd.Series or np.array): Target.\n",
    "        train_ratio (float): Proportion of data for training (default 0.7).\n",
    "        random_seed (int): Random seed for reproducibility (default 42).\n",
    "\n",
    "    Returns:\n",
    "        X_train_scaled, X_val_scaled, X_test_scaled, y_train, y_val, y_test, scaler\n",
    "    \"\"\"\n",
    "    # Keep only numeric columns\n",
    "    numeric_cols = X.select_dtypes(include=[\"number\"]).columns\n",
    "    non_numeric_cols = [col for col in X.columns if col not in numeric_cols]\n",
    "    if non_numeric_cols:\n",
    "        print(f\"Warning: Non-numeric columns removed before scaling: {non_numeric_cols}\")\n",
    "    X_numeric = X[numeric_cols]\n",
    "\n",
    "    # First split: train vs (val+test)\n",
    "    X_train, X_temp, y_train, y_temp = train_test_split(\n",
    "        X_numeric, y, train_size=train_ratio, random_state=random_seed, stratify=y\n",
    "    )\n",
    "\n",
    "    # Second split: validation vs test (50/50 of the remaining data)\n",
    "    X_val, X_test, y_val, y_test = train_test_split(\n",
    "        X_temp, y_temp, train_size=0.5, random_state=random_seed, stratify=y_temp\n",
    "    )\n",
    "\n",
    "    # Scale features\n",
    "    scaler = MinMaxScaler()\n",
    "    X_train_scaled = scaler.fit_transform(X_train)\n",
    "    X_val_scaled = scaler.transform(X_val)\n",
    "    X_test_scaled = scaler.transform(X_test)\n",
    "\n",
    "    return X_train_scaled, X_val_scaled, X_test_scaled, y_train, y_val, y_test, scaler\n",
    "\n",
    "# Example usage:\n",
    "\n",
    "# Example usage:\n",
    "df_binary_cleaned = remove_rows_over_50_missing(df_binary)\n",
    "display(df_binary_cleaned.head())\n",
    "X, y = split_X_y(df_binary_cleaned)\n",
    "X_train_scaled, X_val_scaled, X_test_scaled, y_train, y_val, y_test, scaler = split_train_val_test_scale(X, y)\n"
   ]
  },
  {
   "cell_type": "markdown",
   "id": "f8ff312d",
   "metadata": {},
   "source": [
    "## Model"
   ]
  },
  {
   "cell_type": "code",
   "execution_count": 23,
   "id": "4a345cea",
   "metadata": {},
   "outputs": [],
   "source": [
    "from sklearn.ensemble import RandomForestClassifier, GradientBoostingClassifier, AdaBoostClassifier\n",
    "from xgboost import XGBClassifier  # make sure xgboost is installed\n",
    "from sklearn.metrics import (\n",
    "    roc_auc_score, precision_score, recall_score,\n",
    "    f1_score, accuracy_score, confusion_matrix\n",
    ")\n",
    "\n",
    "def train_random_forest(X_train, y_train, **kwargs):\n",
    "    \"\"\"Train a Random Forest classifier.\"\"\"\n",
    "    rf = RandomForestClassifier(random_state=42, **kwargs)\n",
    "    rf.fit(X_train, y_train)\n",
    "    return rf\n",
    "\n",
    "def train_gradient_boosting(X_train, y_train, **kwargs):\n",
    "    \"\"\"Train a Gradient Boosting classifier.\"\"\"\n",
    "    gb = GradientBoostingClassifier(random_state=42, **kwargs)\n",
    "    gb.fit(X_train, y_train)\n",
    "    return gb\n",
    "\n",
    "def train_xgboost(X_train, y_train, **kwargs):\n",
    "    \"\"\"Train an XGBoost classifier.\"\"\"\n",
    "    xgb = XGBClassifier(use_label_encoder=False, eval_metric='logloss', random_state=42, **kwargs)\n",
    "    xgb.fit(X_train, y_train)\n",
    "    return xgb\n",
    "\n",
    "def train_adaboost(X_train, y_train, **kwargs):\n",
    "    \"\"\"\n",
    "    Train an AdaBoost classifier.\n",
    "    Returns:\n",
    "        AdaBoostClassifier: Trained AdaBoost model\n",
    "    \"\"\"\n",
    "    ada = AdaBoostClassifier(\n",
    "        random_state=42, \n",
    "        **kwargs\n",
    "    )\n",
    "    \n",
    "    ada.fit(X_train, y_train)\n",
    "    return ada"
   ]
  },
  {
   "cell_type": "code",
   "execution_count": 27,
   "id": "028681b9",
   "metadata": {},
   "outputs": [],
   "source": [
    "from sklearn.metrics import (\n",
    "    accuracy_score, precision_score, recall_score, f1_score, roc_auc_score, confusion_matrix, roc_curve\n",
    ")\n",
    "import pandas as pd\n",
    "\n",
    "def evaluate_model(model, X_test, y_test, model_name=\"Model\"):\n",
    "    \"\"\"\n",
    "    Evaluates a classification model and returns metrics in a dictionary.\n",
    "    Also prints a summary.\n",
    "    \"\"\"\n",
    "    y_pred = model.predict(X_test)\n",
    "    y_proba = model.predict_proba(X_test)[:, 1] if hasattr(model, \"predict_proba\") else None\n",
    "\n",
    "    acc = accuracy_score(y_test, y_pred)\n",
    "    prec = precision_score(y_test, y_pred)\n",
    "    rec = recall_score(y_test, y_pred)\n",
    "    f1 = f1_score(y_test, y_pred)\n",
    "    auc = roc_auc_score(y_test, y_proba) if y_proba is not None else None\n",
    "    cm = confusion_matrix(y_test, y_pred)\n",
    "\n",
    "    # Print summary\n",
    "    print(f\"==== {model_name} Evaluation ====\")\n",
    "    print(f\"Accuracy : {acc:.4f}\")\n",
    "    print(f\"Precision: {prec:.4f}\")\n",
    "    print(f\"Recall   : {rec:.4f}\")\n",
    "    print(f\"F1 Score : {f1:.4f}\")\n",
    "    if auc is not None:\n",
    "        print(f\"ROC-AUC  : {auc:.4f}\")\n",
    "    print(\"Confusion Matrix:\")\n",
    "    print(cm)\n",
    "    print(\"==========================\")\n",
    "\n",
    "    return {\n",
    "        \"model\": model_name,\n",
    "        \"accuracy\": acc,\n",
    "        \"precision\": prec,\n",
    "        \"recall\": rec,\n",
    "        \"f1\": f1,\n",
    "        \"roc_auc\": auc\n",
    "    }\n",
    "\n",
    "\n",
    "def compare_models(results):\n",
    "    \"\"\"\n",
    "    Takes a list of results dictionaries and visualizes metrics.\n",
    "    \"\"\"\n",
    "    df_results = pd.DataFrame(results)\n",
    "\n",
    "    # Melt dataframe for plotting\n",
    "    df_melted = df_results.melt(id_vars=\"model\", var_name=\"metric\", value_name=\"score\")\n",
    "    df_melted = df_melted[df_melted[\"metric\"] != \"roc_auc\"]  # exclude AUC from barplot (better in ROC plot)\n",
    "\n",
    "    plt.figure(figsize=(10, 6))\n",
    "    sns.barplot(data=df_melted, x=\"metric\", y=\"score\", hue=\"model\")\n",
    "    plt.title(\"Model Comparison (Accuracy, Precision, Recall, F1)\")\n",
    "    plt.ylim(0, 1)\n",
    "    plt.legend(title=\"Model\")\n",
    "    plt.show()\n",
    "\n",
    "\n",
    "def plot_roc_curves(models, X_test, y_test, theme=\"dark\"):\n",
    "    \"\"\"\n",
    "    Plots ROC curves for multiple models in a modern, streamlit-style look.\n",
    "    \n",
    "    Parameters:\n",
    "        models (dict): { \"ModelName\": trained_model }\n",
    "        X_test (np.array): Test features\n",
    "        y_test (np.array): Test labels\n",
    "        theme (str): \"dark\" (default) or \"light\"\n",
    "    \"\"\"\n",
    "    # Streamlit-like colors\n",
    "    palette = [\n",
    "        \"#1f77b4\", \"#ff7f0e\", \"#2ca02c\", \"#d62728\",\n",
    "        \"#9467bd\", \"#8c564b\", \"#e377c2\", \"#7f7f7f\"\n",
    "    ]\n",
    "    \n",
    "    if theme == \"dark\":\n",
    "        plt.style.use(\"dark_background\")\n",
    "        bg_color = \"#0E1117\"\n",
    "        grid_color = \"#30343F\"\n",
    "    else:\n",
    "        plt.style.use(\"seaborn-v0_8-whitegrid\")\n",
    "        bg_color = \"#ffffff\"\n",
    "        grid_color = \"#e5e5e5\"\n",
    "\n",
    "    plt.figure(figsize=(8, 6))\n",
    "    ax = plt.gca()\n",
    "    ax.set_facecolor(bg_color)\n",
    "\n",
    "    for i, (model_name, model) in enumerate(models.items()):\n",
    "        if hasattr(model, \"predict_proba\"):\n",
    "            y_proba = model.predict_proba(X_test)[:, 1]\n",
    "            fpr, tpr, _ = roc_curve(y_test, y_proba)\n",
    "            auc = roc_auc_score(y_test, y_proba)\n",
    "            plt.plot(\n",
    "                fpr, tpr,\n",
    "                label=f\"{model_name} (AUC={auc:.3f})\",\n",
    "                linewidth=2.2,\n",
    "                color=palette[i % len(palette)]\n",
    "            )\n",
    "\n",
    "    # Random baseline\n",
    "    plt.plot([0, 1], [0, 1], \"k--\", lw=1.5, alpha=0.7, label=\"Random Guess\")\n",
    "\n",
    "    # Labels and title\n",
    "    plt.xlabel(\"False Positive Rate\", fontsize=12, labelpad=10)\n",
    "    plt.ylabel(\"True Positive Rate\", fontsize=12, labelpad=10)\n",
    "    plt.title(\"ROC Curves\", fontsize=14, pad=15, weight=\"bold\")\n",
    "\n",
    "    # Grid\n",
    "    plt.grid(True, linestyle=\"--\", alpha=0.3, color=grid_color)\n",
    "\n",
    "    # Legend\n",
    "    plt.legend(\n",
    "        loc=\"lower right\",\n",
    "        fontsize=10,\n",
    "        frameon=True,\n",
    "        facecolor=bg_color,\n",
    "        edgecolor=grid_color\n",
    "    )\n",
    "\n",
    "    plt.tight_layout()\n",
    "    plt.show()\n",
    "\n"
   ]
  },
  {
   "cell_type": "markdown",
   "id": "fd494d43",
   "metadata": {},
   "source": [
    "### Train model"
   ]
  },
  {
   "cell_type": "code",
   "execution_count": 25,
   "id": "100b825f",
   "metadata": {},
   "outputs": [
    {
     "name": "stderr",
     "output_type": "stream",
     "text": [
      "c:\\Projects\\NASA Space App Challenge - XOXOplanet\\xoxoplanet-nasa2025\\venv\\Lib\\site-packages\\xgboost\\training.py:183: UserWarning: [17:23:50] WARNING: C:\\actions-runner\\_work\\xgboost\\xgboost\\src\\learner.cc:738: \n",
      "Parameters: { \"use_label_encoder\" } are not used.\n",
      "\n",
      "  bst.update(dtrain, iteration=i, fobj=obj)\n"
     ]
    }
   ],
   "source": [
    "# Train models\n",
    "rf_model = train_random_forest(X_train_scaled, y_train, n_estimators=300, max_depth=10)\n",
    "gb_model = train_gradient_boosting(X_train_scaled, y_train, n_estimators=300, learning_rate=0.05)\n",
    "xgb_model = train_xgboost(X_train_scaled, y_train, n_estimators=300, max_depth=5, learning_rate=0.05)\n",
    "ada_model = train_adaboost(X_train_scaled, y_train, n_estimators=300, learning_rate=1.0)"
   ]
  },
  {
   "cell_type": "markdown",
   "id": "cc41faf4",
   "metadata": {},
   "source": [
    "## Results"
   ]
  },
  {
   "cell_type": "code",
   "execution_count": 31,
   "id": "44cebb80",
   "metadata": {},
   "outputs": [
    {
     "name": "stdout",
     "output_type": "stream",
     "text": [
      "==== RandomForest Evaluation ====\n",
      "Accuracy : 0.8793\n",
      "Precision: 0.8886\n",
      "Recall   : 0.9102\n",
      "F1 Score : 0.8993\n",
      "ROC-AUC  : 0.9602\n",
      "Confusion Matrix:\n",
      "[[237  47]\n",
      " [ 37 375]]\n",
      "==========================\n",
      "==== GradientBoosting Evaluation ====\n",
      "Accuracy : 0.8937\n",
      "Precision: 0.8986\n",
      "Recall   : 0.9248\n",
      "F1 Score : 0.9115\n",
      "ROC-AUC  : 0.9655\n",
      "Confusion Matrix:\n",
      "[[241  43]\n",
      " [ 31 381]]\n",
      "==========================\n",
      "==== XGBoost Evaluation ====\n",
      "Accuracy : 0.8937\n",
      "Precision: 0.9043\n",
      "Recall   : 0.9175\n",
      "F1 Score : 0.9108\n",
      "ROC-AUC  : 0.9674\n",
      "Confusion Matrix:\n",
      "[[244  40]\n",
      " [ 34 378]]\n",
      "==========================\n",
      "==== AdaBoost Evaluation ====\n",
      "Accuracy : 0.8980\n",
      "Precision: 0.8974\n",
      "Recall   : 0.9345\n",
      "F1 Score : 0.9156\n",
      "ROC-AUC  : 0.9604\n",
      "Confusion Matrix:\n",
      "[[240  44]\n",
      " [ 27 385]]\n",
      "==========================\n"
     ]
    },
    {
     "data": {
      "image/png": "[encoded data removed]",
      "text/plain": [
       "<Figure size 1000x600 with 1 Axes>"
      ]
     },
     "metadata": {},
     "output_type": "display_data"
    },
    {
     "data": {
      "image/png": "[encoded data removed]",
      "text/plain": [
       "<Figure size 800x600 with 1 Axes>"
      ]
     },
     "metadata": {},
     "output_type": "display_data"
    }
   ],
   "source": [
    "# Evaluate and collect results\n",
    "results = []\n",
    "results.append(evaluate_model(rf_model, X_val_scaled, y_val, \"RandomForest\"))\n",
    "results.append(evaluate_model(gb_model, X_val_scaled, y_val, \"GradientBoosting\"))\n",
    "results.append(evaluate_model(xgb_model, X_val_scaled, y_val, \"XGBoost\"))\n",
    "results.append(evaluate_model(ada_model, X_val_scaled, y_val, \"AdaBoost\"))\n",
    "\n",
    "# Compare models visually\n",
    "compare_models(results)\n",
    "\n",
    "models_dict = {\n",
    "    \"RandomForest\": rf_model,\n",
    "    \"GradientBoosting\": gb_model,\n",
    "    \"XGBoost\": xgb_model,\n",
    "    \"AdaBoost\": ada_model\n",
    "}\n",
    "# ROC curves\n",
    "plot_roc_curves(models_dict, X_val_scaled, y_val, theme=\"light\")\n"
   ]
  },
  {
   "cell_type": "markdown",
   "id": "4e23048c",
   "metadata": {},
   "source": [
    "## Save"
   ]
  },
  {
   "cell_type": "code",
   "execution_count": 34,
   "id": "4bd877d2",
   "metadata": {},
   "outputs": [],
   "source": [
    "import os\n",
    "import json\n",
    "import joblib\n",
    "\n",
    "def save_dict_as_json(data_dict, filename, results_path=\"results/\"):\n",
    "    \"\"\"\n",
    "    Save a dictionary as a JSON file.\n",
    "\n",
    "    Parameters:\n",
    "        data_dict (dict): Dictionary to save\n",
    "        filename (str): Name of JSON file (e.g., \"results.json\")\n",
    "        results_path (str): Path where to save. Defaults to \"results/\"\n",
    "    \"\"\"\n",
    "    os.makedirs(results_path, exist_ok=True)\n",
    "    file_path = os.path.join(results_path, filename)\n",
    "    with open(file_path, \"w\") as f:\n",
    "        json.dump(data_dict, f, indent=4)\n",
    "    print(f\"✅ JSON saved to {file_path}\")\n",
    "\n",
    "\n",
    "def save_models(models_dict, results_path=\"results/models/\"):\n",
    "    \"\"\"\n",
    "    Save trained sklearn models to disk using joblib.\n",
    "\n",
    "    Parameters:\n",
    "        models_dict (dict): Dictionary {model_name: trained_model}\n",
    "        results_path (str): Path where to save. Defaults to \"results/\"\n",
    "    \"\"\"\n",
    "    os.makedirs(results_path, exist_ok=True)\n",
    "    for name, model in models_dict.items():\n",
    "        file_path = os.path.join(results_path, f\"{name}.joblib\")\n",
    "        joblib.dump(model, file_path)\n",
    "        print(f\"✅ Model '{name}' saved to {file_path}\")\n"
   ]
  },
  {
   "cell_type": "code",
   "execution_count": 36,
   "id": "1439ab81",
   "metadata": {},
   "outputs": [
    {
     "name": "stdout",
     "output_type": "stream",
     "text": [
      "✅ JSON saved to results/results.json\n",
      "✅ Model 'RandomForest' saved to results/models/RandomForest.joblib\n",
      "✅ Model 'GradientBoosting' saved to results/models/GradientBoosting.joblib\n",
      "✅ Model 'XGBoost' saved to results/models/XGBoost.joblib\n",
      "✅ Model 'AdaBoost' saved to results/models/AdaBoost.joblib\n"
     ]
    }
   ],
   "source": [
    "# Save dictionaries as JSON\n",
    "save_dict_as_json(results, \"results.json\", results_path=\"results/\")\n",
    "\n",
    "# Save trained models themselves\n",
    "save_models(models_dict, results_path=\"results/models/\")\n"
   ]
  },
  {
   "cell_type": "code",
   "execution_count": null,
   "id": "29ec24f9",
   "metadata": {},
   "outputs": [],
   "source": []
  }
 ],
 "metadata": {
  "kernelspec": {
   "display_name": "venv",
   "language": "python",
   "name": "python3"
  },
  "language_info": {
   "codemirror_mode": {
    "name": "ipython",
    "version": 3
   },
   "file_extension": ".py",
   "mimetype": "text/x-python",
   "name": "python",
   "nbconvert_exporter": "python",
   "pygments_lexer": "ipython3",
   "version": "3.13.1"
  }
 },
 "nbformat": 4,
 "nbformat_minor": 5
}
