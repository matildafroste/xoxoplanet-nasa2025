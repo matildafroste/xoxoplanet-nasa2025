{
 "cells": [
  {
   "cell_type": "code",
   "execution_count": null,
   "id": "6d2a2a68",
   "metadata": {},
   "outputs": [
    {
     "name": "stdout",
     "output_type": "stream",
     "text": [
      "0            CONFIRMED\n",
      "1            CONFIRMED\n",
      "2            CANDIDATE\n",
      "3       FALSE POSITIVE\n",
      "4            CONFIRMED\n",
      "             ...      \n",
      "9559    FALSE POSITIVE\n",
      "9560         CANDIDATE\n",
      "9561    FALSE POSITIVE\n",
      "9562         CANDIDATE\n",
      "9563    FALSE POSITIVE\n",
      "Name: koi_disposition, Length: 9564, dtype: object\n"
     ]
    }
   ],
   "source": [
    "import pandas as pd\n",
    "\n",
    "df = pd.read_csv('datasets/KOI_2025.10.03_07.23.34.csv', skiprows=144)\n",
    "\n",
    "print(df['koi_disposition']) # Shows the status of all candidates"
   ]
  }
 ],
 "metadata": {
  "language_info": {
   "name": "python"
  }
 },
 "nbformat": 4,
 "nbformat_minor": 5
}
