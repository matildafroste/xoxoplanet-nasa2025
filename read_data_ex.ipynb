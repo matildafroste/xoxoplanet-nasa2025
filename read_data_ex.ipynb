{
 "cells": [
  {
   "cell_type": "markdown",
   "id": "74550c75",
   "metadata": {},
   "source": [
    "## Read data"
   ]
  },
  {
   "cell_type": "code",
   "execution_count": 18,
   "id": "6d2a2a68",
   "metadata": {},
   "outputs": [],
   "source": [
    "import pandas as pd\n",
    "\n",
    "df_orig = pd.read_csv('datasets/KOI_2025.10.03_07.23.34.csv', skiprows=144)"
   ]
  },
  {
   "cell_type": "markdown",
   "id": "b1fd4b49",
   "metadata": {},
   "source": [
    "## Clean data"
   ]
  },
  {
   "cell_type": "code",
   "execution_count": 32,
   "id": "18aff438",
   "metadata": {},
   "outputs": [
    {
     "name": "stdout",
     "output_type": "stream",
     "text": [
      "Original shape: (9564, 141)\n",
      "After dropping all-empty columns: (9564, 122)\n",
      "After dropping all-empty rows: (9564, 122)\n",
      "0            CONFIRMED\n",
      "1            CONFIRMED\n",
      "2            CANDIDATE\n",
      "3       FALSE POSITIVE\n",
      "4            CONFIRMED\n",
      "             ...      \n",
      "9559    FALSE POSITIVE\n",
      "9560         CANDIDATE\n",
      "9561    FALSE POSITIVE\n",
      "9562         CANDIDATE\n",
      "9563    FALSE POSITIVE\n",
      "Name: koi_disposition, Length: 9564, dtype: object\n"
     ]
    }
   ],
   "source": [
    "df = df_orig.copy()\n",
    "print(\"Original shape:\", df.shape)\n",
    "\n",
    "# Drop columns where ALL values are NaN\n",
    "df = df.dropna(axis=1, how='all')\n",
    "print(\"After dropping all-empty columns:\", df.shape)\n",
    "# Drop rows where ALL values are NaN\n",
    "df = df.dropna(axis=0, how='all')\n",
    "\n",
    "print(\"After dropping all-empty rows:\", df.shape)\n",
    "print(df['koi_disposition']) #"
   ]
  },
  {
   "cell_type": "code",
   "execution_count": 43,
   "id": "81851cfb",
   "metadata": {},
   "outputs": [],
   "source": [
    "for col in df.columns:\n",
    "    if df[col].count() <1000:\n",
    "        print(col, \"less than 10\")"
   ]
  },
  {
   "cell_type": "markdown",
   "id": "f47e3600",
   "metadata": {},
   "source": [
    "#### Remove specified columns"
   ]
  },
  {
   "cell_type": "code",
   "execution_count": 44,
   "id": "b2f467b4",
   "metadata": {},
   "outputs": [],
   "source": [
    "# Remove columns not for model\n",
    "\n",
    "columns_to_remove = [\"rowid\", \"kepid\", \"kepoi_name\", \"kepler_name\", \"koi_pdisposition\", \"koi_score\"]"
   ]
  },
  {
   "cell_type": "code",
   "execution_count": 47,
   "id": "1302c934",
   "metadata": {},
   "outputs": [
    {
     "data": {
      "application/vnd.microsoft.datawrangler.viewer.v0+json": {
       "columns": [
        {
         "name": "index",
         "rawType": "int64",
         "type": "integer"
        },
        {
         "name": "rowid",
         "rawType": "int64",
         "type": "integer"
        },
        {
         "name": "kepid",
         "rawType": "int64",
         "type": "integer"
        },
        {
         "name": "kepoi_name",
         "rawType": "object",
         "type": "string"
        },
        {
         "name": "kepler_name",
         "rawType": "object",
         "type": "unknown"
        },
        {
         "name": "koi_pdisposition",
         "rawType": "object",
         "type": "string"
        },
        {
         "name": "koi_score",
         "rawType": "float64",
         "type": "float"
        }
       ],
       "ref": "d40df4b7-bcd9-40b7-bcbc-01703823886c",
       "rows": [
        [
         "0",
         "1",
         "10797460",
         "K00752.01",
         "Kepler-227 b",
         "CANDIDATE",
         "1.0"
        ],
        [
         "1",
         "2",
         "10797460",
         "K00752.02",
         "Kepler-227 c",
         "CANDIDATE",
         "0.969"
        ],
        [
         "2",
         "3",
         "10811496",
         "K00753.01",
         null,
         "CANDIDATE",
         "0.0"
        ],
        [
         "3",
         "4",
         "10848459",
         "K00754.01",
         null,
         "FALSE POSITIVE",
         "0.0"
        ],
        [
         "4",
         "5",
         "10854555",
         "K00755.01",
         "Kepler-664 b",
         "CANDIDATE",
         "1.0"
        ],
        [
         "5",
         "6",
         "10872983",
         "K00756.01",
         "Kepler-228 d",
         "CANDIDATE",
         "1.0"
        ],
        [
         "6",
         "7",
         "10872983",
         "K00756.02",
         "Kepler-228 c",
         "CANDIDATE",
         "1.0"
        ],
        [
         "7",
         "8",
         "10872983",
         "K00756.03",
         "Kepler-228 b",
         "CANDIDATE",
         "0.992"
        ],
        [
         "8",
         "9",
         "6721123",
         "K00114.01",
         null,
         "FALSE POSITIVE",
         "0.0"
        ],
        [
         "9",
         "10",
         "10910878",
         "K00757.01",
         "Kepler-229 c",
         "CANDIDATE",
         "1.0"
        ],
        [
         "10",
         "11",
         "11446443",
         "K00001.01",
         "Kepler-1 b",
         "CANDIDATE",
         "0.811"
        ],
        [
         "11",
         "12",
         "10666592",
         "K00002.01",
         "Kepler-2 b",
         "CANDIDATE",
         "1.0"
        ],
        [
         "12",
         "13",
         "6922244",
         "K00010.01",
         "Kepler-8 b",
         "CANDIDATE",
         "0.998"
        ],
        [
         "13",
         "14",
         "10984090",
         "K00112.02",
         "Kepler-466 c",
         "CANDIDATE",
         "1.0"
        ],
        [
         "14",
         "15",
         "10419211",
         "K00742.01",
         null,
         "FALSE POSITIVE",
         "0.0"
        ],
        [
         "15",
         "16",
         "10464078",
         "K00743.01",
         null,
         "FALSE POSITIVE",
         "0.0"
        ],
        [
         "16",
         "17",
         "10480982",
         "K00744.01",
         null,
         "FALSE POSITIVE",
         "0.0"
        ],
        [
         "17",
         "18",
         "10485250",
         "K00745.01",
         null,
         "FALSE POSITIVE",
         "0.0"
        ],
        [
         "18",
         "19",
         "10526549",
         "K00746.01",
         "Kepler-660 b",
         "CANDIDATE",
         "1.0"
        ],
        [
         "19",
         "20",
         "10583066",
         "K00747.01",
         "Kepler-661 b",
         "CANDIDATE",
         "1.0"
        ],
        [
         "20",
         "21",
         "10583180",
         "K00748.01",
         null,
         "FALSE POSITIVE",
         "0.0"
        ],
        [
         "21",
         "22",
         "10601284",
         "K00749.01",
         "Kepler-226 c",
         "CANDIDATE",
         "1.0"
        ],
        [
         "22",
         "23",
         "10601284",
         "K00749.02",
         "Kepler-226 b",
         "CANDIDATE",
         "0.98"
        ],
        [
         "23",
         "24",
         "10601284",
         "K00749.03",
         "Kepler-226 d",
         "CANDIDATE",
         "0.971"
        ],
        [
         "24",
         "25",
         "2306756",
         "K00113.01",
         null,
         "FALSE POSITIVE",
         null
        ],
        [
         "25",
         "26",
         "10662202",
         "K00750.01",
         "Kepler-662 b",
         "CANDIDATE",
         "1.0"
        ],
        [
         "26",
         "27",
         "10682541",
         "K00751.01",
         "Kepler-663 b",
         "CANDIDATE",
         "1.0"
        ],
        [
         "27",
         "28",
         "11460018",
         "K00769.01",
         "Kepler-671 b",
         "CANDIDATE",
         "1.0"
        ],
        [
         "28",
         "29",
         "11463211",
         "K00770.01",
         null,
         "FALSE POSITIVE",
         "0.0"
        ],
        [
         "29",
         "30",
         "11465813",
         "K00771.01",
         null,
         "FALSE POSITIVE",
         "0.0"
        ],
        [
         "30",
         "31",
         "11493732",
         "K00772.01",
         null,
         "FALSE POSITIVE",
         "0.0"
        ],
        [
         "31",
         "32",
         "11507101",
         "K00773.01",
         "Kepler-672 b",
         "CANDIDATE",
         "1.0"
        ],
        [
         "32",
         "33",
         "10910878",
         "K00757.02",
         "Kepler-229 d",
         "CANDIDATE",
         "0.992"
        ],
        [
         "33",
         "34",
         "10910878",
         "K00757.03",
         "Kepler-229 b",
         "CANDIDATE",
         "1.0"
        ],
        [
         "34",
         "35",
         "10987985",
         "K00758.01",
         "Kepler-665 b",
         "CANDIDATE",
         "1.0"
        ],
        [
         "35",
         "36",
         "11018648",
         "K00759.01",
         "Kepler-230 b",
         "CANDIDATE",
         "1.0"
        ],
        [
         "36",
         "37",
         "11018648",
         "K00759.02",
         "Kepler-230 c",
         "CANDIDATE",
         "0.978"
        ],
        [
         "37",
         "38",
         "11138155",
         "K00760.01",
         "Kepler-1976 b",
         "CANDIDATE",
         "1.0"
        ],
        [
         "38",
         "39",
         "11152159",
         "K00761.01",
         null,
         "FALSE POSITIVE",
         "0.0"
        ],
        [
         "39",
         "40",
         "11153539",
         "K00762.01",
         "Kepler-666 b",
         "CANDIDATE",
         "1.0"
        ],
        [
         "40",
         "41",
         "11242721",
         "K00763.01",
         null,
         "FALSE POSITIVE",
         "0.0"
        ],
        [
         "41",
         "42",
         "9579641",
         "K00115.01",
         "Kepler-105 b",
         "CANDIDATE",
         "1.0"
        ],
        [
         "42",
         "43",
         "11304958",
         "K00764.01",
         "Kepler-667 b",
         "CANDIDATE",
         "0.998"
        ],
        [
         "43",
         "44",
         "11391957",
         "K00765.01",
         "Kepler-668 b",
         "CANDIDATE",
         "1.0"
        ],
        [
         "44",
         "45",
         "11403044",
         "K00766.01",
         "Kepler-669 b",
         "CANDIDATE",
         "1.0"
        ],
        [
         "45",
         "46",
         "11414511",
         "K00767.01",
         "Kepler-670 b",
         "CANDIDATE",
         "1.0"
        ],
        [
         "46",
         "47",
         "11442465",
         "K00768.01",
         null,
         "FALSE POSITIVE",
         "0.0"
        ],
        [
         "47",
         "48",
         "12110942",
         "K00786.01",
         "Kepler-680 b",
         "CANDIDATE",
         "1.0"
        ],
        [
         "48",
         "49",
         "12366084",
         "K00787.01",
         "Kepler-232 b",
         "CANDIDATE",
         "1.0"
        ],
        [
         "49",
         "50",
         "12366084",
         "K00787.02",
         "Kepler-232 c",
         "CANDIDATE",
         "1.0"
        ]
       ],
       "shape": {
        "columns": 6,
        "rows": 9564
       }
      },
      "text/html": [
       "<div>\n",
       "<style scoped>\n",
       "    .dataframe tbody tr th:only-of-type {\n",
       "        vertical-align: middle;\n",
       "    }\n",
       "\n",
       "    .dataframe tbody tr th {\n",
       "        vertical-align: top;\n",
       "    }\n",
       "\n",
       "    .dataframe thead th {\n",
       "        text-align: right;\n",
       "    }\n",
       "</style>\n",
       "<table border=\"1\" class=\"dataframe\">\n",
       "  <thead>\n",
       "    <tr style=\"text-align: right;\">\n",
       "      <th></th>\n",
       "      <th>rowid</th>\n",
       "      <th>kepid</th>\n",
       "      <th>kepoi_name</th>\n",
       "      <th>kepler_name</th>\n",
       "      <th>koi_pdisposition</th>\n",
       "      <th>koi_score</th>\n",
       "    </tr>\n",
       "  </thead>\n",
       "  <tbody>\n",
       "    <tr>\n",
       "      <th>0</th>\n",
       "      <td>1</td>\n",
       "      <td>10797460</td>\n",
       "      <td>K00752.01</td>\n",
       "      <td>Kepler-227 b</td>\n",
       "      <td>CANDIDATE</td>\n",
       "      <td>1.000</td>\n",
       "    </tr>\n",
       "    <tr>\n",
       "      <th>1</th>\n",
       "      <td>2</td>\n",
       "      <td>10797460</td>\n",
       "      <td>K00752.02</td>\n",
       "      <td>Kepler-227 c</td>\n",
       "      <td>CANDIDATE</td>\n",
       "      <td>0.969</td>\n",
       "    </tr>\n",
       "    <tr>\n",
       "      <th>2</th>\n",
       "      <td>3</td>\n",
       "      <td>10811496</td>\n",
       "      <td>K00753.01</td>\n",
       "      <td>NaN</td>\n",
       "      <td>CANDIDATE</td>\n",
       "      <td>0.000</td>\n",
       "    </tr>\n",
       "    <tr>\n",
       "      <th>3</th>\n",
       "      <td>4</td>\n",
       "      <td>10848459</td>\n",
       "      <td>K00754.01</td>\n",
       "      <td>NaN</td>\n",
       "      <td>FALSE POSITIVE</td>\n",
       "      <td>0.000</td>\n",
       "    </tr>\n",
       "    <tr>\n",
       "      <th>4</th>\n",
       "      <td>5</td>\n",
       "      <td>10854555</td>\n",
       "      <td>K00755.01</td>\n",
       "      <td>Kepler-664 b</td>\n",
       "      <td>CANDIDATE</td>\n",
       "      <td>1.000</td>\n",
       "    </tr>\n",
       "    <tr>\n",
       "      <th>...</th>\n",
       "      <td>...</td>\n",
       "      <td>...</td>\n",
       "      <td>...</td>\n",
       "      <td>...</td>\n",
       "      <td>...</td>\n",
       "      <td>...</td>\n",
       "    </tr>\n",
       "    <tr>\n",
       "      <th>9559</th>\n",
       "      <td>9560</td>\n",
       "      <td>10090151</td>\n",
       "      <td>K07985.01</td>\n",
       "      <td>NaN</td>\n",
       "      <td>FALSE POSITIVE</td>\n",
       "      <td>0.000</td>\n",
       "    </tr>\n",
       "    <tr>\n",
       "      <th>9560</th>\n",
       "      <td>9561</td>\n",
       "      <td>10128825</td>\n",
       "      <td>K07986.01</td>\n",
       "      <td>NaN</td>\n",
       "      <td>CANDIDATE</td>\n",
       "      <td>0.497</td>\n",
       "    </tr>\n",
       "    <tr>\n",
       "      <th>9561</th>\n",
       "      <td>9562</td>\n",
       "      <td>10147276</td>\n",
       "      <td>K07987.01</td>\n",
       "      <td>NaN</td>\n",
       "      <td>FALSE POSITIVE</td>\n",
       "      <td>0.021</td>\n",
       "    </tr>\n",
       "    <tr>\n",
       "      <th>9562</th>\n",
       "      <td>9563</td>\n",
       "      <td>10155286</td>\n",
       "      <td>K07988.01</td>\n",
       "      <td>NaN</td>\n",
       "      <td>CANDIDATE</td>\n",
       "      <td>0.092</td>\n",
       "    </tr>\n",
       "    <tr>\n",
       "      <th>9563</th>\n",
       "      <td>9564</td>\n",
       "      <td>10156110</td>\n",
       "      <td>K07989.01</td>\n",
       "      <td>NaN</td>\n",
       "      <td>FALSE POSITIVE</td>\n",
       "      <td>0.000</td>\n",
       "    </tr>\n",
       "  </tbody>\n",
       "</table>\n",
       "<p>9564 rows × 6 columns</p>\n",
       "</div>"
      ],
      "text/plain": [
       "      rowid     kepid kepoi_name   kepler_name koi_pdisposition  koi_score\n",
       "0         1  10797460  K00752.01  Kepler-227 b        CANDIDATE      1.000\n",
       "1         2  10797460  K00752.02  Kepler-227 c        CANDIDATE      0.969\n",
       "2         3  10811496  K00753.01           NaN        CANDIDATE      0.000\n",
       "3         4  10848459  K00754.01           NaN   FALSE POSITIVE      0.000\n",
       "4         5  10854555  K00755.01  Kepler-664 b        CANDIDATE      1.000\n",
       "...     ...       ...        ...           ...              ...        ...\n",
       "9559   9560  10090151  K07985.01           NaN   FALSE POSITIVE      0.000\n",
       "9560   9561  10128825  K07986.01           NaN        CANDIDATE      0.497\n",
       "9561   9562  10147276  K07987.01           NaN   FALSE POSITIVE      0.021\n",
       "9562   9563  10155286  K07988.01           NaN        CANDIDATE      0.092\n",
       "9563   9564  10156110  K07989.01           NaN   FALSE POSITIVE      0.000\n",
       "\n",
       "[9564 rows x 6 columns]"
      ]
     },
     "execution_count": 47,
     "metadata": {},
     "output_type": "execute_result"
    }
   ],
   "source": [
    "df[columns_to_remove]"
   ]
  },
  {
   "cell_type": "code",
   "execution_count": 49,
   "id": "993cc4df",
   "metadata": {},
   "outputs": [
    {
     "data": {
      "application/vnd.microsoft.datawrangler.viewer.v0+json": {
       "columns": [
        {
         "name": "index",
         "rawType": "int64",
         "type": "integer"
        },
        {
         "name": "koi_disposition",
         "rawType": "object",
         "type": "string"
        },
        {
         "name": "koi_vet_stat",
         "rawType": "object",
         "type": "string"
        },
        {
         "name": "koi_vet_date",
         "rawType": "object",
         "type": "string"
        },
        {
         "name": "koi_fpflag_nt",
         "rawType": "int64",
         "type": "integer"
        },
        {
         "name": "koi_fpflag_ss",
         "rawType": "int64",
         "type": "integer"
        },
        {
         "name": "koi_fpflag_co",
         "rawType": "int64",
         "type": "integer"
        },
        {
         "name": "koi_fpflag_ec",
         "rawType": "int64",
         "type": "integer"
        },
        {
         "name": "koi_disp_prov",
         "rawType": "object",
         "type": "string"
        },
        {
         "name": "koi_comment",
         "rawType": "object",
         "type": "string"
        },
        {
         "name": "koi_period",
         "rawType": "float64",
         "type": "float"
        },
        {
         "name": "koi_period_err1",
         "rawType": "float64",
         "type": "float"
        },
        {
         "name": "koi_period_err2",
         "rawType": "float64",
         "type": "float"
        },
        {
         "name": "koi_time0bk",
         "rawType": "float64",
         "type": "float"
        },
        {
         "name": "koi_time0bk_err1",
         "rawType": "float64",
         "type": "float"
        },
        {
         "name": "koi_time0bk_err2",
         "rawType": "float64",
         "type": "float"
        },
        {
         "name": "koi_time0",
         "rawType": "float64",
         "type": "float"
        },
        {
         "name": "koi_time0_err1",
         "rawType": "float64",
         "type": "float"
        },
        {
         "name": "koi_time0_err2",
         "rawType": "float64",
         "type": "float"
        },
        {
         "name": "koi_eccen",
         "rawType": "float64",
         "type": "float"
        },
        {
         "name": "koi_impact",
         "rawType": "float64",
         "type": "float"
        },
        {
         "name": "koi_impact_err1",
         "rawType": "float64",
         "type": "float"
        },
        {
         "name": "koi_impact_err2",
         "rawType": "float64",
         "type": "float"
        },
        {
         "name": "koi_duration",
         "rawType": "float64",
         "type": "float"
        },
        {
         "name": "koi_duration_err1",
         "rawType": "float64",
         "type": "float"
        },
        {
         "name": "koi_duration_err2",
         "rawType": "float64",
         "type": "float"
        },
        {
         "name": "koi_depth",
         "rawType": "float64",
         "type": "float"
        },
        {
         "name": "koi_depth_err1",
         "rawType": "float64",
         "type": "float"
        },
        {
         "name": "koi_depth_err2",
         "rawType": "float64",
         "type": "float"
        },
        {
         "name": "koi_ror",
         "rawType": "float64",
         "type": "float"
        },
        {
         "name": "koi_ror_err1",
         "rawType": "float64",
         "type": "float"
        },
        {
         "name": "koi_ror_err2",
         "rawType": "float64",
         "type": "float"
        },
        {
         "name": "koi_srho",
         "rawType": "float64",
         "type": "float"
        },
        {
         "name": "koi_srho_err1",
         "rawType": "float64",
         "type": "float"
        },
        {
         "name": "koi_srho_err2",
         "rawType": "float64",
         "type": "float"
        },
        {
         "name": "koi_fittype",
         "rawType": "object",
         "type": "string"
        },
        {
         "name": "koi_prad",
         "rawType": "float64",
         "type": "float"
        },
        {
         "name": "koi_prad_err1",
         "rawType": "float64",
         "type": "float"
        },
        {
         "name": "koi_prad_err2",
         "rawType": "float64",
         "type": "float"
        },
        {
         "name": "koi_sma",
         "rawType": "float64",
         "type": "float"
        },
        {
         "name": "koi_incl",
         "rawType": "float64",
         "type": "float"
        },
        {
         "name": "koi_teq",
         "rawType": "float64",
         "type": "float"
        },
        {
         "name": "koi_insol",
         "rawType": "float64",
         "type": "float"
        },
        {
         "name": "koi_insol_err1",
         "rawType": "float64",
         "type": "float"
        },
        {
         "name": "koi_insol_err2",
         "rawType": "float64",
         "type": "float"
        },
        {
         "name": "koi_dor",
         "rawType": "float64",
         "type": "float"
        },
        {
         "name": "koi_dor_err1",
         "rawType": "float64",
         "type": "float"
        },
        {
         "name": "koi_dor_err2",
         "rawType": "float64",
         "type": "float"
        },
        {
         "name": "koi_limbdark_mod",
         "rawType": "object",
         "type": "string"
        },
        {
         "name": "koi_ldm_coeff4",
         "rawType": "float64",
         "type": "float"
        },
        {
         "name": "koi_ldm_coeff3",
         "rawType": "float64",
         "type": "float"
        },
        {
         "name": "koi_ldm_coeff2",
         "rawType": "float64",
         "type": "float"
        },
        {
         "name": "koi_ldm_coeff1",
         "rawType": "float64",
         "type": "float"
        },
        {
         "name": "koi_parm_prov",
         "rawType": "object",
         "type": "string"
        },
        {
         "name": "koi_max_sngle_ev",
         "rawType": "float64",
         "type": "float"
        },
        {
         "name": "koi_max_mult_ev",
         "rawType": "float64",
         "type": "float"
        },
        {
         "name": "koi_model_snr",
         "rawType": "float64",
         "type": "float"
        },
        {
         "name": "koi_count",
         "rawType": "int64",
         "type": "integer"
        },
        {
         "name": "koi_num_transits",
         "rawType": "float64",
         "type": "float"
        },
        {
         "name": "koi_tce_plnt_num",
         "rawType": "float64",
         "type": "float"
        },
        {
         "name": "koi_tce_delivname",
         "rawType": "object",
         "type": "string"
        },
        {
         "name": "koi_quarters",
         "rawType": "object",
         "type": "string"
        },
        {
         "name": "koi_bin_oedp_sig",
         "rawType": "float64",
         "type": "float"
        },
        {
         "name": "koi_trans_mod",
         "rawType": "object",
         "type": "string"
        },
        {
         "name": "koi_datalink_dvr",
         "rawType": "object",
         "type": "string"
        },
        {
         "name": "koi_datalink_dvs",
         "rawType": "object",
         "type": "string"
        },
        {
         "name": "koi_steff",
         "rawType": "float64",
         "type": "float"
        },
        {
         "name": "koi_steff_err1",
         "rawType": "float64",
         "type": "float"
        },
        {
         "name": "koi_steff_err2",
         "rawType": "float64",
         "type": "float"
        },
        {
         "name": "koi_slogg",
         "rawType": "float64",
         "type": "float"
        },
        {
         "name": "koi_slogg_err1",
         "rawType": "float64",
         "type": "float"
        },
        {
         "name": "koi_slogg_err2",
         "rawType": "float64",
         "type": "float"
        },
        {
         "name": "koi_smet",
         "rawType": "float64",
         "type": "float"
        },
        {
         "name": "koi_smet_err1",
         "rawType": "float64",
         "type": "float"
        },
        {
         "name": "koi_smet_err2",
         "rawType": "float64",
         "type": "float"
        },
        {
         "name": "koi_srad",
         "rawType": "float64",
         "type": "float"
        },
        {
         "name": "koi_srad_err1",
         "rawType": "float64",
         "type": "float"
        },
        {
         "name": "koi_srad_err2",
         "rawType": "float64",
         "type": "float"
        },
        {
         "name": "koi_smass",
         "rawType": "float64",
         "type": "float"
        },
        {
         "name": "koi_smass_err1",
         "rawType": "float64",
         "type": "float"
        },
        {
         "name": "koi_smass_err2",
         "rawType": "float64",
         "type": "float"
        },
        {
         "name": "koi_sparprov",
         "rawType": "object",
         "type": "string"
        },
        {
         "name": "ra",
         "rawType": "float64",
         "type": "float"
        },
        {
         "name": "dec",
         "rawType": "float64",
         "type": "float"
        },
        {
         "name": "koi_kepmag",
         "rawType": "float64",
         "type": "float"
        },
        {
         "name": "koi_gmag",
         "rawType": "float64",
         "type": "float"
        },
        {
         "name": "koi_rmag",
         "rawType": "float64",
         "type": "float"
        },
        {
         "name": "koi_imag",
         "rawType": "float64",
         "type": "float"
        },
        {
         "name": "koi_zmag",
         "rawType": "float64",
         "type": "float"
        },
        {
         "name": "koi_jmag",
         "rawType": "float64",
         "type": "float"
        },
        {
         "name": "koi_hmag",
         "rawType": "float64",
         "type": "float"
        },
        {
         "name": "koi_kmag",
         "rawType": "float64",
         "type": "float"
        },
        {
         "name": "koi_fwm_stat_sig",
         "rawType": "float64",
         "type": "float"
        },
        {
         "name": "koi_fwm_sra",
         "rawType": "float64",
         "type": "float"
        },
        {
         "name": "koi_fwm_sra_err",
         "rawType": "float64",
         "type": "float"
        },
        {
         "name": "koi_fwm_sdec",
         "rawType": "float64",
         "type": "float"
        },
        {
         "name": "koi_fwm_sdec_err",
         "rawType": "float64",
         "type": "float"
        },
        {
         "name": "koi_fwm_srao",
         "rawType": "float64",
         "type": "float"
        },
        {
         "name": "koi_fwm_srao_err",
         "rawType": "float64",
         "type": "float"
        },
        {
         "name": "koi_fwm_sdeco",
         "rawType": "float64",
         "type": "float"
        },
        {
         "name": "koi_fwm_sdeco_err",
         "rawType": "float64",
         "type": "float"
        },
        {
         "name": "koi_fwm_prao",
         "rawType": "float64",
         "type": "float"
        },
        {
         "name": "koi_fwm_prao_err",
         "rawType": "float64",
         "type": "float"
        },
        {
         "name": "koi_fwm_pdeco",
         "rawType": "float64",
         "type": "float"
        },
        {
         "name": "koi_fwm_pdeco_err",
         "rawType": "float64",
         "type": "float"
        },
        {
         "name": "koi_dicco_mra",
         "rawType": "float64",
         "type": "float"
        },
        {
         "name": "koi_dicco_mra_err",
         "rawType": "float64",
         "type": "float"
        },
        {
         "name": "koi_dicco_mdec",
         "rawType": "float64",
         "type": "float"
        },
        {
         "name": "koi_dicco_mdec_err",
         "rawType": "float64",
         "type": "float"
        },
        {
         "name": "koi_dicco_msky",
         "rawType": "float64",
         "type": "float"
        },
        {
         "name": "koi_dicco_msky_err",
         "rawType": "float64",
         "type": "float"
        },
        {
         "name": "koi_dikco_mra",
         "rawType": "float64",
         "type": "float"
        },
        {
         "name": "koi_dikco_mra_err",
         "rawType": "float64",
         "type": "float"
        },
        {
         "name": "koi_dikco_mdec",
         "rawType": "float64",
         "type": "float"
        },
        {
         "name": "koi_dikco_mdec_err",
         "rawType": "float64",
         "type": "float"
        },
        {
         "name": "koi_dikco_msky",
         "rawType": "float64",
         "type": "float"
        },
        {
         "name": "koi_dikco_msky_err",
         "rawType": "float64",
         "type": "float"
        }
       ],
       "ref": "862a0067-2aab-418e-8d49-8cc822b27f96",
       "rows": [
        [
         "0",
         "CONFIRMED",
         "Done",
         "2018-08-16",
         "0",
         "0",
         "0",
         "0",
         "q1_q17_dr25_sup_koi",
         "NO_COMMENT",
         "9.48803557",
         "2.775e-05",
         "-2.775e-05",
         "170.53875",
         "0.00216",
         "-0.00216",
         "2455003.539",
         "0.00216",
         "-0.00216",
         "0.0",
         "0.146",
         "0.318",
         "-0.146",
         "2.9575",
         "0.0819",
         "-0.0819",
         "615.8",
         "19.5",
         "-19.5",
         "0.022344",
         "0.000832",
         "-0.000528",
         "3.20796",
         "0.33173",
         "-1.09986",
         "LS+MCMC",
         "2.26",
         "0.26",
         "-0.15",
         "0.0853",
         "89.66",
         "793.0",
         "93.59",
         "29.45",
         "-16.65",
         "24.81",
         "2.6",
         "-2.6",
         "Claret (2011 A&A 529 75) ATLAS LS",
         "0.0",
         "0.0",
         "0.2291",
         "0.4603",
         "q1_q17_dr25_koi",
         "5.135849",
         "28.47082",
         "35.8",
         "2",
         "142.0",
         "1.0",
         "q1_q17_dr25_tce",
         "11111111111111111000000000000000",
         "0.6864",
         "Mandel and Agol (2002 ApJ 580 171)",
         "010/010797/010797460/dv/kplr010797460-20160209194854_dvr.pdf",
         "010/010797/010797460/dv/kplr010797460-001-20160209194854_dvs.pdf",
         "5455.0",
         "81.0",
         "-81.0",
         "4.467",
         "0.064",
         "-0.096",
         "0.14",
         "0.15",
         "-0.15",
         "0.927",
         "0.105",
         "-0.061",
         "0.919",
         "0.052",
         "-0.046",
         "q1_q17_dr25_stellar",
         "291.93423",
         "48.141651",
         "15.347",
         "15.89",
         "15.27",
         "15.114",
         "15.006",
         "14.082",
         "13.751",
         "13.648",
         "0.002",
         "19.462294",
         "1.4e-05",
         "48.14191",
         "0.00013",
         "0.43",
         "0.51",
         "0.94",
         "0.48",
         "-0.0002",
         "0.00032",
         "-0.00055",
         "0.00031",
         "-0.01",
         "0.13",
         "0.2",
         "0.16",
         "0.2",
         "0.17",
         "0.08",
         "0.13",
         "0.31",
         "0.17",
         "0.32",
         "0.16"
        ],
        [
         "1",
         "CONFIRMED",
         "Done",
         "2018-08-16",
         "0",
         "0",
         "0",
         "0",
         "q1_q17_dr25_sup_koi",
         "NO_COMMENT",
         "54.4183827",
         "0.0002479",
         "-0.0002479",
         "162.51384",
         "0.00352",
         "-0.00352",
         "2454995.514",
         "0.00352",
         "-0.00352",
         "0.0",
         "0.586",
         "0.059",
         "-0.443",
         "4.507",
         "0.116",
         "-0.116",
         "874.8",
         "35.5",
         "-35.5",
         "0.027954",
         "0.009078",
         "-0.001347",
         "3.02368",
         "2.20489",
         "-2.49638",
         "LS+MCMC",
         "2.83",
         "0.32",
         "-0.19",
         "0.2734",
         "89.57",
         "443.0",
         "9.11",
         "2.87",
         "-1.62",
         "77.9",
         "28.4",
         "-28.4",
         "Claret (2011 A&A 529 75) ATLAS LS",
         "0.0",
         "0.0",
         "0.2291",
         "0.4603",
         "q1_q17_dr25_koi",
         "7.027669",
         "20.109507",
         "25.8",
         "2",
         "25.0",
         "2.0",
         "q1_q17_dr25_tce",
         "11111111111111111000000000000000",
         "0.0023",
         "Mandel and Agol (2002 ApJ 580 171)",
         "010/010797/010797460/dv/kplr010797460-20160209194854_dvr.pdf",
         "010/010797/010797460/dv/kplr010797460-002-20160209194854_dvs.pdf",
         "5455.0",
         "81.0",
         "-81.0",
         "4.467",
         "0.064",
         "-0.096",
         "0.14",
         "0.15",
         "-0.15",
         "0.927",
         "0.105",
         "-0.061",
         "0.919",
         "0.052",
         "-0.046",
         "q1_q17_dr25_stellar",
         "291.93423",
         "48.141651",
         "15.347",
         "15.89",
         "15.27",
         "15.114",
         "15.006",
         "14.082",
         "13.751",
         "13.648",
         "0.003",
         "19.462265",
         "2e-05",
         "48.14199",
         "0.00019",
         "-0.63",
         "0.72",
         "1.23",
         "0.68",
         "0.00066",
         "0.00065",
         "-0.00105",
         "0.00063",
         "0.39",
         "0.36",
         "0.0",
         "0.48",
         "0.39",
         "0.36",
         "0.49",
         "0.34",
         "0.12",
         "0.73",
         "0.5",
         "0.45"
        ],
        [
         "2",
         "CANDIDATE",
         "Done",
         "2018-08-16",
         "0",
         "0",
         "0",
         "0",
         "q1_q17_dr25_sup_koi",
         "DEEP_V_SHAPED",
         "19.89913995",
         "1.494e-05",
         "-1.494e-05",
         "175.850252",
         "0.000581",
         "-0.000581",
         "2455008.85",
         "0.000581",
         "-0.000581",
         "0.0",
         "0.969",
         "5.126",
         "-0.077",
         "1.7822",
         "0.0341",
         "-0.0341",
         "10829.0",
         "171.0",
         "-171.0",
         "0.154046",
         "5.034292",
         "-0.042179",
         "7.29555",
         "35.03293",
         "-2.75453",
         "LS+MCMC",
         "14.6",
         "3.92",
         "-1.31",
         "0.1419",
         "88.96",
         "638.0",
         "39.3",
         "31.04",
         "-10.49",
         "53.5",
         "25.7",
         "-25.7",
         "Claret (2011 A&A 529 75) ATLAS LS",
         "0.0",
         "0.0",
         "0.2711",
         "0.3858",
         "q1_q17_dr25_koi",
         "37.159767",
         "187.4491",
         "76.3",
         "1",
         "56.0",
         "1.0",
         "q1_q17_dr25_tce",
         "11111101110111011000000000000000",
         "0.6624",
         "Mandel and Agol (2002 ApJ 580 171)",
         "010/010811/010811496/dv/kplr010811496-20160209194854_dvr.pdf",
         "010/010811/010811496/dv/kplr010811496-001-20160209194854_dvs.pdf",
         "5853.0",
         "158.0",
         "-176.0",
         "4.544",
         "0.044",
         "-0.176",
         "-0.18",
         "0.3",
         "-0.3",
         "0.868",
         "0.233",
         "-0.078",
         "0.961",
         "0.11",
         "-0.121",
         "q1_q17_dr25_stellar",
         "297.00482",
         "48.134129",
         "15.436",
         "15.943",
         "15.39",
         "15.22",
         "15.166",
         "14.254",
         "13.9",
         "13.826",
         "0.278",
         "19.8003207",
         "1.9e-06",
         "48.13412",
         "2e-05",
         "-0.021",
         "0.069",
         "-0.038",
         "0.071",
         "0.0007",
         "0.0024",
         "0.0006",
         "0.0034",
         "-0.025",
         "0.07",
         "-0.034",
         "0.07",
         "0.042",
         "0.072",
         "0.002",
         "0.071",
         "-0.027",
         "0.074",
         "0.027",
         "0.074"
        ],
        [
         "3",
         "FALSE POSITIVE",
         "Done",
         "2018-08-16",
         "0",
         "1",
         "0",
         "0",
         "q1_q17_dr25_sup_koi",
         "MOD_ODDEVEN_DV---MOD_ODDEVEN_ALT---DEEP_V_SHAPED",
         "1.736952453",
         "2.63e-07",
         "-2.63e-07",
         "170.307565",
         "0.000115",
         "-0.000115",
         "2455003.308",
         "0.000115",
         "-0.000115",
         "0.0",
         "1.276",
         "0.115",
         "-0.092",
         "2.40641",
         "0.00537",
         "-0.00537",
         "8079.2",
         "12.8",
         "-12.8",
         "0.387394",
         "0.109232",
         "-0.08495",
         "0.2208",
         "0.00917",
         "-0.01837",
         "LS+MCMC",
         "33.46",
         "8.5",
         "-2.83",
         "0.0267",
         "67.09",
         "1395.0",
         "891.96",
         "668.95",
         "-230.35",
         "3.278",
         "0.136",
         "-0.136",
         "Claret (2011 A&A 529 75) ATLAS LS",
         "0.0",
         "0.0",
         "0.2865",
         "0.3556",
         "q1_q17_dr25_koi",
         "39.06655",
         "541.8951",
         "505.6",
         "1",
         "621.0",
         "1.0",
         "q1_q17_dr25_tce",
         "11111110111011101000000000000000",
         "0.0",
         "Mandel and Agol (2002 ApJ 580 171)",
         "010/010848/010848459/dv/kplr010848459-20160209194854_dvr.pdf",
         "010/010848/010848459/dv/kplr010848459-001-20160209194854_dvs.pdf",
         "5805.0",
         "157.0",
         "-174.0",
         "4.564",
         "0.053",
         "-0.168",
         "-0.52",
         "0.3",
         "-0.3",
         "0.791",
         "0.201",
         "-0.067",
         "0.836",
         "0.093",
         "-0.077",
         "q1_q17_dr25_stellar",
         "285.53461",
         "48.28521",
         "15.597",
         "16.1",
         "15.554",
         "15.382",
         "15.266",
         "14.326",
         "13.911",
         "13.809",
         "0.0",
         "19.03563762",
         "8.6e-07",
         "48.2852105",
         "7.4e-06",
         "-0.111",
         "0.031",
         "0.002",
         "0.027",
         "0.00302",
         "0.00057",
         "-0.00142",
         "0.00081",
         "-0.249",
         "0.072",
         "0.147",
         "0.078",
         "0.289",
         "0.079",
         "-0.257",
         "0.072",
         "0.099",
         "0.077",
         "0.276",
         "0.076"
        ],
        [
         "4",
         "CONFIRMED",
         "Done",
         "2018-08-16",
         "0",
         "0",
         "0",
         "0",
         "q1_q17_dr25_sup_koi",
         "NO_COMMENT",
         "2.525591777",
         "3.761e-06",
         "-3.761e-06",
         "171.59555",
         "0.00113",
         "-0.00113",
         "2455004.596",
         "0.00113",
         "-0.00113",
         "0.0",
         "0.701",
         "0.235",
         "-0.478",
         "1.6545",
         "0.042",
         "-0.042",
         "603.3",
         "16.9",
         "-16.9",
         "0.024064",
         "0.003751",
         "-0.001522",
         "1.98635",
         "2.71141",
         "-1.74541",
         "LS+MCMC",
         "2.75",
         "0.88",
         "-0.35",
         "0.0374",
         "85.41",
         "1406.0",
         "926.16",
         "874.33",
         "-314.24",
         "8.75",
         "4.0",
         "-4.0",
         "Claret (2011 A&A 529 75) ATLAS LS",
         "0.0",
         "0.0",
         "0.2844",
         "0.3661",
         "q1_q17_dr25_koi",
         "4.749945",
         "33.1919",
         "40.9",
         "1",
         "515.0",
         "1.0",
         "q1_q17_dr25_tce",
         "01111111111111111000000000000000",
         "0.309",
         "Mandel and Agol (2002 ApJ 580 171)",
         "010/010854/010854555/dv/kplr010854555-20160209194854_dvr.pdf",
         "010/010854/010854555/dv/kplr010854555-001-20160209194854_dvs.pdf",
         "6031.0",
         "169.0",
         "-211.0",
         "4.438",
         "0.07",
         "-0.21",
         "0.07",
         "0.25",
         "-0.3",
         "1.046",
         "0.334",
         "-0.133",
         "1.095",
         "0.151",
         "-0.136",
         "q1_q17_dr25_stellar",
         "288.75488",
         "48.2262",
         "15.509",
         "16.015",
         "15.468",
         "15.292",
         "15.241",
         "14.366",
         "14.064",
         "13.952",
         "0.733",
         "19.2503258",
         "9.7e-06",
         "48.22626",
         "0.0001",
         "-0.01",
         "0.35",
         "0.23",
         "0.37",
         "8e-05",
         "0.0002",
         "-7e-05",
         "0.00022",
         "0.03",
         "0.19",
         "-0.09",
         "0.18",
         "0.1",
         "0.14",
         "0.07",
         "0.18",
         "0.02",
         "0.16",
         "0.07",
         "0.2"
        ]
       ],
       "shape": {
        "columns": 116,
        "rows": 5
       }
      },
      "text/html": [
       "<div>\n",
       "<style scoped>\n",
       "    .dataframe tbody tr th:only-of-type {\n",
       "        vertical-align: middle;\n",
       "    }\n",
       "\n",
       "    .dataframe tbody tr th {\n",
       "        vertical-align: top;\n",
       "    }\n",
       "\n",
       "    .dataframe thead th {\n",
       "        text-align: right;\n",
       "    }\n",
       "</style>\n",
       "<table border=\"1\" class=\"dataframe\">\n",
       "  <thead>\n",
       "    <tr style=\"text-align: right;\">\n",
       "      <th></th>\n",
       "      <th>koi_disposition</th>\n",
       "      <th>koi_vet_stat</th>\n",
       "      <th>koi_vet_date</th>\n",
       "      <th>koi_fpflag_nt</th>\n",
       "      <th>koi_fpflag_ss</th>\n",
       "      <th>koi_fpflag_co</th>\n",
       "      <th>koi_fpflag_ec</th>\n",
       "      <th>koi_disp_prov</th>\n",
       "      <th>koi_comment</th>\n",
       "      <th>koi_period</th>\n",
       "      <th>...</th>\n",
       "      <th>koi_dicco_mdec</th>\n",
       "      <th>koi_dicco_mdec_err</th>\n",
       "      <th>koi_dicco_msky</th>\n",
       "      <th>koi_dicco_msky_err</th>\n",
       "      <th>koi_dikco_mra</th>\n",
       "      <th>koi_dikco_mra_err</th>\n",
       "      <th>koi_dikco_mdec</th>\n",
       "      <th>koi_dikco_mdec_err</th>\n",
       "      <th>koi_dikco_msky</th>\n",
       "      <th>koi_dikco_msky_err</th>\n",
       "    </tr>\n",
       "  </thead>\n",
       "  <tbody>\n",
       "    <tr>\n",
       "      <th>0</th>\n",
       "      <td>CONFIRMED</td>\n",
       "      <td>Done</td>\n",
       "      <td>2018-08-16</td>\n",
       "      <td>0</td>\n",
       "      <td>0</td>\n",
       "      <td>0</td>\n",
       "      <td>0</td>\n",
       "      <td>q1_q17_dr25_sup_koi</td>\n",
       "      <td>NO_COMMENT</td>\n",
       "      <td>9.488036</td>\n",
       "      <td>...</td>\n",
       "      <td>0.200</td>\n",
       "      <td>0.160</td>\n",
       "      <td>0.200</td>\n",
       "      <td>0.170</td>\n",
       "      <td>0.080</td>\n",
       "      <td>0.130</td>\n",
       "      <td>0.310</td>\n",
       "      <td>0.170</td>\n",
       "      <td>0.320</td>\n",
       "      <td>0.160</td>\n",
       "    </tr>\n",
       "    <tr>\n",
       "      <th>1</th>\n",
       "      <td>CONFIRMED</td>\n",
       "      <td>Done</td>\n",
       "      <td>2018-08-16</td>\n",
       "      <td>0</td>\n",
       "      <td>0</td>\n",
       "      <td>0</td>\n",
       "      <td>0</td>\n",
       "      <td>q1_q17_dr25_sup_koi</td>\n",
       "      <td>NO_COMMENT</td>\n",
       "      <td>54.418383</td>\n",
       "      <td>...</td>\n",
       "      <td>0.000</td>\n",
       "      <td>0.480</td>\n",
       "      <td>0.390</td>\n",
       "      <td>0.360</td>\n",
       "      <td>0.490</td>\n",
       "      <td>0.340</td>\n",
       "      <td>0.120</td>\n",
       "      <td>0.730</td>\n",
       "      <td>0.500</td>\n",
       "      <td>0.450</td>\n",
       "    </tr>\n",
       "    <tr>\n",
       "      <th>2</th>\n",
       "      <td>CANDIDATE</td>\n",
       "      <td>Done</td>\n",
       "      <td>2018-08-16</td>\n",
       "      <td>0</td>\n",
       "      <td>0</td>\n",
       "      <td>0</td>\n",
       "      <td>0</td>\n",
       "      <td>q1_q17_dr25_sup_koi</td>\n",
       "      <td>DEEP_V_SHAPED</td>\n",
       "      <td>19.899140</td>\n",
       "      <td>...</td>\n",
       "      <td>-0.034</td>\n",
       "      <td>0.070</td>\n",
       "      <td>0.042</td>\n",
       "      <td>0.072</td>\n",
       "      <td>0.002</td>\n",
       "      <td>0.071</td>\n",
       "      <td>-0.027</td>\n",
       "      <td>0.074</td>\n",
       "      <td>0.027</td>\n",
       "      <td>0.074</td>\n",
       "    </tr>\n",
       "    <tr>\n",
       "      <th>3</th>\n",
       "      <td>FALSE POSITIVE</td>\n",
       "      <td>Done</td>\n",
       "      <td>2018-08-16</td>\n",
       "      <td>0</td>\n",
       "      <td>1</td>\n",
       "      <td>0</td>\n",
       "      <td>0</td>\n",
       "      <td>q1_q17_dr25_sup_koi</td>\n",
       "      <td>MOD_ODDEVEN_DV---MOD_ODDEVEN_ALT---DEEP_V_SHAPED</td>\n",
       "      <td>1.736952</td>\n",
       "      <td>...</td>\n",
       "      <td>0.147</td>\n",
       "      <td>0.078</td>\n",
       "      <td>0.289</td>\n",
       "      <td>0.079</td>\n",
       "      <td>-0.257</td>\n",
       "      <td>0.072</td>\n",
       "      <td>0.099</td>\n",
       "      <td>0.077</td>\n",
       "      <td>0.276</td>\n",
       "      <td>0.076</td>\n",
       "    </tr>\n",
       "    <tr>\n",
       "      <th>4</th>\n",
       "      <td>CONFIRMED</td>\n",
       "      <td>Done</td>\n",
       "      <td>2018-08-16</td>\n",
       "      <td>0</td>\n",
       "      <td>0</td>\n",
       "      <td>0</td>\n",
       "      <td>0</td>\n",
       "      <td>q1_q17_dr25_sup_koi</td>\n",
       "      <td>NO_COMMENT</td>\n",
       "      <td>2.525592</td>\n",
       "      <td>...</td>\n",
       "      <td>-0.090</td>\n",
       "      <td>0.180</td>\n",
       "      <td>0.100</td>\n",
       "      <td>0.140</td>\n",
       "      <td>0.070</td>\n",
       "      <td>0.180</td>\n",
       "      <td>0.020</td>\n",
       "      <td>0.160</td>\n",
       "      <td>0.070</td>\n",
       "      <td>0.200</td>\n",
       "    </tr>\n",
       "  </tbody>\n",
       "</table>\n",
       "<p>5 rows × 116 columns</p>\n",
       "</div>"
      ],
      "text/plain": [
       "  koi_disposition koi_vet_stat koi_vet_date  koi_fpflag_nt  koi_fpflag_ss  \\\n",
       "0       CONFIRMED         Done   2018-08-16              0              0   \n",
       "1       CONFIRMED         Done   2018-08-16              0              0   \n",
       "2       CANDIDATE         Done   2018-08-16              0              0   \n",
       "3  FALSE POSITIVE         Done   2018-08-16              0              1   \n",
       "4       CONFIRMED         Done   2018-08-16              0              0   \n",
       "\n",
       "   koi_fpflag_co  koi_fpflag_ec        koi_disp_prov  \\\n",
       "0              0              0  q1_q17_dr25_sup_koi   \n",
       "1              0              0  q1_q17_dr25_sup_koi   \n",
       "2              0              0  q1_q17_dr25_sup_koi   \n",
       "3              0              0  q1_q17_dr25_sup_koi   \n",
       "4              0              0  q1_q17_dr25_sup_koi   \n",
       "\n",
       "                                        koi_comment  koi_period  ...  \\\n",
       "0                                        NO_COMMENT    9.488036  ...   \n",
       "1                                        NO_COMMENT   54.418383  ...   \n",
       "2                                     DEEP_V_SHAPED   19.899140  ...   \n",
       "3  MOD_ODDEVEN_DV---MOD_ODDEVEN_ALT---DEEP_V_SHAPED    1.736952  ...   \n",
       "4                                        NO_COMMENT    2.525592  ...   \n",
       "\n",
       "   koi_dicco_mdec  koi_dicco_mdec_err  koi_dicco_msky  koi_dicco_msky_err  \\\n",
       "0           0.200               0.160           0.200               0.170   \n",
       "1           0.000               0.480           0.390               0.360   \n",
       "2          -0.034               0.070           0.042               0.072   \n",
       "3           0.147               0.078           0.289               0.079   \n",
       "4          -0.090               0.180           0.100               0.140   \n",
       "\n",
       "   koi_dikco_mra  koi_dikco_mra_err  koi_dikco_mdec  koi_dikco_mdec_err  \\\n",
       "0          0.080              0.130           0.310               0.170   \n",
       "1          0.490              0.340           0.120               0.730   \n",
       "2          0.002              0.071          -0.027               0.074   \n",
       "3         -0.257              0.072           0.099               0.077   \n",
       "4          0.070              0.180           0.020               0.160   \n",
       "\n",
       "   koi_dikco_msky  koi_dikco_msky_err  \n",
       "0           0.320               0.160  \n",
       "1           0.500               0.450  \n",
       "2           0.027               0.074  \n",
       "3           0.276               0.076  \n",
       "4           0.070               0.200  \n",
       "\n",
       "[5 rows x 116 columns]"
      ]
     },
     "execution_count": 49,
     "metadata": {},
     "output_type": "execute_result"
    }
   ],
   "source": [
    "df_rem = df.drop(columns=columns_to_remove)\n",
    "df_rem.head()"
   ]
  },
  {
   "cell_type": "markdown",
   "id": "25abaa71",
   "metadata": {},
   "source": [
    "#### Filtered on Confirmed and X"
   ]
  },
  {
   "cell_type": "code",
   "execution_count": 50,
   "id": "ad833a36",
   "metadata": {},
   "outputs": [
    {
     "name": "stdout",
     "output_type": "stream",
     "text": [
      "Remaining dispositions:\n",
      " koi_disposition\n",
      "FALSE POSITIVE    4839\n",
      "CONFIRMED         2746\n",
      "Name: count, dtype: int64\n"
     ]
    }
   ],
   "source": [
    "label_A = \"CONFIRMED\"\n",
    "label_B = \"FALSE POSITIVE\"\n",
    "# Step 1: Filter out \"CANDIDATE\"\n",
    "df_rem = df_rem[df_rem['koi_disposition'].isin([label_A, label_B])].copy()\n",
    "\n",
    "print(\"Remaining dispositions:\\n\", df_rem['koi_disposition'].value_counts())"
   ]
  },
  {
   "cell_type": "markdown",
   "id": "aaf7e6ff",
   "metadata": {},
   "source": [
    "## EAD"
   ]
  },
  {
   "cell_type": "code",
   "execution_count": null,
   "id": "a6f49312",
   "metadata": {},
   "outputs": [
    {
     "name": "stdout",
     "output_type": "stream",
     "text": [
      "Shape of dataset: (9564, 141)\n",
      "Columns available: ['rowid', 'kepid', 'kepoi_name', 'kepler_name', 'koi_disposition', 'koi_vet_stat', 'koi_vet_date', 'koi_pdisposition', 'koi_score', 'koi_fpflag_nt', 'koi_fpflag_ss', 'koi_fpflag_co', 'koi_fpflag_ec', 'koi_disp_prov', 'koi_comment', 'koi_period', 'koi_period_err1', 'koi_period_err2', 'koi_time0bk', 'koi_time0bk_err1'] ...\n",
      "\n",
      "Disposition value counts:\n",
      " koi_disposition\n",
      "FALSE POSITIVE    4839\n",
      "CONFIRMED         2746\n",
      "CANDIDATE         1979\n",
      "Name: count, dtype: int64\n"
     ]
    },
    {
     "data": {
      "image/png": "[encoded data removed]",
      "text/plain": [
       "<Figure size 600x400 with 1 Axes>"
      ]
     },
     "metadata": {},
     "output_type": "display_data"
    },
    {
     "data": {
      "image/png": "[encoded data removed]",
      "text/plain": [
       "<Figure size 1500x400 with 3 Axes>"
      ]
     },
     "metadata": {},
     "output_type": "display_data"
    },
    {
     "data": {
      "image/png": "[encoded data removed]",
      "text/plain": [
       "<Figure size 1200x400 with 1 Axes>"
      ]
     },
     "metadata": {},
     "output_type": "display_data"
    },
    {
     "data": {
      "image/png": "[encoded data removed]",
      "text/plain": [
       "<Figure size 1200x400 with 1 Axes>"
      ]
     },
     "metadata": {},
     "output_type": "display_data"
    },
    {
     "name": "stdout",
     "output_type": "stream",
     "text": [
      "\n",
      "koi_fpflag_nt value counts:\n",
      " koi_fpflag_nt\n",
      "0      8033\n",
      "1      1530\n",
      "465       1\n",
      "Name: count, dtype: int64\n",
      "\n",
      "koi_fpflag_ss value counts:\n",
      " koi_fpflag_ss\n",
      "0    7338\n",
      "1    2226\n",
      "Name: count, dtype: int64\n",
      "\n",
      "koi_fpflag_co value counts:\n",
      " koi_fpflag_co\n",
      "0    7675\n",
      "1    1889\n",
      "Name: count, dtype: int64\n",
      "\n",
      "koi_fpflag_ec value counts:\n",
      " koi_fpflag_ec\n",
      "0    8416\n",
      "1    1148\n",
      "Name: count, dtype: int64\n"
     ]
    },
    {
     "data": {
      "image/png": "[encoded data removed]",
      "text/plain": [
       "<Figure size 800x500 with 2 Axes>"
      ]
     },
     "metadata": {},
     "output_type": "display_data"
    }
   ],
   "source": [
    "import pandas as pd\n",
    "import matplotlib.pyplot as plt\n",
    "import seaborn as sns\n",
    "\n",
    "# --- 1. Basic info ---\n",
    "print(\"Shape of dataset:\", df.shape)\n",
    "print(\"Columns available:\", df.columns.tolist()[:20], \"...\")  # show first 20 cols\n",
    "print(\"\\nDisposition value counts:\\n\", df['koi_disposition'].value_counts())\n",
    "\n",
    "# --- 2. Label balance (planet vs false positive vs candidate) ---\n",
    "plt.figure(figsize=(6,4))\n",
    "sns.countplot(x=\"koi_disposition\", data=df, order=df['koi_disposition'].value_counts().index)\n",
    "plt.title(\"Exoplanet Candidate Dispositions\")\n",
    "plt.ylabel(\"Count\")\n",
    "plt.xlabel(\"Disposition\")\n",
    "plt.xticks(rotation=20)\n",
    "plt.show()\n",
    "\n",
    "# --- 3. Key distributions (period, depth, signal-to-noise ratio) ---\n",
    "# koi_period = orbital period (days)\n",
    "# koi_depth = transit depth (ppm)\n",
    "# koi_model_snr = model signal-to-noise ratio\n",
    "features = ['koi_period', 'koi_depth', 'koi_model_snr']\n",
    "titles = ['Orbital Period (days)', 'Transit Depth (ppm)', 'Signal-to-Noise Ratio']\n",
    "\n",
    "plt.figure(figsize=(15,4))\n",
    "for i, (feat, title) in enumerate(zip(features, titles)):\n",
    "    plt.subplot(1,3,i+1)\n",
    "    sns.histplot(df[feat].dropna(), bins=50, kde=False)\n",
    "    plt.xlabel(title)\n",
    "    plt.ylabel(\"Count\")\n",
    "    plt.yscale(\"log\")  # log scale helps with skewed distributions\n",
    "plt.suptitle(\"Distribution of Key Features\")\n",
    "plt.tight_layout()\n",
    "plt.show()\n",
    "\n",
    "# --- 4. Compare distributions by disposition ---\n",
    "plt.figure(figsize=(12,4))\n",
    "sns.boxplot(x=\"koi_disposition\", y=\"koi_model_snr\", data=df)\n",
    "plt.title(\"Signal-to-Noise by Disposition\")\n",
    "plt.yscale(\"log\")\n",
    "plt.show()\n",
    "\n",
    "plt.figure(figsize=(12,4))\n",
    "sns.boxplot(x=\"koi_disposition\", y=\"koi_depth\", data=df)\n",
    "plt.title(\"Transit Depth by Disposition\")\n",
    "plt.yscale(\"log\")\n",
    "plt.show()\n",
    "\n",
    "# --- 5. Noise patterns exploration ---\n",
    "# Flag columns indicate potential false positives\n",
    "fp_flags = ['koi_fpflag_nt','koi_fpflag_ss','koi_fpflag_co','koi_fpflag_ec']\n",
    "\n",
    "for col in fp_flags:\n",
    "    if col in df.columns:\n",
    "        print(f\"\\n{col} value counts:\\n\", df[col].value_counts())\n",
    "\n",
    "plt.figure(figsize=(8,5))\n",
    "sns.heatmap(df[fp_flags].corr(), annot=True, cmap=\"coolwarm\")\n",
    "plt.title(\"Correlation of False Positive Flags\")\n",
    "plt.show()\n"
   ]
  },
  {
   "cell_type": "code",
   "execution_count": null,
   "id": "5b31274c",
   "metadata": {},
   "outputs": [],
   "source": [
    "\n",
    "\n",
    "# # Step 2: Identify problematic columns\n",
    "# # Columns where all CONFIRMED are missing OR all FALSE POSITIVE are missing\n",
    "# confirmed = df_filtered[df_filtered['koi_disposition'] == 'CONFIRMED']\n",
    "# false_pos = df_filtered[df_filtered['koi_disposition'] == 'FALSE POSITIVE']\n",
    "\n",
    "# problematic_cols = []\n",
    "# for col in df_filtered.columns:\n",
    "#     if col == 'koi_disposition':  # skip label column\n",
    "#         continue\n",
    "#     # Check if all values missing in one class\n",
    "#     if confirmed[col].isna().all() or false_pos[col].isna().all():\n",
    "#         problematic_cols.append(col)\n",
    "\n",
    "# print(\"\\nColumns with missing values in one class only (to drop):\")\n",
    "# print(problematic_cols)\n",
    "\n",
    "# # Step 3: Drop those columns\n",
    "# df_clean = df_filtered.drop(columns=problematic_cols)\n",
    "\n",
    "# print(\"\\nFinal shape after cleaning:\", df_clean.shape)"
   ]
  },
  {
   "cell_type": "markdown",
   "id": "e53d79a5",
   "metadata": {},
   "source": [
    "## Feature engineering: finding the relevant columns and creating new if needed"
   ]
  },
  {
   "cell_type": "code",
   "execution_count": 31,
   "id": "06cf536e",
   "metadata": {},
   "outputs": [
    {
     "data": {
      "application/vnd.microsoft.datawrangler.viewer.v0+json": {
       "columns": [
        {
         "name": "index",
         "rawType": "int64",
         "type": "integer"
        },
        {
         "name": "rowid",
         "rawType": "int64",
         "type": "integer"
        },
        {
         "name": "kepid",
         "rawType": "int64",
         "type": "integer"
        },
        {
         "name": "kepoi_name",
         "rawType": "object",
         "type": "string"
        },
        {
         "name": "kepler_name",
         "rawType": "object",
         "type": "unknown"
        },
        {
         "name": "koi_disposition",
         "rawType": "object",
         "type": "string"
        },
        {
         "name": "koi_vet_stat",
         "rawType": "object",
         "type": "string"
        },
        {
         "name": "koi_vet_date",
         "rawType": "object",
         "type": "string"
        },
        {
         "name": "koi_pdisposition",
         "rawType": "object",
         "type": "string"
        },
        {
         "name": "koi_score",
         "rawType": "float64",
         "type": "float"
        },
        {
         "name": "koi_fpflag_nt",
         "rawType": "int64",
         "type": "integer"
        },
        {
         "name": "koi_fpflag_ss",
         "rawType": "int64",
         "type": "integer"
        },
        {
         "name": "koi_fpflag_co",
         "rawType": "int64",
         "type": "integer"
        },
        {
         "name": "koi_fpflag_ec",
         "rawType": "int64",
         "type": "integer"
        },
        {
         "name": "koi_disp_prov",
         "rawType": "object",
         "type": "string"
        },
        {
         "name": "koi_comment",
         "rawType": "object",
         "type": "string"
        },
        {
         "name": "koi_period",
         "rawType": "float64",
         "type": "float"
        },
        {
         "name": "koi_period_err1",
         "rawType": "float64",
         "type": "float"
        },
        {
         "name": "koi_period_err2",
         "rawType": "float64",
         "type": "float"
        },
        {
         "name": "koi_time0bk",
         "rawType": "float64",
         "type": "float"
        },
        {
         "name": "koi_time0bk_err1",
         "rawType": "float64",
         "type": "float"
        },
        {
         "name": "koi_time0bk_err2",
         "rawType": "float64",
         "type": "float"
        },
        {
         "name": "koi_time0",
         "rawType": "float64",
         "type": "float"
        },
        {
         "name": "koi_time0_err1",
         "rawType": "float64",
         "type": "float"
        },
        {
         "name": "koi_time0_err2",
         "rawType": "float64",
         "type": "float"
        },
        {
         "name": "koi_eccen",
         "rawType": "float64",
         "type": "float"
        },
        {
         "name": "koi_impact",
         "rawType": "float64",
         "type": "float"
        },
        {
         "name": "koi_impact_err1",
         "rawType": "float64",
         "type": "float"
        },
        {
         "name": "koi_impact_err2",
         "rawType": "float64",
         "type": "float"
        },
        {
         "name": "koi_duration",
         "rawType": "float64",
         "type": "float"
        },
        {
         "name": "koi_duration_err1",
         "rawType": "float64",
         "type": "float"
        },
        {
         "name": "koi_duration_err2",
         "rawType": "float64",
         "type": "float"
        },
        {
         "name": "koi_depth",
         "rawType": "float64",
         "type": "float"
        },
        {
         "name": "koi_depth_err1",
         "rawType": "float64",
         "type": "float"
        },
        {
         "name": "koi_depth_err2",
         "rawType": "float64",
         "type": "float"
        },
        {
         "name": "koi_ror",
         "rawType": "float64",
         "type": "float"
        },
        {
         "name": "koi_ror_err1",
         "rawType": "float64",
         "type": "float"
        },
        {
         "name": "koi_ror_err2",
         "rawType": "float64",
         "type": "float"
        },
        {
         "name": "koi_srho",
         "rawType": "float64",
         "type": "float"
        },
        {
         "name": "koi_srho_err1",
         "rawType": "float64",
         "type": "float"
        },
        {
         "name": "koi_srho_err2",
         "rawType": "float64",
         "type": "float"
        },
        {
         "name": "koi_fittype",
         "rawType": "object",
         "type": "string"
        },
        {
         "name": "koi_prad",
         "rawType": "float64",
         "type": "float"
        },
        {
         "name": "koi_prad_err1",
         "rawType": "float64",
         "type": "float"
        },
        {
         "name": "koi_prad_err2",
         "rawType": "float64",
         "type": "float"
        },
        {
         "name": "koi_sma",
         "rawType": "float64",
         "type": "float"
        },
        {
         "name": "koi_incl",
         "rawType": "float64",
         "type": "float"
        },
        {
         "name": "koi_teq",
         "rawType": "float64",
         "type": "float"
        },
        {
         "name": "koi_insol",
         "rawType": "float64",
         "type": "float"
        },
        {
         "name": "koi_insol_err1",
         "rawType": "float64",
         "type": "float"
        },
        {
         "name": "koi_insol_err2",
         "rawType": "float64",
         "type": "float"
        },
        {
         "name": "koi_dor",
         "rawType": "float64",
         "type": "float"
        },
        {
         "name": "koi_dor_err1",
         "rawType": "float64",
         "type": "float"
        },
        {
         "name": "koi_dor_err2",
         "rawType": "float64",
         "type": "float"
        },
        {
         "name": "koi_limbdark_mod",
         "rawType": "object",
         "type": "string"
        },
        {
         "name": "koi_ldm_coeff4",
         "rawType": "float64",
         "type": "float"
        },
        {
         "name": "koi_ldm_coeff3",
         "rawType": "float64",
         "type": "float"
        },
        {
         "name": "koi_ldm_coeff2",
         "rawType": "float64",
         "type": "float"
        },
        {
         "name": "koi_ldm_coeff1",
         "rawType": "float64",
         "type": "float"
        },
        {
         "name": "koi_parm_prov",
         "rawType": "object",
         "type": "string"
        },
        {
         "name": "koi_max_sngle_ev",
         "rawType": "float64",
         "type": "float"
        },
        {
         "name": "koi_max_mult_ev",
         "rawType": "float64",
         "type": "float"
        },
        {
         "name": "koi_model_snr",
         "rawType": "float64",
         "type": "float"
        },
        {
         "name": "koi_count",
         "rawType": "int64",
         "type": "integer"
        },
        {
         "name": "koi_num_transits",
         "rawType": "float64",
         "type": "float"
        },
        {
         "name": "koi_tce_plnt_num",
         "rawType": "float64",
         "type": "float"
        },
        {
         "name": "koi_tce_delivname",
         "rawType": "object",
         "type": "string"
        },
        {
         "name": "koi_quarters",
         "rawType": "object",
         "type": "string"
        },
        {
         "name": "koi_bin_oedp_sig",
         "rawType": "float64",
         "type": "float"
        },
        {
         "name": "koi_trans_mod",
         "rawType": "object",
         "type": "string"
        },
        {
         "name": "koi_datalink_dvr",
         "rawType": "object",
         "type": "string"
        },
        {
         "name": "koi_datalink_dvs",
         "rawType": "object",
         "type": "string"
        },
        {
         "name": "koi_steff",
         "rawType": "float64",
         "type": "float"
        },
        {
         "name": "koi_steff_err1",
         "rawType": "float64",
         "type": "float"
        },
        {
         "name": "koi_steff_err2",
         "rawType": "float64",
         "type": "float"
        },
        {
         "name": "koi_slogg",
         "rawType": "float64",
         "type": "float"
        },
        {
         "name": "koi_slogg_err1",
         "rawType": "float64",
         "type": "float"
        },
        {
         "name": "koi_slogg_err2",
         "rawType": "float64",
         "type": "float"
        },
        {
         "name": "koi_smet",
         "rawType": "float64",
         "type": "float"
        },
        {
         "name": "koi_smet_err1",
         "rawType": "float64",
         "type": "float"
        },
        {
         "name": "koi_smet_err2",
         "rawType": "float64",
         "type": "float"
        },
        {
         "name": "koi_srad",
         "rawType": "float64",
         "type": "float"
        },
        {
         "name": "koi_srad_err1",
         "rawType": "float64",
         "type": "float"
        },
        {
         "name": "koi_srad_err2",
         "rawType": "float64",
         "type": "float"
        },
        {
         "name": "koi_smass",
         "rawType": "float64",
         "type": "float"
        },
        {
         "name": "koi_smass_err1",
         "rawType": "float64",
         "type": "float"
        },
        {
         "name": "koi_smass_err2",
         "rawType": "float64",
         "type": "float"
        },
        {
         "name": "koi_sparprov",
         "rawType": "object",
         "type": "string"
        },
        {
         "name": "ra",
         "rawType": "float64",
         "type": "float"
        },
        {
         "name": "dec",
         "rawType": "float64",
         "type": "float"
        },
        {
         "name": "koi_kepmag",
         "rawType": "float64",
         "type": "float"
        },
        {
         "name": "koi_gmag",
         "rawType": "float64",
         "type": "float"
        },
        {
         "name": "koi_rmag",
         "rawType": "float64",
         "type": "float"
        },
        {
         "name": "koi_imag",
         "rawType": "float64",
         "type": "float"
        },
        {
         "name": "koi_zmag",
         "rawType": "float64",
         "type": "float"
        },
        {
         "name": "koi_jmag",
         "rawType": "float64",
         "type": "float"
        },
        {
         "name": "koi_hmag",
         "rawType": "float64",
         "type": "float"
        },
        {
         "name": "koi_kmag",
         "rawType": "float64",
         "type": "float"
        },
        {
         "name": "koi_fwm_stat_sig",
         "rawType": "float64",
         "type": "float"
        },
        {
         "name": "koi_fwm_sra",
         "rawType": "float64",
         "type": "float"
        },
        {
         "name": "koi_fwm_sra_err",
         "rawType": "float64",
         "type": "float"
        },
        {
         "name": "koi_fwm_sdec",
         "rawType": "float64",
         "type": "float"
        },
        {
         "name": "koi_fwm_sdec_err",
         "rawType": "float64",
         "type": "float"
        },
        {
         "name": "koi_fwm_srao",
         "rawType": "float64",
         "type": "float"
        },
        {
         "name": "koi_fwm_srao_err",
         "rawType": "float64",
         "type": "float"
        },
        {
         "name": "koi_fwm_sdeco",
         "rawType": "float64",
         "type": "float"
        },
        {
         "name": "koi_fwm_sdeco_err",
         "rawType": "float64",
         "type": "float"
        },
        {
         "name": "koi_fwm_prao",
         "rawType": "float64",
         "type": "float"
        },
        {
         "name": "koi_fwm_prao_err",
         "rawType": "float64",
         "type": "float"
        },
        {
         "name": "koi_fwm_pdeco",
         "rawType": "float64",
         "type": "float"
        },
        {
         "name": "koi_fwm_pdeco_err",
         "rawType": "float64",
         "type": "float"
        },
        {
         "name": "koi_dicco_mra",
         "rawType": "float64",
         "type": "float"
        },
        {
         "name": "koi_dicco_mra_err",
         "rawType": "float64",
         "type": "float"
        },
        {
         "name": "koi_dicco_mdec",
         "rawType": "float64",
         "type": "float"
        },
        {
         "name": "koi_dicco_mdec_err",
         "rawType": "float64",
         "type": "float"
        },
        {
         "name": "koi_dicco_msky",
         "rawType": "float64",
         "type": "float"
        },
        {
         "name": "koi_dicco_msky_err",
         "rawType": "float64",
         "type": "float"
        },
        {
         "name": "koi_dikco_mra",
         "rawType": "float64",
         "type": "float"
        },
        {
         "name": "koi_dikco_mra_err",
         "rawType": "float64",
         "type": "float"
        },
        {
         "name": "koi_dikco_mdec",
         "rawType": "float64",
         "type": "float"
        },
        {
         "name": "koi_dikco_mdec_err",
         "rawType": "float64",
         "type": "float"
        },
        {
         "name": "koi_dikco_msky",
         "rawType": "float64",
         "type": "float"
        },
        {
         "name": "koi_dikco_msky_err",
         "rawType": "float64",
         "type": "float"
        }
       ],
       "ref": "f454af75-274c-4584-904c-438c1b121658",
       "rows": [
        [
         "0",
         "1",
         "10797460",
         "K00752.01",
         "Kepler-227 b",
         "CONFIRMED",
         "Done",
         "2018-08-16",
         "CANDIDATE",
         "1.0",
         "0",
         "0",
         "0",
         "0",
         "q1_q17_dr25_sup_koi",
         "NO_COMMENT",
         "9.48803557",
         "2.775e-05",
         "-2.775e-05",
         "170.53875",
         "0.00216",
         "-0.00216",
         "2455003.539",
         "0.00216",
         "-0.00216",
         "0.0",
         "0.146",
         "0.318",
         "-0.146",
         "2.9575",
         "0.0819",
         "-0.0819",
         "615.8",
         "19.5",
         "-19.5",
         "0.022344",
         "0.000832",
         "-0.000528",
         "3.20796",
         "0.33173",
         "-1.09986",
         "LS+MCMC",
         "2.26",
         "0.26",
         "-0.15",
         "0.0853",
         "89.66",
         "793.0",
         "93.59",
         "29.45",
         "-16.65",
         "24.81",
         "2.6",
         "-2.6",
         "Claret (2011 A&A 529 75) ATLAS LS",
         "0.0",
         "0.0",
         "0.2291",
         "0.4603",
         "q1_q17_dr25_koi",
         "5.135849",
         "28.47082",
         "35.8",
         "2",
         "142.0",
         "1.0",
         "q1_q17_dr25_tce",
         "11111111111111111000000000000000",
         "0.6864",
         "Mandel and Agol (2002 ApJ 580 171)",
         "010/010797/010797460/dv/kplr010797460-20160209194854_dvr.pdf",
         "010/010797/010797460/dv/kplr010797460-001-20160209194854_dvs.pdf",
         "5455.0",
         "81.0",
         "-81.0",
         "4.467",
         "0.064",
         "-0.096",
         "0.14",
         "0.15",
         "-0.15",
         "0.927",
         "0.105",
         "-0.061",
         "0.919",
         "0.052",
         "-0.046",
         "q1_q17_dr25_stellar",
         "291.93423",
         "48.141651",
         "15.347",
         "15.89",
         "15.27",
         "15.114",
         "15.006",
         "14.082",
         "13.751",
         "13.648",
         "0.002",
         "19.462294",
         "1.4e-05",
         "48.14191",
         "0.00013",
         "0.43",
         "0.51",
         "0.94",
         "0.48",
         "-0.0002",
         "0.00032",
         "-0.00055",
         "0.00031",
         "-0.01",
         "0.13",
         "0.2",
         "0.16",
         "0.2",
         "0.17",
         "0.08",
         "0.13",
         "0.31",
         "0.17",
         "0.32",
         "0.16"
        ],
        [
         "1",
         "2",
         "10797460",
         "K00752.02",
         "Kepler-227 c",
         "CONFIRMED",
         "Done",
         "2018-08-16",
         "CANDIDATE",
         "0.969",
         "0",
         "0",
         "0",
         "0",
         "q1_q17_dr25_sup_koi",
         "NO_COMMENT",
         "54.4183827",
         "0.0002479",
         "-0.0002479",
         "162.51384",
         "0.00352",
         "-0.00352",
         "2454995.514",
         "0.00352",
         "-0.00352",
         "0.0",
         "0.586",
         "0.059",
         "-0.443",
         "4.507",
         "0.116",
         "-0.116",
         "874.8",
         "35.5",
         "-35.5",
         "0.027954",
         "0.009078",
         "-0.001347",
         "3.02368",
         "2.20489",
         "-2.49638",
         "LS+MCMC",
         "2.83",
         "0.32",
         "-0.19",
         "0.2734",
         "89.57",
         "443.0",
         "9.11",
         "2.87",
         "-1.62",
         "77.9",
         "28.4",
         "-28.4",
         "Claret (2011 A&A 529 75) ATLAS LS",
         "0.0",
         "0.0",
         "0.2291",
         "0.4603",
         "q1_q17_dr25_koi",
         "7.027669",
         "20.109507",
         "25.8",
         "2",
         "25.0",
         "2.0",
         "q1_q17_dr25_tce",
         "11111111111111111000000000000000",
         "0.0023",
         "Mandel and Agol (2002 ApJ 580 171)",
         "010/010797/010797460/dv/kplr010797460-20160209194854_dvr.pdf",
         "010/010797/010797460/dv/kplr010797460-002-20160209194854_dvs.pdf",
         "5455.0",
         "81.0",
         "-81.0",
         "4.467",
         "0.064",
         "-0.096",
         "0.14",
         "0.15",
         "-0.15",
         "0.927",
         "0.105",
         "-0.061",
         "0.919",
         "0.052",
         "-0.046",
         "q1_q17_dr25_stellar",
         "291.93423",
         "48.141651",
         "15.347",
         "15.89",
         "15.27",
         "15.114",
         "15.006",
         "14.082",
         "13.751",
         "13.648",
         "0.003",
         "19.462265",
         "2e-05",
         "48.14199",
         "0.00019",
         "-0.63",
         "0.72",
         "1.23",
         "0.68",
         "0.00066",
         "0.00065",
         "-0.00105",
         "0.00063",
         "0.39",
         "0.36",
         "0.0",
         "0.48",
         "0.39",
         "0.36",
         "0.49",
         "0.34",
         "0.12",
         "0.73",
         "0.5",
         "0.45"
        ],
        [
         "3",
         "4",
         "10848459",
         "K00754.01",
         null,
         "FALSE POSITIVE",
         "Done",
         "2018-08-16",
         "FALSE POSITIVE",
         "0.0",
         "0",
         "1",
         "0",
         "0",
         "q1_q17_dr25_sup_koi",
         "MOD_ODDEVEN_DV---MOD_ODDEVEN_ALT---DEEP_V_SHAPED",
         "1.736952453",
         "2.63e-07",
         "-2.63e-07",
         "170.307565",
         "0.000115",
         "-0.000115",
         "2455003.308",
         "0.000115",
         "-0.000115",
         "0.0",
         "1.276",
         "0.115",
         "-0.092",
         "2.40641",
         "0.00537",
         "-0.00537",
         "8079.2",
         "12.8",
         "-12.8",
         "0.387394",
         "0.109232",
         "-0.08495",
         "0.2208",
         "0.00917",
         "-0.01837",
         "LS+MCMC",
         "33.46",
         "8.5",
         "-2.83",
         "0.0267",
         "67.09",
         "1395.0",
         "891.96",
         "668.95",
         "-230.35",
         "3.278",
         "0.136",
         "-0.136",
         "Claret (2011 A&A 529 75) ATLAS LS",
         "0.0",
         "0.0",
         "0.2865",
         "0.3556",
         "q1_q17_dr25_koi",
         "39.06655",
         "541.8951",
         "505.6",
         "1",
         "621.0",
         "1.0",
         "q1_q17_dr25_tce",
         "11111110111011101000000000000000",
         "0.0",
         "Mandel and Agol (2002 ApJ 580 171)",
         "010/010848/010848459/dv/kplr010848459-20160209194854_dvr.pdf",
         "010/010848/010848459/dv/kplr010848459-001-20160209194854_dvs.pdf",
         "5805.0",
         "157.0",
         "-174.0",
         "4.564",
         "0.053",
         "-0.168",
         "-0.52",
         "0.3",
         "-0.3",
         "0.791",
         "0.201",
         "-0.067",
         "0.836",
         "0.093",
         "-0.077",
         "q1_q17_dr25_stellar",
         "285.53461",
         "48.28521",
         "15.597",
         "16.1",
         "15.554",
         "15.382",
         "15.266",
         "14.326",
         "13.911",
         "13.809",
         "0.0",
         "19.03563762",
         "8.6e-07",
         "48.2852105",
         "7.4e-06",
         "-0.111",
         "0.031",
         "0.002",
         "0.027",
         "0.00302",
         "0.00057",
         "-0.00142",
         "0.00081",
         "-0.249",
         "0.072",
         "0.147",
         "0.078",
         "0.289",
         "0.079",
         "-0.257",
         "0.072",
         "0.099",
         "0.077",
         "0.276",
         "0.076"
        ],
        [
         "4",
         "5",
         "10854555",
         "K00755.01",
         "Kepler-664 b",
         "CONFIRMED",
         "Done",
         "2018-08-16",
         "CANDIDATE",
         "1.0",
         "0",
         "0",
         "0",
         "0",
         "q1_q17_dr25_sup_koi",
         "NO_COMMENT",
         "2.525591777",
         "3.761e-06",
         "-3.761e-06",
         "171.59555",
         "0.00113",
         "-0.00113",
         "2455004.596",
         "0.00113",
         "-0.00113",
         "0.0",
         "0.701",
         "0.235",
         "-0.478",
         "1.6545",
         "0.042",
         "-0.042",
         "603.3",
         "16.9",
         "-16.9",
         "0.024064",
         "0.003751",
         "-0.001522",
         "1.98635",
         "2.71141",
         "-1.74541",
         "LS+MCMC",
         "2.75",
         "0.88",
         "-0.35",
         "0.0374",
         "85.41",
         "1406.0",
         "926.16",
         "874.33",
         "-314.24",
         "8.75",
         "4.0",
         "-4.0",
         "Claret (2011 A&A 529 75) ATLAS LS",
         "0.0",
         "0.0",
         "0.2844",
         "0.3661",
         "q1_q17_dr25_koi",
         "4.749945",
         "33.1919",
         "40.9",
         "1",
         "515.0",
         "1.0",
         "q1_q17_dr25_tce",
         "01111111111111111000000000000000",
         "0.309",
         "Mandel and Agol (2002 ApJ 580 171)",
         "010/010854/010854555/dv/kplr010854555-20160209194854_dvr.pdf",
         "010/010854/010854555/dv/kplr010854555-001-20160209194854_dvs.pdf",
         "6031.0",
         "169.0",
         "-211.0",
         "4.438",
         "0.07",
         "-0.21",
         "0.07",
         "0.25",
         "-0.3",
         "1.046",
         "0.334",
         "-0.133",
         "1.095",
         "0.151",
         "-0.136",
         "q1_q17_dr25_stellar",
         "288.75488",
         "48.2262",
         "15.509",
         "16.015",
         "15.468",
         "15.292",
         "15.241",
         "14.366",
         "14.064",
         "13.952",
         "0.733",
         "19.2503258",
         "9.7e-06",
         "48.22626",
         "0.0001",
         "-0.01",
         "0.35",
         "0.23",
         "0.37",
         "8e-05",
         "0.0002",
         "-7e-05",
         "0.00022",
         "0.03",
         "0.19",
         "-0.09",
         "0.18",
         "0.1",
         "0.14",
         "0.07",
         "0.18",
         "0.02",
         "0.16",
         "0.07",
         "0.2"
        ],
        [
         "5",
         "6",
         "10872983",
         "K00756.01",
         "Kepler-228 d",
         "CONFIRMED",
         "Done",
         "2018-08-16",
         "CANDIDATE",
         "1.0",
         "0",
         "0",
         "0",
         "0",
         "q1_q17_dr25_sup_koi",
         "NO_COMMENT",
         "11.09432054",
         "2.036e-05",
         "-2.036e-05",
         "171.20116",
         "0.00141",
         "-0.00141",
         "2455004.201",
         "0.00141",
         "-0.00141",
         "0.0",
         "0.538",
         "0.03",
         "-0.428",
         "4.5945",
         "0.061",
         "-0.061",
         "1517.5",
         "24.2",
         "-24.2",
         "0.036779",
         "0.005115",
         "-0.001065",
         "0.67324",
         "0.33286",
         "-0.38858",
         "LS+MCMC",
         "3.9",
         "1.27",
         "-0.42",
         "0.0992",
         "88.11",
         "835.0",
         "114.81",
         "112.85",
         "-36.7",
         "16.36",
         "8.1",
         "-8.1",
         "Claret (2011 A&A 529 75) ATLAS LS",
         "0.0",
         "0.0",
         "0.2889",
         "0.3511",
         "q1_q17_dr25_koi",
         "9.046456",
         "55.204865",
         "66.5",
         "3",
         "95.0",
         "1.0",
         "q1_q17_dr25_tce",
         "01111101110111011000000000000000",
         "0.0975",
         "Mandel and Agol (2002 ApJ 580 171)",
         "010/010872/010872983/dv/kplr010872983-20160209194854_dvr.pdf",
         "010/010872/010872983/dv/kplr010872983-001-20160209194854_dvs.pdf",
         "6046.0",
         "189.0",
         "-232.0",
         "4.486",
         "0.054",
         "-0.229",
         "-0.08",
         "0.25",
         "-0.3",
         "0.972",
         "0.315",
         "-0.105",
         "1.053",
         "0.135",
         "-0.15",
         "q1_q17_dr25_stellar",
         "296.28613",
         "48.22467",
         "15.714",
         "16.234",
         "15.677",
         "15.492",
         "15.441",
         "14.528",
         "14.113",
         "14.132",
         null,
         "19.7524061",
         "6.1e-06",
         "48.22471",
         "6.5e-05",
         "-0.12",
         "0.22",
         "0.14",
         "0.24",
         "4e-05",
         "0.00034",
         null,
         null,
         "0.04",
         "0.12",
         "-0.07",
         "0.11",
         "0.08",
         "0.13",
         "-0.02",
         "0.13",
         "-0.08",
         "0.1",
         "0.08",
         "0.1"
        ]
       ],
       "shape": {
        "columns": 122,
        "rows": 5
       }
      },
      "text/html": [
       "<div>\n",
       "<style scoped>\n",
       "    .dataframe tbody tr th:only-of-type {\n",
       "        vertical-align: middle;\n",
       "    }\n",
       "\n",
       "    .dataframe tbody tr th {\n",
       "        vertical-align: top;\n",
       "    }\n",
       "\n",
       "    .dataframe thead th {\n",
       "        text-align: right;\n",
       "    }\n",
       "</style>\n",
       "<table border=\"1\" class=\"dataframe\">\n",
       "  <thead>\n",
       "    <tr style=\"text-align: right;\">\n",
       "      <th></th>\n",
       "      <th>rowid</th>\n",
       "      <th>kepid</th>\n",
       "      <th>kepoi_name</th>\n",
       "      <th>kepler_name</th>\n",
       "      <th>koi_disposition</th>\n",
       "      <th>koi_vet_stat</th>\n",
       "      <th>koi_vet_date</th>\n",
       "      <th>koi_pdisposition</th>\n",
       "      <th>koi_score</th>\n",
       "      <th>koi_fpflag_nt</th>\n",
       "      <th>...</th>\n",
       "      <th>koi_dicco_mdec</th>\n",
       "      <th>koi_dicco_mdec_err</th>\n",
       "      <th>koi_dicco_msky</th>\n",
       "      <th>koi_dicco_msky_err</th>\n",
       "      <th>koi_dikco_mra</th>\n",
       "      <th>koi_dikco_mra_err</th>\n",
       "      <th>koi_dikco_mdec</th>\n",
       "      <th>koi_dikco_mdec_err</th>\n",
       "      <th>koi_dikco_msky</th>\n",
       "      <th>koi_dikco_msky_err</th>\n",
       "    </tr>\n",
       "  </thead>\n",
       "  <tbody>\n",
       "    <tr>\n",
       "      <th>0</th>\n",
       "      <td>1</td>\n",
       "      <td>10797460</td>\n",
       "      <td>K00752.01</td>\n",
       "      <td>Kepler-227 b</td>\n",
       "      <td>CONFIRMED</td>\n",
       "      <td>Done</td>\n",
       "      <td>2018-08-16</td>\n",
       "      <td>CANDIDATE</td>\n",
       "      <td>1.000</td>\n",
       "      <td>0</td>\n",
       "      <td>...</td>\n",
       "      <td>0.200</td>\n",
       "      <td>0.160</td>\n",
       "      <td>0.200</td>\n",
       "      <td>0.170</td>\n",
       "      <td>0.080</td>\n",
       "      <td>0.130</td>\n",
       "      <td>0.310</td>\n",
       "      <td>0.170</td>\n",
       "      <td>0.320</td>\n",
       "      <td>0.160</td>\n",
       "    </tr>\n",
       "    <tr>\n",
       "      <th>1</th>\n",
       "      <td>2</td>\n",
       "      <td>10797460</td>\n",
       "      <td>K00752.02</td>\n",
       "      <td>Kepler-227 c</td>\n",
       "      <td>CONFIRMED</td>\n",
       "      <td>Done</td>\n",
       "      <td>2018-08-16</td>\n",
       "      <td>CANDIDATE</td>\n",
       "      <td>0.969</td>\n",
       "      <td>0</td>\n",
       "      <td>...</td>\n",
       "      <td>0.000</td>\n",
       "      <td>0.480</td>\n",
       "      <td>0.390</td>\n",
       "      <td>0.360</td>\n",
       "      <td>0.490</td>\n",
       "      <td>0.340</td>\n",
       "      <td>0.120</td>\n",
       "      <td>0.730</td>\n",
       "      <td>0.500</td>\n",
       "      <td>0.450</td>\n",
       "    </tr>\n",
       "    <tr>\n",
       "      <th>3</th>\n",
       "      <td>4</td>\n",
       "      <td>10848459</td>\n",
       "      <td>K00754.01</td>\n",
       "      <td>NaN</td>\n",
       "      <td>FALSE POSITIVE</td>\n",
       "      <td>Done</td>\n",
       "      <td>2018-08-16</td>\n",
       "      <td>FALSE POSITIVE</td>\n",
       "      <td>0.000</td>\n",
       "      <td>0</td>\n",
       "      <td>...</td>\n",
       "      <td>0.147</td>\n",
       "      <td>0.078</td>\n",
       "      <td>0.289</td>\n",
       "      <td>0.079</td>\n",
       "      <td>-0.257</td>\n",
       "      <td>0.072</td>\n",
       "      <td>0.099</td>\n",
       "      <td>0.077</td>\n",
       "      <td>0.276</td>\n",
       "      <td>0.076</td>\n",
       "    </tr>\n",
       "    <tr>\n",
       "      <th>4</th>\n",
       "      <td>5</td>\n",
       "      <td>10854555</td>\n",
       "      <td>K00755.01</td>\n",
       "      <td>Kepler-664 b</td>\n",
       "      <td>CONFIRMED</td>\n",
       "      <td>Done</td>\n",
       "      <td>2018-08-16</td>\n",
       "      <td>CANDIDATE</td>\n",
       "      <td>1.000</td>\n",
       "      <td>0</td>\n",
       "      <td>...</td>\n",
       "      <td>-0.090</td>\n",
       "      <td>0.180</td>\n",
       "      <td>0.100</td>\n",
       "      <td>0.140</td>\n",
       "      <td>0.070</td>\n",
       "      <td>0.180</td>\n",
       "      <td>0.020</td>\n",
       "      <td>0.160</td>\n",
       "      <td>0.070</td>\n",
       "      <td>0.200</td>\n",
       "    </tr>\n",
       "    <tr>\n",
       "      <th>5</th>\n",
       "      <td>6</td>\n",
       "      <td>10872983</td>\n",
       "      <td>K00756.01</td>\n",
       "      <td>Kepler-228 d</td>\n",
       "      <td>CONFIRMED</td>\n",
       "      <td>Done</td>\n",
       "      <td>2018-08-16</td>\n",
       "      <td>CANDIDATE</td>\n",
       "      <td>1.000</td>\n",
       "      <td>0</td>\n",
       "      <td>...</td>\n",
       "      <td>-0.070</td>\n",
       "      <td>0.110</td>\n",
       "      <td>0.080</td>\n",
       "      <td>0.130</td>\n",
       "      <td>-0.020</td>\n",
       "      <td>0.130</td>\n",
       "      <td>-0.080</td>\n",
       "      <td>0.100</td>\n",
       "      <td>0.080</td>\n",
       "      <td>0.100</td>\n",
       "    </tr>\n",
       "  </tbody>\n",
       "</table>\n",
       "<p>5 rows × 122 columns</p>\n",
       "</div>"
      ],
      "text/plain": [
       "   rowid     kepid kepoi_name   kepler_name koi_disposition koi_vet_stat  \\\n",
       "0      1  10797460  K00752.01  Kepler-227 b       CONFIRMED         Done   \n",
       "1      2  10797460  K00752.02  Kepler-227 c       CONFIRMED         Done   \n",
       "3      4  10848459  K00754.01           NaN  FALSE POSITIVE         Done   \n",
       "4      5  10854555  K00755.01  Kepler-664 b       CONFIRMED         Done   \n",
       "5      6  10872983  K00756.01  Kepler-228 d       CONFIRMED         Done   \n",
       "\n",
       "  koi_vet_date koi_pdisposition  koi_score  koi_fpflag_nt  ...  \\\n",
       "0   2018-08-16        CANDIDATE      1.000              0  ...   \n",
       "1   2018-08-16        CANDIDATE      0.969              0  ...   \n",
       "3   2018-08-16   FALSE POSITIVE      0.000              0  ...   \n",
       "4   2018-08-16        CANDIDATE      1.000              0  ...   \n",
       "5   2018-08-16        CANDIDATE      1.000              0  ...   \n",
       "\n",
       "   koi_dicco_mdec  koi_dicco_mdec_err  koi_dicco_msky koi_dicco_msky_err  \\\n",
       "0           0.200               0.160           0.200              0.170   \n",
       "1           0.000               0.480           0.390              0.360   \n",
       "3           0.147               0.078           0.289              0.079   \n",
       "4          -0.090               0.180           0.100              0.140   \n",
       "5          -0.070               0.110           0.080              0.130   \n",
       "\n",
       "  koi_dikco_mra  koi_dikco_mra_err  koi_dikco_mdec  koi_dikco_mdec_err  \\\n",
       "0         0.080              0.130           0.310               0.170   \n",
       "1         0.490              0.340           0.120               0.730   \n",
       "3        -0.257              0.072           0.099               0.077   \n",
       "4         0.070              0.180           0.020               0.160   \n",
       "5        -0.020              0.130          -0.080               0.100   \n",
       "\n",
       "   koi_dikco_msky  koi_dikco_msky_err  \n",
       "0           0.320               0.160  \n",
       "1           0.500               0.450  \n",
       "3           0.276               0.076  \n",
       "4           0.070               0.200  \n",
       "5           0.080               0.100  \n",
       "\n",
       "[5 rows x 122 columns]"
      ]
     },
     "execution_count": 31,
     "metadata": {},
     "output_type": "execute_result"
    }
   ],
   "source": [
    "df_filtered.head()"
   ]
  }
 ],
 "metadata": {
  "kernelspec": {
   "display_name": "venv",
   "language": "python",
   "name": "python3"
  },
  "language_info": {
   "codemirror_mode": {
    "name": "ipython",
    "version": 3
   },
   "file_extension": ".py",
   "mimetype": "text/x-python",
   "name": "python",
   "nbconvert_exporter": "python",
   "pygments_lexer": "ipython3",
   "version": "3.13.1"
  }
 },
 "nbformat": 4,
 "nbformat_minor": 5
}
